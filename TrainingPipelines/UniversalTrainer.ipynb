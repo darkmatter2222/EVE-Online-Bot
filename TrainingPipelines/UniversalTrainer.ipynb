{
 "cells": [
  {
   "cell_type": "code",
   "execution_count": 4,
   "id": "4b66d6b6-3f50-4d52-9860-e45d5e0f4f71",
   "metadata": {},
   "outputs": [],
   "source": [
    "import sys, os, decimal, json\n",
    "sys.path.append(os.path.realpath('..'))\n",
    "import json, time\n",
    "\n",
    "from TrainingPipelines.ImageClassifier.ModelBuilder import build_and_train"
   ]
  },
  {
   "cell_type": "code",
   "execution_count": 5,
   "id": "0e51dd3b-7554-4b7a-8bb2-702f2eaaa04a",
   "metadata": {},
   "outputs": [
    {
     "name": "stdout",
     "output_type": "stream",
     "text": [
      "395\n",
      "Found 395 files belonging to 5 classes.\n",
      "Using 316 files for training.\n",
      "Found 395 files belonging to 5 classes.\n",
      "Using 79 files for validation.\n",
      "['both_running', 'invalid', 'miner_1_running', 'miner_2_running', 'no_miners_running']\n",
      "Epoch 1/10\n",
      "316/316 [==============================] - 5s 8ms/step - loss: 1.4771 - accuracy: 0.4399 - val_loss: 1.4828 - val_accuracy: 0.4557\n",
      "Epoch 2/10\n",
      "316/316 [==============================] - 2s 8ms/step - loss: 1.0048 - accuracy: 0.6013 - val_loss: 0.2388 - val_accuracy: 0.9620\n",
      "Epoch 3/10\n",
      "316/316 [==============================] - 2s 7ms/step - loss: 0.0722 - accuracy: 0.9778 - val_loss: 0.0245 - val_accuracy: 1.0000\n",
      "Epoch 4/10\n",
      "316/316 [==============================] - 2s 7ms/step - loss: 0.0184 - accuracy: 0.9905 - val_loss: 0.0126 - val_accuracy: 1.0000\n",
      "Epoch 5/10\n",
      "316/316 [==============================] - 2s 7ms/step - loss: 0.0301 - accuracy: 0.9873 - val_loss: 0.0011 - val_accuracy: 1.0000\n",
      "Epoch 6/10\n",
      "316/316 [==============================] - 2s 8ms/step - loss: 9.4972e-04 - accuracy: 1.0000 - val_loss: 6.6571e-04 - val_accuracy: 1.0000\n",
      "Epoch 7/10\n",
      "316/316 [==============================] - 2s 7ms/step - loss: 4.5312e-04 - accuracy: 1.0000 - val_loss: 5.5883e-04 - val_accuracy: 1.0000\n",
      "Epoch 8/10\n",
      "316/316 [==============================] - 2s 7ms/step - loss: 2.0276e-04 - accuracy: 1.0000 - val_loss: 2.6488e-04 - val_accuracy: 1.0000\n",
      "Epoch 9/10\n",
      "316/316 [==============================] - 2s 8ms/step - loss: 1.1675e-04 - accuracy: 1.0000 - val_loss: 1.6439e-04 - val_accuracy: 1.0000\n",
      "Epoch 10/10\n",
      "316/316 [==============================] - 2s 7ms/step - loss: 7.9896e-05 - accuracy: 1.0000 - val_loss: 1.0515e-04 - val_accuracy: 1.0000\n"
     ]
    },
    {
     "data": {
      "text/plain": [
       "{'image_resize': [116, 26],\n",
       " 'class_location': 'O:\\\\source\\\\repos\\\\EVE-Online-Bot\\\\training_data\\\\mining_tool_state\\\\mining_tool_state_classes.json',\n",
       " 'model_location': 'O:\\\\source\\\\repos\\\\EVE-Online-Bot\\\\training_data\\\\mining_tool_state\\\\mining_tool_state_model.h5'}"
      ]
     },
     "execution_count": 5,
     "metadata": {},
     "output_type": "execute_result"
    }
   ],
   "source": [
    "model_name = 'mining_tool_state'\n",
    "training_root = r'O:\\source\\repos\\EVE-Online-Bot\\training_data\\mining_tool_state'\n",
    "\n",
    "results = build_and_train(root_image_directory=training_root, model_name=model_name)\n",
    "results"
   ]
  },
  {
   "cell_type": "code",
   "execution_count": 6,
   "id": "3bce9d14-7d37-4e8b-b621-b8923c021c9d",
   "metadata": {},
   "outputs": [
    {
     "name": "stdout",
     "output_type": "stream",
     "text": [
      "30\n",
      "Found 31 files belonging to 4 classes.\n",
      "Using 25 files for training.\n",
      "Found 31 files belonging to 4 classes.\n",
      "Using 6 files for validation.\n",
      "['char_select', 'connection_lost', 'in_flight', 'in_hanger']\n",
      "Epoch 1/10\n",
      "25/25 [==============================] - 2s 49ms/step - loss: 1.3471 - accuracy: 0.6400 - val_loss: 0.1132 - val_accuracy: 1.0000\n",
      "Epoch 2/10\n",
      "25/25 [==============================] - 1s 45ms/step - loss: 0.0455 - accuracy: 1.0000 - val_loss: 0.0021 - val_accuracy: 1.0000\n",
      "Epoch 3/10\n",
      "25/25 [==============================] - 1s 44ms/step - loss: 0.0015 - accuracy: 1.0000 - val_loss: 1.5000e-05 - val_accuracy: 1.0000\n",
      "Epoch 4/10\n",
      "25/25 [==============================] - 1s 38ms/step - loss: 2.2120e-05 - accuracy: 1.0000 - val_loss: 1.1941e-05 - val_accuracy: 1.0000\n",
      "Epoch 5/10\n",
      "25/25 [==============================] - 1s 35ms/step - loss: 1.6818e-05 - accuracy: 1.0000 - val_loss: 8.2452e-06 - val_accuracy: 1.0000\n",
      "Epoch 6/10\n",
      "25/25 [==============================] - 1s 38ms/step - loss: 9.9276e-06 - accuracy: 1.0000 - val_loss: 6.0598e-06 - val_accuracy: 1.0000\n",
      "Epoch 7/10\n",
      "25/25 [==============================] - 1s 32ms/step - loss: 6.5803e-06 - accuracy: 1.0000 - val_loss: 4.3909e-06 - val_accuracy: 1.0000\n",
      "Epoch 8/10\n",
      "25/25 [==============================] - 1s 48ms/step - loss: 4.2391e-06 - accuracy: 1.0000 - val_loss: 3.7551e-06 - val_accuracy: 1.0000\n",
      "Epoch 9/10\n",
      "25/25 [==============================] - 1s 44ms/step - loss: 3.4284e-06 - accuracy: 1.0000 - val_loss: 3.2981e-06 - val_accuracy: 1.0000\n",
      "Epoch 10/10\n",
      "25/25 [==============================] - 1s 35ms/step - loss: 2.7609e-06 - accuracy: 1.0000 - val_loss: 2.4040e-06 - val_accuracy: 1.0000\n"
     ]
    },
    {
     "data": {
      "text/plain": [
       "{'image_resize': [206, 384],\n",
       " 'class_location': 'O:\\\\source\\\\repos\\\\EVE-Online-Bot\\\\training_data\\\\game_state\\\\game_state_classes.json',\n",
       " 'model_location': 'O:\\\\source\\\\repos\\\\EVE-Online-Bot\\\\training_data\\\\game_state\\\\game_state_model.h5'}"
      ]
     },
     "execution_count": 6,
     "metadata": {},
     "output_type": "execute_result"
    }
   ],
   "source": [
    "model_name = 'game_state'\n",
    "training_root = r'O:\\source\\repos\\EVE-Online-Bot\\training_data\\game_state'\n",
    "\n",
    "results = build_and_train(root_image_directory=training_root, model_name=model_name)\n",
    "results"
   ]
  },
  {
   "cell_type": "code",
   "execution_count": null,
   "id": "c4f90dc0-9d46-4dc9-a951-2bb30798429d",
   "metadata": {},
   "outputs": [],
   "source": []
  }
 ],
 "metadata": {
  "kernelspec": {
   "display_name": "Python 3 (ipykernel)",
   "language": "python",
   "name": "python3"
  },
  "language_info": {
   "codemirror_mode": {
    "name": "ipython",
    "version": 3
   },
   "file_extension": ".py",
   "mimetype": "text/x-python",
   "name": "python",
   "nbconvert_exporter": "python",
   "pygments_lexer": "ipython3",
   "version": "3.10.9"
  }
 },
 "nbformat": 4,
 "nbformat_minor": 5
}
