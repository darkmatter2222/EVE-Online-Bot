{
 "cells": [
  {
   "cell_type": "code",
   "execution_count": 1,
   "id": "4b66d6b6-3f50-4d52-9860-e45d5e0f4f71",
   "metadata": {},
   "outputs": [],
   "source": [
    "import sys, os, decimal, json\n",
    "sys.path.append(os.path.realpath('..'))\n",
    "import json, time\n",
    "\n",
    "from TrainingPipelines.ImageClassifier.ModelBuilder import build_and_train"
   ]
  },
  {
   "cell_type": "code",
   "execution_count": null,
   "id": "0e51dd3b-7554-4b7a-8bb2-702f2eaaa04a",
   "metadata": {},
   "outputs": [],
   "source": [
    "model_name = 'mining_tool_state'\n",
    "training_root = r'O:\\source\\repos\\EVE-Online-Bot\\training_data\\mining_tool_state'\n",
    "\n",
    "results = build_and_train(root_image_directory=training_root, model_name=model_name)\n",
    "results"
   ]
  },
  {
   "cell_type": "code",
   "execution_count": null,
   "id": "3bce9d14-7d37-4e8b-b621-b8923c021c9d",
   "metadata": {},
   "outputs": [],
   "source": [
    "model_name = 'game_state'\n",
    "training_root = r'O:\\source\\repos\\EVE-Online-Bot\\training_data\\game_state'\n",
    "\n",
    "results = build_and_train(root_image_directory=training_root, model_name=model_name)\n",
    "results"
   ]
  },
  {
   "cell_type": "code",
   "execution_count": null,
   "id": "c4f90dc0-9d46-4dc9-a951-2bb30798429d",
   "metadata": {},
   "outputs": [],
   "source": []
  }
 ],
 "metadata": {
  "kernelspec": {
   "display_name": "Python 3 (ipykernel)",
   "language": "python",
   "name": "python3"
  },
  "language_info": {
   "codemirror_mode": {
    "name": "ipython",
    "version": 3
   },
   "file_extension": ".py",
   "mimetype": "text/x-python",
   "name": "python",
   "nbconvert_exporter": "python",
   "pygments_lexer": "ipython3",
   "version": "3.10.9"
  }
 },
 "nbformat": 4,
 "nbformat_minor": 5
}
