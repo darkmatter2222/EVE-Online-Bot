{
 "cells": [
  {
   "cell_type": "code",
   "execution_count": 5,
   "id": "4b66d6b6-3f50-4d52-9860-e45d5e0f4f71",
   "metadata": {},
   "outputs": [],
   "source": [
    "import sys, os, decimal, json\n",
    "sys.path.append(os.path.realpath('..'))\n",
    "import json, time\n",
    "import pandas as pd\n",
    "import matplotlib.pyplot as plt\n",
    "\n",
    "from TrainingPipelines.ImageClassifier.ModelBuilder import build_and_train\n",
    "\n",
    "from google.cloud import storage\n",
    "import os\n",
    "from pathlib import Path\n",
    "from dotenv import load_dotenv\n",
    "\n",
    "env_path = Path(fr\"{os.environ['USERPROFILE']}\\.env\")\n",
    "load_dotenv(dotenv_path=env_path)\n",
    "\n",
    "os.environ[\"GOOGLE_APPLICATION_CREDENTIALS\"] = os.getenv(\"Eve_Online_GCP_Creds_File\")\n",
    "\n",
    "import seaborn as sns\n",
    "import mplcyberpunk\n",
    "\n",
    "plt.style.use(\"cyberpunk\")\n",
    "plt.rcParams['figure.facecolor'] = '#0d1117'\n",
    "plt.rcParams['axes.facecolor'] = '#0d1117'\n",
    "plt.rcParams['savefig.facecolor'] = '#0d1117'"
   ]
  },
  {
   "cell_type": "code",
   "execution_count": 6,
   "id": "e29ace5b-9da5-49ce-aa90-472c10c9c82a",
   "metadata": {
    "tags": []
   },
   "outputs": [],
   "source": [
    "def render_cm(stats):\n",
    "    df_cm = pd.DataFrame(stats['cm'])\n",
    "    plt.figure(figsize = (10,10))\n",
    "    sns.heatmap(df_cm, annot=True)\n",
    "\n",
    "def write_rendering(file, rendering_dict):\n",
    "    json_object = json.dumps(rendering_dict, indent=1)\n",
    "    with open(file, \"w\") as outfile:\n",
    "        outfile.write(json_object)    \n",
    "\n",
    "def save_to_gcp(source_file, dest_file):\n",
    "    storage_client = storage.Client()\n",
    "    bucket = storage_client.get_bucket(\"eve_online_models\") # your bucket name\n",
    "    blob = bucket.blob(dest_file) \n",
    "    blob.upload_from_filename(source_file)\n",
    "    #blob = bucket.blob('eve_online_models/Eve_Online_Models/test.h5') \n",
    "    #blob.upload_from_filename(r\"O:\\eve_models\\training_data\\game_state\\game_state_model.h5\")"
   ]
  },
  {
   "cell_type": "code",
   "execution_count": null,
   "id": "fad59514-a2f9-4938-9f1e-57fa48ade230",
   "metadata": {
    "tags": []
   },
   "outputs": [
    {
     "name": "stdout",
     "output_type": "stream",
     "text": [
      "1755\n",
      "Found 1755 files belonging to 25 classes.\n",
      "Using 1404 files for training.\n",
      "Found 1755 files belonging to 25 classes.\n",
      "Using 351 files for validation.\n",
      "['200', '210', '220', '250', '260', '270', '290', '310', '320', '330', '340', '350', '360', '370', '380', '390', '400', '410', '420', '430', '440', '460', '470', '480', '490']\n",
      "Epoch 1/30\n",
      "1404/1404 [==============================] - 12s 7ms/step - loss: 1.0468 - accuracy: 0.8034 - val_loss: 0.3581 - val_accuracy: 0.9088\n",
      "Epoch 2/30\n",
      "1404/1404 [==============================] - 10s 7ms/step - loss: 0.4485 - accuracy: 0.8989 - val_loss: 0.2487 - val_accuracy: 0.9430\n",
      "Epoch 3/30\n",
      "1404/1404 [==============================] - 10s 7ms/step - loss: 0.3596 - accuracy: 0.9195 - val_loss: 0.2327 - val_accuracy: 0.9430\n",
      "Epoch 4/30\n",
      "1397/1404 [============================>.] - ETA: 0s - loss: 0.3304 - accuracy: 0.9105"
     ]
    }
   ],
   "source": [
    "model_name = 'route_y_large_vert_class_v2'\n",
    "training_root = r'O:\\eve_models\\training_data\\route_y_large_vert_class_v2'\n",
    "model_file = f'{training_root}/{model_name}_model.h5'\n",
    "meta_file = f'{training_root}/{model_name}_meta.json'\n",
    "\n",
    "params = {\n",
    "    'root_image_directory': training_root,\n",
    "    'model_location': model_file,\n",
    "    'model_name': model_name,\n",
    "    'epochs':30, \n",
    "    'resize_ratio':1\n",
    "}\n",
    "\n",
    "stats, rendering = build_and_train(**params)\n",
    "render_cm(stats)\n",
    "write_rendering(meta_file, rendering)\n",
    "print(rendering)\n",
    "\n",
    "save_to_gcp(source_file=model_file, dest_file=f'{model_name}/{model_name}_model.h5')\n",
    "save_to_gcp(source_file=meta_file, dest_file=f'{model_name}/{model_name}_meta.json')"
   ]
  },
  {
   "cell_type": "code",
   "execution_count": null,
   "id": "b102215a-95d9-46b1-9af3-05ac830aed23",
   "metadata": {
    "tags": []
   },
   "outputs": [],
   "source": [
    "model_name = 'set_dest'\n",
    "training_root = r'O:\\eve_models\\training_data\\set_dest'\n",
    "model_file = f'{training_root}/{model_name}_model.h5'\n",
    "meta_file = f'{training_root}/{model_name}_meta.json'\n",
    "\n",
    "params = {\n",
    "    'root_image_directory': training_root,\n",
    "    'model_location': model_file,\n",
    "    'model_name': model_name\n",
    "}\n",
    "\n",
    "stats, rendering = build_and_train(**params)\n",
    "render_cm(stats)\n",
    "write_rendering(meta_file, rendering)\n",
    "print(rendering)\n",
    "\n",
    "save_to_gcp(source_file=model_file, dest_file=f'{model_name}/{model_name}_model.h5')\n",
    "save_to_gcp(source_file=meta_file, dest_file=f'{model_name}/{model_name}_meta.json')"
   ]
  },
  {
   "cell_type": "code",
   "execution_count": null,
   "id": "4d26282f-cce6-4c44-963e-9837217d3d99",
   "metadata": {
    "tags": []
   },
   "outputs": [],
   "source": [
    "model_name = 'hanger_menus'\n",
    "training_root = r'O:\\eve_models\\training_data\\hanger_menus'\n",
    "model_file = f'{training_root}/{model_name}_model.h5'\n",
    "meta_file = f'{training_root}/{model_name}_meta.json'\n",
    "\n",
    "params = {\n",
    "    'root_image_directory': training_root,\n",
    "    'model_location': model_file,\n",
    "    'model_name': model_name\n",
    "}\n",
    "\n",
    "stats, rendering = build_and_train(**params)\n",
    "render_cm(stats)\n",
    "write_rendering(meta_file, rendering)\n",
    "print(rendering)\n",
    "\n",
    "save_to_gcp(source_file=model_file, dest_file=f'{model_name}/{model_name}_model.h5')\n",
    "save_to_gcp(source_file=meta_file, dest_file=f'{model_name}/{model_name}_meta.json')"
   ]
  },
  {
   "cell_type": "code",
   "execution_count": null,
   "id": "7495858b-0d6c-4c05-aef9-2f62eb793f0a",
   "metadata": {},
   "outputs": [],
   "source": [
    "model_name = 'nav_options'\n",
    "training_root = r'O:\\eve_models\\training_data\\nav_options'\n",
    "model_file = f'{training_root}/{model_name}_model.h5'\n",
    "meta_file = f'{training_root}/{model_name}_meta.json'\n",
    "\n",
    "params = {\n",
    "    'root_image_directory': training_root,\n",
    "    'model_location': model_file,\n",
    "    'model_name': model_name\n",
    "}\n",
    "\n",
    "stats, rendering = build_and_train(**params)\n",
    "render_cm(stats)\n",
    "write_rendering(meta_file, rendering)\n",
    "print(rendering)\n",
    "\n",
    "save_to_gcp(source_file=model_file, dest_file=f'{model_name}/{model_name}_model.h5')\n",
    "save_to_gcp(source_file=meta_file, dest_file=f'{model_name}/{model_name}_meta.json')"
   ]
  },
  {
   "cell_type": "code",
   "execution_count": null,
   "id": "0e51dd3b-7554-4b7a-8bb2-702f2eaaa04a",
   "metadata": {},
   "outputs": [],
   "source": [
    "model_name = 'mining_tool_state'\n",
    "training_root = r'O:\\eve_models\\training_data\\mining_tool_state'\n",
    "model_file = f'{training_root}/{model_name}_model.h5'\n",
    "meta_file = f'{training_root}/{model_name}_meta.json'\n",
    "\n",
    "params = {\n",
    "    'root_image_directory': training_root,\n",
    "    'model_location': model_file,\n",
    "    'model_name': model_name\n",
    "}\n",
    "\n",
    "stats, rendering = build_and_train(**params)\n",
    "render_cm(stats)\n",
    "write_rendering(meta_file, rendering)\n",
    "print(rendering)\n",
    "\n",
    "save_to_gcp(source_file=model_file, dest_file=f'{model_name}/{model_name}_model.h5')\n",
    "save_to_gcp(source_file=meta_file, dest_file=f'{model_name}/{model_name}_meta.json')"
   ]
  },
  {
   "cell_type": "code",
   "execution_count": null,
   "id": "3bce9d14-7d37-4e8b-b621-b8923c021c9d",
   "metadata": {},
   "outputs": [],
   "source": [
    "model_name = 'game_state'\n",
    "training_root = r'O:\\eve_models\\training_data\\game_state'\n",
    "model_file = f'{training_root}/{model_name}_model.h5'\n",
    "meta_file = f'{training_root}/{model_name}_meta.json'\n",
    "\n",
    "params = {\n",
    "    'root_image_directory': training_root,\n",
    "    'model_location': model_file,\n",
    "    'model_name': model_name\n",
    "}\n",
    "\n",
    "stats, rendering = build_and_train(**params)\n",
    "render_cm(stats)\n",
    "write_rendering(meta_file, rendering)\n",
    "print(rendering)\n",
    "\n",
    "save_to_gcp(source_file=model_file, dest_file=f'{model_name}/{model_name}_model.h5')\n",
    "save_to_gcp(source_file=meta_file, dest_file=f'{model_name}/{model_name}_meta.json')"
   ]
  },
  {
   "cell_type": "code",
   "execution_count": null,
   "id": "c4f90dc0-9d46-4dc9-a951-2bb30798429d",
   "metadata": {},
   "outputs": [],
   "source": []
  },
  {
   "cell_type": "code",
   "execution_count": null,
   "id": "8900c0a5-7934-4d9a-b792-fe4b6cba7857",
   "metadata": {},
   "outputs": [],
   "source": []
  },
  {
   "cell_type": "code",
   "execution_count": null,
   "id": "064d9d44-0ca4-4d0e-b351-b9dac51bde32",
   "metadata": {},
   "outputs": [],
   "source": []
  },
  {
   "cell_type": "code",
   "execution_count": null,
   "id": "81dc58b9-ba3d-48c9-a60b-044231d63977",
   "metadata": {},
   "outputs": [],
   "source": []
  }
 ],
 "metadata": {
  "kernelspec": {
   "display_name": "Python 3 (ipykernel)",
   "language": "python",
   "name": "python3"
  },
  "language_info": {
   "codemirror_mode": {
    "name": "ipython",
    "version": 3
   },
   "file_extension": ".py",
   "mimetype": "text/x-python",
   "name": "python",
   "nbconvert_exporter": "python",
   "pygments_lexer": "ipython3",
   "version": "3.10.10"
  }
 },
 "nbformat": 4,
 "nbformat_minor": 5
}
