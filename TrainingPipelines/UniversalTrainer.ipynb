{
 "cells": [
  {
   "cell_type": "code",
   "execution_count": 1,
   "id": "4b66d6b6-3f50-4d52-9860-e45d5e0f4f71",
   "metadata": {},
   "outputs": [],
   "source": [
    "import sys, os, decimal, json\n",
    "sys.path.append(os.path.realpath('..'))\n",
    "import json, time\n",
    "\n",
    "from TrainingBot.ImageClassifier.ModelBuilder import build_and_train"
   ]
  },
  {
   "cell_type": "code",
   "execution_count": 2,
   "id": "0e51dd3b-7554-4b7a-8bb2-702f2eaaa04a",
   "metadata": {},
   "outputs": [
    {
     "name": "stdout",
     "output_type": "stream",
     "text": [
      "395\n",
      "Found 395 files belonging to 5 classes.\n",
      "Using 316 files for training.\n",
      "Found 395 files belonging to 5 classes.\n",
      "Using 79 files for validation.\n",
      "['both_running', 'invalid', 'miner_1_running', 'miner_2_running', 'no_miners_running']\n",
      "Epoch 1/10\n",
      "316/316 [==============================] - 5s 7ms/step - loss: 1.3244 - accuracy: 0.4715 - val_loss: 0.7828 - val_accuracy: 0.6076\n",
      "Epoch 2/10\n",
      "316/316 [==============================] - 2s 7ms/step - loss: 0.1607 - accuracy: 0.9462 - val_loss: 0.0211 - val_accuracy: 1.0000\n",
      "Epoch 3/10\n",
      "316/316 [==============================] - 2s 7ms/step - loss: 0.0081 - accuracy: 1.0000 - val_loss: 0.0011 - val_accuracy: 1.0000\n",
      "Epoch 4/10\n",
      "316/316 [==============================] - 3s 8ms/step - loss: 0.0081 - accuracy: 1.0000 - val_loss: 2.0367e-04 - val_accuracy: 1.0000\n",
      "Epoch 5/10\n",
      "316/316 [==============================] - 3s 8ms/step - loss: 1.2199e-04 - accuracy: 1.0000 - val_loss: 9.4442e-05 - val_accuracy: 1.0000\n",
      "Epoch 6/10\n",
      "316/316 [==============================] - 2s 8ms/step - loss: 6.9033e-05 - accuracy: 1.0000 - val_loss: 6.4984e-05 - val_accuracy: 1.0000\n",
      "Epoch 7/10\n",
      "316/316 [==============================] - 3s 8ms/step - loss: 4.4161e-05 - accuracy: 1.0000 - val_loss: 3.3444e-05 - val_accuracy: 1.0000\n",
      "Epoch 8/10\n",
      "316/316 [==============================] - 2s 8ms/step - loss: 3.7109e-05 - accuracy: 1.0000 - val_loss: 3.1749e-05 - val_accuracy: 1.0000\n",
      "Epoch 9/10\n",
      "316/316 [==============================] - 2s 7ms/step - loss: 2.6265e-05 - accuracy: 1.0000 - val_loss: 2.3996e-05 - val_accuracy: 1.0000\n",
      "Epoch 10/10\n",
      "316/316 [==============================] - 3s 8ms/step - loss: 2.0869e-05 - accuracy: 1.0000 - val_loss: 1.9439e-05 - val_accuracy: 1.0000\n"
     ]
    },
    {
     "data": {
      "text/plain": [
       "{'image_resize': [116, 26],\n",
       " 'class_location': 'O:\\\\source\\\\repos\\\\EVE-Online-Bot\\\\training_data_miner\\\\mining_tool_state_classes.json',\n",
       " 'model_location': 'O:\\\\source\\\\repos\\\\EVE-Online-Bot\\\\training_data_miner\\\\mining_tool_state_model.h5'}"
      ]
     },
     "execution_count": 2,
     "metadata": {},
     "output_type": "execute_result"
    }
   ],
   "source": [
    "model_name = 'mining_tool_state'\n",
    "training_root = r'O:\\source\\repos\\EVE-Online-Bot\\training_data_miner'\n",
    "\n",
    "results = build_and_train(root_image_directory=training_root, model_name=model_name)\n",
    "results"
   ]
  },
  {
   "cell_type": "code",
   "execution_count": 3,
   "id": "3bce9d14-7d37-4e8b-b621-b8923c021c9d",
   "metadata": {},
   "outputs": [
    {
     "name": "stdout",
     "output_type": "stream",
     "text": [
      "30\n",
      "Found 31 files belonging to 4 classes.\n",
      "Using 25 files for training.\n",
      "Found 31 files belonging to 4 classes.\n",
      "Using 6 files for validation.\n",
      "['char_select', 'connection_lost', 'in_flight', 'in_hanger']\n",
      "Epoch 1/10\n",
      "25/25 [==============================] - 2s 43ms/step - loss: 1.4293 - accuracy: 0.5600 - val_loss: 1.3651 - val_accuracy: 0.5000\n",
      "Epoch 2/10\n",
      "25/25 [==============================] - 1s 51ms/step - loss: 0.2331 - accuracy: 0.9600 - val_loss: 0.0040 - val_accuracy: 1.0000\n",
      "Epoch 3/10\n",
      "25/25 [==============================] - 1s 36ms/step - loss: 0.0013 - accuracy: 1.0000 - val_loss: 1.2790e-04 - val_accuracy: 1.0000\n",
      "Epoch 4/10\n",
      "25/25 [==============================] - 1s 34ms/step - loss: 1.2642e-04 - accuracy: 1.0000 - val_loss: 6.3039e-05 - val_accuracy: 1.0000\n",
      "Epoch 5/10\n",
      "25/25 [==============================] - 1s 35ms/step - loss: 6.9039e-05 - accuracy: 1.0000 - val_loss: 3.6278e-05 - val_accuracy: 1.0000\n",
      "Epoch 6/10\n",
      "25/25 [==============================] - 1s 35ms/step - loss: 5.2729e-05 - accuracy: 1.0000 - val_loss: 3.0656e-05 - val_accuracy: 1.0000\n",
      "Epoch 7/10\n",
      "25/25 [==============================] - 1s 34ms/step - loss: 4.3194e-05 - accuracy: 1.0000 - val_loss: 2.5391e-05 - val_accuracy: 1.0000\n",
      "Epoch 8/10\n",
      "25/25 [==============================] - 1s 37ms/step - loss: 3.5275e-05 - accuracy: 1.0000 - val_loss: 2.2530e-05 - val_accuracy: 1.0000\n",
      "Epoch 9/10\n",
      "25/25 [==============================] - 1s 37ms/step - loss: 3.0264e-05 - accuracy: 1.0000 - val_loss: 1.9093e-05 - val_accuracy: 1.0000\n",
      "Epoch 10/10\n",
      "25/25 [==============================] - 1s 32ms/step - loss: 2.4938e-05 - accuracy: 1.0000 - val_loss: 1.7166e-05 - val_accuracy: 1.0000\n"
     ]
    },
    {
     "data": {
      "text/plain": [
       "{'image_resize': [206, 384],\n",
       " 'class_location': 'O:\\\\source\\\\repos\\\\EVE-Online-Bot\\\\training_data\\\\game_state_classes.json',\n",
       " 'model_location': 'O:\\\\source\\\\repos\\\\EVE-Online-Bot\\\\training_data\\\\game_state_model.h5'}"
      ]
     },
     "execution_count": 3,
     "metadata": {},
     "output_type": "execute_result"
    }
   ],
   "source": [
    "model_name = 'game_state'\n",
    "training_root = r'O:\\source\\repos\\EVE-Online-Bot\\training_data'\n",
    "\n",
    "results = build_and_train(root_image_directory=training_root, model_name=model_name)\n",
    "results"
   ]
  },
  {
   "cell_type": "code",
   "execution_count": null,
   "id": "c4f90dc0-9d46-4dc9-a951-2bb30798429d",
   "metadata": {},
   "outputs": [],
   "source": []
  }
 ],
 "metadata": {
  "kernelspec": {
   "display_name": "Python 3 (ipykernel)",
   "language": "python",
   "name": "python3"
  },
  "language_info": {
   "codemirror_mode": {
    "name": "ipython",
    "version": 3
   },
   "file_extension": ".py",
   "mimetype": "text/x-python",
   "name": "python",
   "nbconvert_exporter": "python",
   "pygments_lexer": "ipython3",
   "version": "3.10.9"
  }
 },
 "nbformat": 4,
 "nbformat_minor": 5
}
