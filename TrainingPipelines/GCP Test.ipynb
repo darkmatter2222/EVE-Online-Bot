{
 "cells": [
  {
   "cell_type": "code",
   "execution_count": 17,
   "id": "ca2479e4-1414-4f3f-940d-3312f188641a",
   "metadata": {
    "tags": []
   },
   "outputs": [],
   "source": [
    "from google.cloud import storage\n",
    "import os\n",
    "from pathlib import Path\n",
    "from dotenv import load_dotenv\n",
    "\n",
    "env_path = Path(fr\"{os.environ['USERPROFILE']}\\.env\")\n",
    "load_dotenv(dotenv_path=env_path)\n",
    "\n",
    "os.environ[\"GOOGLE_APPLICATION_CREDENTIALS\"] = os.getenv(\"Eve_Online_GCP_Creds_File\")"
   ]
  },
  {
   "cell_type": "code",
   "execution_count": 18,
   "id": "aec4b811-2c41-4166-bf39-e9d39fe14ee3",
   "metadata": {
    "tags": []
   },
   "outputs": [
    {
     "name": "stdout",
     "output_type": "stream",
     "text": [
      "[<Bucket: eve_online_models>, <Bucket: home-automation-and-ml.appspot.com>, <Bucket: staging.home-automation-and-ml.appspot.com>, <Bucket: susmancrypto>]\n"
     ]
    }
   ],
   "source": [
    "storage_client = storage.Client()\n",
    "\n",
    "buckets = list(storage_client.list_buckets())\n",
    "\n",
    "bucket = storage_client.get_bucket(\"eve_online_models\") # your bucket name\n",
    "\n",
    "blob = bucket.blob('eve_online_models/Eve_Online_Models/test.h5') \n",
    "blob.upload_from_filename(r\"O:\\eve_models\\training_data\\game_state\\game_state_model.h5\")\n",
    "print(buckets)"
   ]
  },
  {
   "cell_type": "code",
   "execution_count": null,
   "id": "151e0263-57b9-4829-9428-b61af6184299",
   "metadata": {},
   "outputs": [],
   "source": []
  }
 ],
 "metadata": {
  "kernelspec": {
   "display_name": "Python 3 (ipykernel)",
   "language": "python",
   "name": "python3"
  },
  "language_info": {
   "codemirror_mode": {
    "name": "ipython",
    "version": 3
   },
   "file_extension": ".py",
   "mimetype": "text/x-python",
   "name": "python",
   "nbconvert_exporter": "python",
   "pygments_lexer": "ipython3",
   "version": "3.10.10"
  }
 },
 "nbformat": 4,
 "nbformat_minor": 5
}
