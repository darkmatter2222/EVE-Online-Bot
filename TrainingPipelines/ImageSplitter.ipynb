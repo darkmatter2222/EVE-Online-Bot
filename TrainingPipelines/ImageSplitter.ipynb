{
 "cells": [
  {
   "cell_type": "code",
   "execution_count": 33,
   "id": "914036ee-bf61-426f-ac6a-6b43cfd7836b",
   "metadata": {
    "tags": []
   },
   "outputs": [],
   "source": [
    "import sys, os, decimal, json, pathlib, glob\n",
    "from tqdm import tqdm\n",
    "import pandas as pd\n",
    "import seaborn as sns\n",
    "from PIL import Image\n",
    "import numpy as np\n",
    "\n",
    "import matplotlib.pyplot as plt\n",
    "import mplcyberpunk\n",
    "plt.style.use(\"cyberpunk\")\n",
    "plt.rcParams['figure.facecolor'] = '#0d1117'\n",
    "plt.rcParams['axes.facecolor'] = '#0d1117'\n",
    "plt.rcParams['savefig.facecolor'] = '#0d1117'"
   ]
  },
  {
   "cell_type": "code",
   "execution_count": 34,
   "id": "6f125b83-65fa-4ed7-abea-d54edf02505c",
   "metadata": {
    "tags": []
   },
   "outputs": [],
   "source": [
    "image_names = []\n",
    "path = pathlib.Path(r'O:\\eve_models\\training_data\\route_y')\n",
    "for data in glob.glob(f\"{path}\\*.png\"):\n",
    "    file = data.split('\\\\')[-1:][0]\n",
    "    image_names.append(file)"
   ]
  },
  {
   "cell_type": "code",
   "execution_count": 35,
   "id": "3ba3762b-ee82-4aac-87c1-6276a61209b2",
   "metadata": {
    "tags": []
   },
   "outputs": [
    {
     "name": "stderr",
     "output_type": "stream",
     "text": [
      "100%|█████████████████████████████████████████████████████████████████████████| 1739/1739 [00:00<00:00, 1742033.59it/s]\n"
     ]
    }
   ],
   "source": [
    "image_data = {}\n",
    "f = open(f\"{path}\\\\boxes.json\")\n",
    "image_data_raw = json.load(f)\n",
    "f.close()\n",
    "\n",
    "for data in image_data_raw:\n",
    "    image_data[data['image_name']] = data['bbox'][1:2]\n",
    "    \n",
    "image_y = []\n",
    "for image_name in tqdm(image_names):\n",
    "    image_y.append(image_data[image_name][0])"
   ]
  },
  {
   "cell_type": "code",
   "execution_count": 36,
   "id": "04900423-2356-495c-ba77-4a72a78b8723",
   "metadata": {
    "tags": []
   },
   "outputs": [
    {
     "data": {
      "text/html": [
       "<div>\n",
       "<style scoped>\n",
       "    .dataframe tbody tr th:only-of-type {\n",
       "        vertical-align: middle;\n",
       "    }\n",
       "\n",
       "    .dataframe tbody tr th {\n",
       "        vertical-align: top;\n",
       "    }\n",
       "\n",
       "    .dataframe thead th {\n",
       "        text-align: right;\n",
       "    }\n",
       "</style>\n",
       "<table border=\"1\" class=\"dataframe\">\n",
       "  <thead>\n",
       "    <tr style=\"text-align: right;\">\n",
       "      <th></th>\n",
       "      <th>image_names</th>\n",
       "      <th>y</th>\n",
       "    </tr>\n",
       "  </thead>\n",
       "  <tbody>\n",
       "    <tr>\n",
       "      <th>0</th>\n",
       "      <td>001160f8-d4d1-11ed-a6da-2cf05d9fe8eb.png</td>\n",
       "      <td>343</td>\n",
       "    </tr>\n",
       "    <tr>\n",
       "      <th>1</th>\n",
       "      <td>0014a4f1-d4d4-11ed-8150-2cf05d9fe8eb.png</td>\n",
       "      <td>330</td>\n",
       "    </tr>\n",
       "    <tr>\n",
       "      <th>2</th>\n",
       "      <td>001c3640-d343-11ed-9f40-2cf05d9fe8eb.png</td>\n",
       "      <td>296</td>\n",
       "    </tr>\n",
       "    <tr>\n",
       "      <th>3</th>\n",
       "      <td>00684465-d4d2-11ed-be24-2cf05d9fe8eb.png</td>\n",
       "      <td>255</td>\n",
       "    </tr>\n",
       "    <tr>\n",
       "      <th>4</th>\n",
       "      <td>00789398-d4ce-11ed-8349-2cf05d9fe8eb.png</td>\n",
       "      <td>206</td>\n",
       "    </tr>\n",
       "    <tr>\n",
       "      <th>...</th>\n",
       "      <td>...</td>\n",
       "      <td>...</td>\n",
       "    </tr>\n",
       "    <tr>\n",
       "      <th>1734</th>\n",
       "      <td>ff6c2ff1-d4d1-11ed-a489-2cf05d9fe8eb.png</td>\n",
       "      <td>344</td>\n",
       "    </tr>\n",
       "    <tr>\n",
       "      <th>1735</th>\n",
       "      <td>ff73557c-d342-11ed-aef5-2cf05d9fe8eb.png</td>\n",
       "      <td>297</td>\n",
       "    </tr>\n",
       "    <tr>\n",
       "      <th>1736</th>\n",
       "      <td>ff7bddd6-d4cd-11ed-a33d-2cf05d9fe8eb.png</td>\n",
       "      <td>255</td>\n",
       "    </tr>\n",
       "    <tr>\n",
       "      <th>1737</th>\n",
       "      <td>ffb4fa64-d4cf-11ed-8899-2cf05d9fe8eb.png</td>\n",
       "      <td>466</td>\n",
       "    </tr>\n",
       "    <tr>\n",
       "      <th>1738</th>\n",
       "      <td>ffe54612-d4d2-11ed-a65c-2cf05d9fe8eb.png</td>\n",
       "      <td>253</td>\n",
       "    </tr>\n",
       "  </tbody>\n",
       "</table>\n",
       "<p>1739 rows × 2 columns</p>\n",
       "</div>"
      ],
      "text/plain": [
       "                                   image_names    y\n",
       "0     001160f8-d4d1-11ed-a6da-2cf05d9fe8eb.png  343\n",
       "1     0014a4f1-d4d4-11ed-8150-2cf05d9fe8eb.png  330\n",
       "2     001c3640-d343-11ed-9f40-2cf05d9fe8eb.png  296\n",
       "3     00684465-d4d2-11ed-be24-2cf05d9fe8eb.png  255\n",
       "4     00789398-d4ce-11ed-8349-2cf05d9fe8eb.png  206\n",
       "...                                        ...  ...\n",
       "1734  ff6c2ff1-d4d1-11ed-a489-2cf05d9fe8eb.png  344\n",
       "1735  ff73557c-d342-11ed-aef5-2cf05d9fe8eb.png  297\n",
       "1736  ff7bddd6-d4cd-11ed-a33d-2cf05d9fe8eb.png  255\n",
       "1737  ffb4fa64-d4cf-11ed-8899-2cf05d9fe8eb.png  466\n",
       "1738  ffe54612-d4d2-11ed-a65c-2cf05d9fe8eb.png  253\n",
       "\n",
       "[1739 rows x 2 columns]"
      ]
     },
     "execution_count": 36,
     "metadata": {},
     "output_type": "execute_result"
    }
   ],
   "source": [
    "data = { 'image_names':image_names, 'y':image_y}\n",
    "df = pd.DataFrame(columns=['image_names','y'], data=data)\n",
    "df"
   ]
  },
  {
   "cell_type": "code",
   "execution_count": 37,
   "id": "92c17fa5-b81a-45c4-9c91-26d17c07e0f1",
   "metadata": {
    "tags": []
   },
   "outputs": [
    {
     "data": {
      "text/plain": [
       "<Axes: ylabel='Count'>"
      ]
     },
     "execution_count": 37,
     "metadata": {},
     "output_type": "execute_result"
    },
    {
     "data": {
      "image/png": "[encoded data removed]",
      "text/plain": [
       "<Figure size 640x480 with 1 Axes>"
      ]
     },
     "metadata": {},
     "output_type": "display_data"
    }
   ],
   "source": [
    "sns.histplot(image_y, bins=60)"
   ]
  },
  {
   "cell_type": "code",
   "execution_count": 38,
   "id": "1a0e5d92-d42c-4c80-b49d-582fde1ceef6",
   "metadata": {
    "tags": []
   },
   "outputs": [
    {
     "data": {
      "text/html": [
       "<div>\n",
       "<style scoped>\n",
       "    .dataframe tbody tr th:only-of-type {\n",
       "        vertical-align: middle;\n",
       "    }\n",
       "\n",
       "    .dataframe tbody tr th {\n",
       "        vertical-align: top;\n",
       "    }\n",
       "\n",
       "    .dataframe thead th {\n",
       "        text-align: right;\n",
       "    }\n",
       "</style>\n",
       "<table border=\"1\" class=\"dataframe\">\n",
       "  <thead>\n",
       "    <tr style=\"text-align: right;\">\n",
       "      <th></th>\n",
       "      <th>image_names</th>\n",
       "      <th>y</th>\n",
       "      <th>bins</th>\n",
       "    </tr>\n",
       "  </thead>\n",
       "  <tbody>\n",
       "    <tr>\n",
       "      <th>0</th>\n",
       "      <td>001160f8-d4d1-11ed-a6da-2cf05d9fe8eb.png</td>\n",
       "      <td>343</td>\n",
       "      <td>(340, 350]</td>\n",
       "    </tr>\n",
       "    <tr>\n",
       "      <th>1</th>\n",
       "      <td>0014a4f1-d4d4-11ed-8150-2cf05d9fe8eb.png</td>\n",
       "      <td>330</td>\n",
       "      <td>(320, 330]</td>\n",
       "    </tr>\n",
       "    <tr>\n",
       "      <th>2</th>\n",
       "      <td>001c3640-d343-11ed-9f40-2cf05d9fe8eb.png</td>\n",
       "      <td>296</td>\n",
       "      <td>(290, 300]</td>\n",
       "    </tr>\n",
       "    <tr>\n",
       "      <th>3</th>\n",
       "      <td>00684465-d4d2-11ed-be24-2cf05d9fe8eb.png</td>\n",
       "      <td>255</td>\n",
       "      <td>(250, 260]</td>\n",
       "    </tr>\n",
       "    <tr>\n",
       "      <th>4</th>\n",
       "      <td>00789398-d4ce-11ed-8349-2cf05d9fe8eb.png</td>\n",
       "      <td>206</td>\n",
       "      <td>(200, 210]</td>\n",
       "    </tr>\n",
       "    <tr>\n",
       "      <th>...</th>\n",
       "      <td>...</td>\n",
       "      <td>...</td>\n",
       "      <td>...</td>\n",
       "    </tr>\n",
       "    <tr>\n",
       "      <th>1734</th>\n",
       "      <td>ff6c2ff1-d4d1-11ed-a489-2cf05d9fe8eb.png</td>\n",
       "      <td>344</td>\n",
       "      <td>(340, 350]</td>\n",
       "    </tr>\n",
       "    <tr>\n",
       "      <th>1735</th>\n",
       "      <td>ff73557c-d342-11ed-aef5-2cf05d9fe8eb.png</td>\n",
       "      <td>297</td>\n",
       "      <td>(290, 300]</td>\n",
       "    </tr>\n",
       "    <tr>\n",
       "      <th>1736</th>\n",
       "      <td>ff7bddd6-d4cd-11ed-a33d-2cf05d9fe8eb.png</td>\n",
       "      <td>255</td>\n",
       "      <td>(250, 260]</td>\n",
       "    </tr>\n",
       "    <tr>\n",
       "      <th>1737</th>\n",
       "      <td>ffb4fa64-d4cf-11ed-8899-2cf05d9fe8eb.png</td>\n",
       "      <td>466</td>\n",
       "      <td>(460, 470]</td>\n",
       "    </tr>\n",
       "    <tr>\n",
       "      <th>1738</th>\n",
       "      <td>ffe54612-d4d2-11ed-a65c-2cf05d9fe8eb.png</td>\n",
       "      <td>253</td>\n",
       "      <td>(250, 260]</td>\n",
       "    </tr>\n",
       "  </tbody>\n",
       "</table>\n",
       "<p>1739 rows × 3 columns</p>\n",
       "</div>"
      ],
      "text/plain": [
       "                                   image_names    y        bins\n",
       "0     001160f8-d4d1-11ed-a6da-2cf05d9fe8eb.png  343  (340, 350]\n",
       "1     0014a4f1-d4d4-11ed-8150-2cf05d9fe8eb.png  330  (320, 330]\n",
       "2     001c3640-d343-11ed-9f40-2cf05d9fe8eb.png  296  (290, 300]\n",
       "3     00684465-d4d2-11ed-be24-2cf05d9fe8eb.png  255  (250, 260]\n",
       "4     00789398-d4ce-11ed-8349-2cf05d9fe8eb.png  206  (200, 210]\n",
       "...                                        ...  ...         ...\n",
       "1734  ff6c2ff1-d4d1-11ed-a489-2cf05d9fe8eb.png  344  (340, 350]\n",
       "1735  ff73557c-d342-11ed-aef5-2cf05d9fe8eb.png  297  (290, 300]\n",
       "1736  ff7bddd6-d4cd-11ed-a33d-2cf05d9fe8eb.png  255  (250, 260]\n",
       "1737  ffb4fa64-d4cf-11ed-8899-2cf05d9fe8eb.png  466  (460, 470]\n",
       "1738  ffe54612-d4d2-11ed-a65c-2cf05d9fe8eb.png  253  (250, 260]\n",
       "\n",
       "[1739 rows x 3 columns]"
      ]
     },
     "execution_count": 38,
     "metadata": {},
     "output_type": "execute_result"
    }
   ],
   "source": [
    "df['bins'] = pd.cut(df['y'], bins=range(0,600,10))\n",
    "df"
   ]
  },
  {
   "cell_type": "code",
   "execution_count": 39,
   "id": "f4774deb-a86c-4492-bc43-384b39a58242",
   "metadata": {
    "tags": []
   },
   "outputs": [
    {
     "data": {
      "text/plain": [
       "bin_id\n",
       "470      1\n",
       "260      2\n",
       "420      9\n",
       "210     10\n",
       "430     12\n",
       "310     13\n",
       "390     14\n",
       "480     15\n",
       "270     16\n",
       "380     16\n",
       "220     17\n",
       "360     18\n",
       "320     33\n",
       "350     39\n",
       "440     40\n",
       "490     41\n",
       "400     42\n",
       "330    116\n",
       "410    143\n",
       "460    147\n",
       "370    152\n",
       "250    187\n",
       "290    188\n",
       "200    200\n",
       "340    268\n",
       "Name: tick, dtype: int64"
      ]
     },
     "execution_count": 39,
     "metadata": {},
     "output_type": "execute_result"
    }
   ],
   "source": [
    "df['bin_id'] = 0\n",
    "for i in df.index:\n",
    "    df.loc[i, 'bin_id'] = df.loc[i, 'bins'].left\n",
    "df['tick'] = 1\n",
    "\n",
    "df.groupby('bin_id')['tick'].sum().sort_values(ascending=True)"
   ]
  },
  {
   "cell_type": "code",
   "execution_count": 40,
   "id": "7fb0ec6e-7598-4025-a0e7-572fbd0226b8",
   "metadata": {
    "tags": []
   },
   "outputs": [],
   "source": [
    "def mkdir_p(path):\n",
    "    try:\n",
    "        os.makedirs(path)\n",
    "    except OSError as exc: # Python >2.5\n",
    "        if exc.errno == errno.EEXIST and os.path.isdir(path):\n",
    "            pass\n",
    "        else: raise\n",
    "        \n",
    "def copy(source, destination):\n",
    "    with open(source, 'rb') as file:\n",
    "        myFile = file.read()\n",
    "    with open(destination, 'wb') as file:\n",
    "        file.write(myFile)"
   ]
  },
  {
   "cell_type": "code",
   "execution_count": 41,
   "id": "2ce4e146-c627-42aa-86a9-a73b7ca0f60d",
   "metadata": {
    "tags": []
   },
   "outputs": [],
   "source": [
    "black_image = np.array([[[0]*3]*1920]*1080)\n",
    "black_image = Image.fromarray(black_image, mode='RGB')"
   ]
  },
  {
   "cell_type": "code",
   "execution_count": 42,
   "id": "3a075371-3af9-45ba-851f-a93ab3b1c0ba",
   "metadata": {
    "tags": []
   },
   "outputs": [],
   "source": [
    "import os, os.path\n",
    "path = r'O:\\eve_models\\training_data\\route_y_large_vert_class_v3'\n",
    "unique_bins = df['bin_id'].unique()\n",
    "for bin_id in unique_bins:\n",
    "    mkdir_p(f\"{path}\\\\{bin_id}\")"
   ]
  },
  {
   "cell_type": "code",
   "execution_count": 44,
   "id": "026b6eeb-8c2c-4090-bd33-6508ca73e4e7",
   "metadata": {
    "tags": []
   },
   "outputs": [
    {
     "name": "stderr",
     "output_type": "stream",
     "text": [
      "100%|██████████████████████████████████████████████████████████████████████████████| 1739/1739 [13:58<00:00,  2.07it/s]\n"
     ]
    }
   ],
   "source": [
    "source = r'O:\\eve_models\\training_data\\route_y'\n",
    "dest = r'O:\\eve_models\\training_data\\route_y_large_vert_class_v3'\n",
    "for i in tqdm(df.index):\n",
    "    black_image = np.array([[[0]*3]*1920]*1080)\n",
    "    black_image = Image.fromarray(black_image, mode='RGB')\n",
    "    this_source = f\"{source}\\\\{df.loc[i, 'image_names']}\"\n",
    "    img = Image.open(this_source)\n",
    "    black_image.paste(img)\n",
    "    this_dest = f\"{dest}\\\\{df.loc[i, 'bin_id']}\\\\{df.loc[i, 'image_names']}\"\n",
    "    black_image.save(this_dest)\n",
    "    #copy(this_source, this_dest)"
   ]
  },
  {
   "cell_type": "code",
   "execution_count": null,
   "id": "9383d501-6402-4902-8d20-10c7cfd86ea8",
   "metadata": {},
   "outputs": [],
   "source": []
  }
 ],
 "metadata": {
  "kernelspec": {
   "display_name": "Python 3 (ipykernel)",
   "language": "python",
   "name": "python3"
  },
  "language_info": {
   "codemirror_mode": {
    "name": "ipython",
    "version": 3
   },
   "file_extension": ".py",
   "mimetype": "text/x-python",
   "name": "python",
   "nbconvert_exporter": "python",
   "pygments_lexer": "ipython3",
   "version": "3.10.10"
  }
 },
 "nbformat": 4,
 "nbformat_minor": 5
}
