{
 "cells": [
  {
   "cell_type": "code",
   "execution_count": 2,
   "id": "7760920c-c3e0-46da-853d-57c1bf4e6697",
   "metadata": {
    "tags": []
   },
   "outputs": [
    {
     "ename": "ModuleNotFoundError",
     "evalue": "No module named 'autokeras'",
     "output_type": "error",
     "traceback": [
      "\u001b[1;31m---------------------------------------------------------------------------\u001b[0m",
      "\u001b[1;31mModuleNotFoundError\u001b[0m                       Traceback (most recent call last)",
      "Cell \u001b[1;32mIn[2], line 1\u001b[0m\n\u001b[1;32m----> 1\u001b[0m \u001b[38;5;28;01mimport\u001b[39;00m \u001b[38;5;21;01mautokeras\u001b[39;00m \u001b[38;5;28;01mas\u001b[39;00m \u001b[38;5;21;01mak\u001b[39;00m\n",
      "\u001b[1;31mModuleNotFoundError\u001b[0m: No module named 'autokeras'"
     ]
    }
   ],
   "source": [
    "import autokeras as ak"
   ]
  },
  {
   "cell_type": "code",
   "execution_count": 49,
   "id": "52991972-6902-478e-80b0-1a0d6653e466",
   "metadata": {
    "tags": []
   },
   "outputs": [],
   "source": [
    "import sys, os, decimal, json\n",
    "sys.path.append(os.path.realpath('..'))\n",
    "import json, time\n",
    "import pandas as pd\n",
    "import random\n",
    "import matplotlib.pyplot as plt\n",
    "import glob\n",
    "\n",
    "import matplotlib.pyplot as plt\n",
    "import numpy as np\n",
    "import PIL, json\n",
    "import tensorflow as tf\n",
    "import socket\n",
    "import pathlib\n",
    "from tqdm import tqdm\n",
    "from PIL import Image, ImageDraw, ImageOps\n",
    "\n",
    "from tensorflow.keras import layers\n",
    "from tensorflow.keras.models import Sequential\n",
    "from tensorflow.keras.optimizers import Adam\n",
    "import tensorflow_addons as tfa\n",
    "from tensorflow.keras.callbacks import ModelCheckpoint, CSVLogger, ReduceLROnPlateau, EarlyStopping, TensorBoard\n",
    "from tensorflow.keras.applications import VGG16\n",
    "\n",
    "from sklearn.metrics import confusion_matrix\n",
    "from sklearn.metrics import roc_auc_score\n",
    "\n",
    "from TrainingPipelines.ImageClassifier.ModelBuilder import build_and_train\n",
    "\n",
    "import seaborn as sns\n",
    "import mplcyberpunk\n",
    "tf.random.set_seed(42)\n",
    "\n",
    "plt.style.use(\"cyberpunk\")\n",
    "plt.rcParams['figure.facecolor'] = '#0d1117'\n",
    "plt.rcParams['axes.facecolor'] = '#0d1117'\n",
    "plt.rcParams['savefig.facecolor'] = '#0d1117'"
   ]
  },
  {
   "cell_type": "code",
   "execution_count": 50,
   "id": "a1370c14-d018-40a7-91d4-753bc4a14802",
   "metadata": {
    "tags": []
   },
   "outputs": [
    {
     "name": "stdout",
     "output_type": "stream",
     "text": [
      "Num GPUs Available:  1\n"
     ]
    }
   ],
   "source": [
    "print(\"Num GPUs Available: \", len(tf.config.list_physical_devices('GPU')))"
   ]
  },
  {
   "cell_type": "code",
   "execution_count": 51,
   "id": "5ce73a9c-9873-492e-aa3a-39989b35aa0c",
   "metadata": {
    "tags": []
   },
   "outputs": [],
   "source": [
    "reduction = 1\n",
    "\n",
    "img_width = int(40/reduction)\n",
    "img_height = int(600/reduction)"
   ]
  },
  {
   "cell_type": "code",
   "execution_count": 52,
   "id": "98c8870a-392a-45cf-8228-52fb0e75b070",
   "metadata": {
    "tags": []
   },
   "outputs": [],
   "source": [
    "image_names = []\n",
    "path = pathlib.Path(r'O:\\eve_models\\training_data\\route_y')\n",
    "for data in glob.glob(f\"{path}\\*.png\"):\n",
    "    file = data.split('\\\\')[-1:][0]\n",
    "    image_names.append(file)"
   ]
  },
  {
   "cell_type": "code",
   "execution_count": 53,
   "id": "45dd3ff9-224f-4e20-9f42-a7628dab4a84",
   "metadata": {
    "tags": []
   },
   "outputs": [],
   "source": [
    "random.shuffle(image_names)"
   ]
  },
  {
   "cell_type": "code",
   "execution_count": 54,
   "id": "7ee8ee18-022e-4808-beab-0c83754488b1",
   "metadata": {
    "tags": []
   },
   "outputs": [
    {
     "data": {
      "text/plain": [
       "[377]"
      ]
     },
     "execution_count": 54,
     "metadata": {},
     "output_type": "execute_result"
    }
   ],
   "source": [
    "image_data = {}\n",
    "f = open(f\"{path}\\\\boxes.json\")\n",
    "image_data_raw = json.load(f)\n",
    "f.close()\n",
    "\n",
    "for data in image_data_raw:\n",
    "    image_data[data['image_name']] = data['bbox'][1:2]\n",
    "image_data[list(image_data.keys())[0]]"
   ]
  },
  {
   "cell_type": "code",
   "execution_count": 55,
   "id": "7fafe7a6-facf-4202-abd0-2316e595448a",
   "metadata": {
    "tags": []
   },
   "outputs": [],
   "source": [
    "def convert_to_baw(img, thresh=80):\n",
    "    fn = lambda x: 255 if x > thresh else 0\n",
    "    return img.convert('L').point(fn, mode='1')"
   ]
  },
  {
   "cell_type": "code",
   "execution_count": 56,
   "id": "950350fb-fbc2-4fc9-9858-71d9782bb62d",
   "metadata": {
    "tags": []
   },
   "outputs": [],
   "source": [
    "train_names, val_names, test_names = np.split(image_names, [int(len(image_names)*0.7), int(len(image_names)*0.9)])"
   ]
  },
  {
   "cell_type": "code",
   "execution_count": 57,
   "id": "f7fef7b7-657f-497e-9ab2-ba71ca7c8a0e",
   "metadata": {
    "tags": []
   },
   "outputs": [
    {
     "name": "stderr",
     "output_type": "stream",
     "text": [
      "100%|█████████████████████████████████████████████████████████████████████████████| 1218/1218 [00:05<00:00, 232.47it/s]\n",
      "100%|███████████████████████████████████████████████████████████████████████████████| 348/348 [00:01<00:00, 236.71it/s]\n",
      "100%|███████████████████████████████████████████████████████████████████████████████| 175/175 [00:00<00:00, 237.22it/s]\n"
     ]
    }
   ],
   "source": [
    "train_x = []\n",
    "for image_name in tqdm(train_names):\n",
    "    try:\n",
    "        img = Image.open(f\"{path}\\\\{image_name}\")\n",
    "        #img = convert_to_baw(img)\n",
    "        img = img.crop((120, 0, 160, 600))\n",
    "        if reduction != 1:\n",
    "            img = img.resize((img_width, img_height), resample=Image.Resampling.NEAREST)\n",
    "        train_x.append(np.array(img))\n",
    "    except:\n",
    "        print(f\"{path}\\\\{image_name}\")\n",
    "    \n",
    "val_x = []\n",
    "for image_name in tqdm(val_names):\n",
    "    img = Image.open(f\"{path}\\\\{image_name}\")\n",
    "    #img = convert_to_baw(img)\n",
    "    img = img.crop((120, 0, 160, 600))\n",
    "    if reduction != 1:\n",
    "        img = img.resize((img_width, img_height), resample=Image.Resampling.NEAREST)\n",
    "    val_x.append(np.array(img))\n",
    "    \n",
    "test_x = []\n",
    "for image_name in tqdm(test_names):\n",
    "    img = Image.open(f\"{path}\\\\{image_name}\")\n",
    "    #img = convert_to_baw(img)\n",
    "    img = img.crop((120, 0, 160, 600))\n",
    "    if reduction != 1:\n",
    "        img = img.resize((img_width, img_height), resample=Image.Resampling.NEAREST)\n",
    "    test_x.append(np.array(img))"
   ]
  },
  {
   "cell_type": "code",
   "execution_count": 58,
   "id": "341fd299-3f63-4eca-a5e5-2d90c3b948b8",
   "metadata": {
    "tags": []
   },
   "outputs": [
    {
     "data": {
      "image/png": "[encoded data removed]",
      "text/plain": [
       "<PIL.Image.Image image mode=RGB size=40x600>"
      ]
     },
     "execution_count": 58,
     "metadata": {},
     "output_type": "execute_result"
    }
   ],
   "source": [
    "Image.fromarray(train_x[1000])"
   ]
  },
  {
   "cell_type": "code",
   "execution_count": 59,
   "id": "aaf4d88d-c0af-478a-a509-2ac7f39f2e20",
   "metadata": {
    "tags": []
   },
   "outputs": [
    {
     "data": {
      "text/plain": [
       "1218"
      ]
     },
     "execution_count": 59,
     "metadata": {},
     "output_type": "execute_result"
    }
   ],
   "source": [
    "len(train_x)"
   ]
  },
  {
   "cell_type": "code",
   "execution_count": 60,
   "id": "4dd0d09b-55d9-4de9-91a4-7cc2589f29c3",
   "metadata": {
    "tags": []
   },
   "outputs": [
    {
     "data": {
      "text/plain": [
       "(600, 40, 3)"
      ]
     },
     "execution_count": 60,
     "metadata": {},
     "output_type": "execute_result"
    }
   ],
   "source": [
    "train_x[0].shape"
   ]
  },
  {
   "cell_type": "code",
   "execution_count": 61,
   "id": "14e134b9-ff37-4634-ba1d-d89b36a30a82",
   "metadata": {
    "tags": []
   },
   "outputs": [
    {
     "name": "stderr",
     "output_type": "stream",
     "text": [
      "100%|█████████████████████████████████████████████████████████████████████████| 1218/1218 [00:00<00:00, 1217217.60it/s]\n",
      "100%|████████████████████████████████████████████████████████████████████████████| 348/348 [00:00<00:00, 348191.27it/s]\n",
      "100%|████████████████████████████████████████████████████████████████████████████| 175/175 [00:00<00:00, 174845.93it/s]\n"
     ]
    }
   ],
   "source": [
    "train_y = []\n",
    "for image_name in tqdm(train_names):\n",
    "    train_y.append(image_data[image_name][0])\n",
    "    \n",
    "val_y = []\n",
    "for image_name in tqdm(val_names):\n",
    "    val_y.append(image_data[image_name][0])\n",
    "    \n",
    "test_y = []\n",
    "for image_name in tqdm(test_names):\n",
    "    test_y.append(image_data[image_name][0])"
   ]
  },
  {
   "cell_type": "code",
   "execution_count": 62,
   "id": "3d2db335-3ff7-44c8-9062-e9057c9e2d9e",
   "metadata": {
    "tags": []
   },
   "outputs": [
    {
     "data": {
      "text/plain": [
       "1218"
      ]
     },
     "execution_count": 62,
     "metadata": {},
     "output_type": "execute_result"
    }
   ],
   "source": [
    "len(train_x)"
   ]
  },
  {
   "cell_type": "code",
   "execution_count": 63,
   "id": "487f776c-2122-430c-9574-37d08d6b77c6",
   "metadata": {
    "tags": []
   },
   "outputs": [
    {
     "data": {
      "text/plain": [
       "(600, 40, 3)"
      ]
     },
     "execution_count": 63,
     "metadata": {},
     "output_type": "execute_result"
    }
   ],
   "source": [
    "train_x[0].shape"
   ]
  },
  {
   "cell_type": "code",
   "execution_count": 64,
   "id": "672aebcd-ec76-4d66-98cf-00f19f9eac58",
   "metadata": {
    "tags": []
   },
   "outputs": [
    {
     "data": {
      "text/plain": [
       "1218"
      ]
     },
     "execution_count": 64,
     "metadata": {},
     "output_type": "execute_result"
    }
   ],
   "source": [
    "len(train_y)"
   ]
  },
  {
   "cell_type": "code",
   "execution_count": 65,
   "id": "31669246-e6cd-4b61-ad20-8df35650a278",
   "metadata": {
    "tags": []
   },
   "outputs": [
    {
     "data": {
      "text/plain": [
       "256"
      ]
     },
     "execution_count": 65,
     "metadata": {},
     "output_type": "execute_result"
    }
   ],
   "source": [
    "train_y[0]"
   ]
  },
  {
   "cell_type": "code",
   "execution_count": 66,
   "id": "a3565d0e-97da-4d61-835d-5c6cdd244d1a",
   "metadata": {
    "tags": []
   },
   "outputs": [
    {
     "name": "stderr",
     "output_type": "stream",
     "text": [
      "  6%|████▌                                                                           | 70/1218 [00:48<13:08,  1.46it/s]\n",
      "\n",
      "KeyboardInterrupt\n",
      "\n"
     ]
    }
   ],
   "source": [
    "augmentations = 20\n",
    "aug_range_y = [-60, 80]\n",
    "\n",
    "#balance_names = []\n",
    "\n",
    "train_alter_x = []\n",
    "train_alter_y = []\n",
    "train_alter_names = []\n",
    "for i in tqdm(range(len(train_x))):\n",
    "    true_aug = augmentations\n",
    "    if train_names[i] in balance_names:\n",
    "        true_aug = augmentations * (balance_names.count(train_names[i]))\n",
    "        \n",
    "    for a in range(true_aug):\n",
    "        img = Image.fromarray(train_x[i])\n",
    "        x_pixels = 0  \n",
    "        y_pixels = random.randint(*aug_range_y)\n",
    "        translated_img = img.transform(img.size, Image.AFFINE, (1, 0, x_pixels, 0, 1, y_pixels))\n",
    "        train_alter_x.append(np.array(translated_img))\n",
    "\n",
    "        train_alter_y.append(train_y[i] - y_pixels)\n",
    "        train_alter_names.append(train_names[i])\n",
    "\n",
    "train_x = train_x + train_alter_x\n",
    "train_y = train_y + train_alter_y\n",
    "train_names = np.array(list(train_names) + train_alter_names)"
   ]
  },
  {
   "cell_type": "code",
   "execution_count": null,
   "id": "e403e8f9-0c79-465d-beba-79e5ca1d49d5",
   "metadata": {
    "tags": []
   },
   "outputs": [],
   "source": [
    "train_y[0]"
   ]
  },
  {
   "cell_type": "code",
   "execution_count": null,
   "id": "ff40239b-bde9-43b3-ac4f-a28a17c44279",
   "metadata": {
    "tags": []
   },
   "outputs": [],
   "source": [
    "train_y[-1]"
   ]
  },
  {
   "cell_type": "code",
   "execution_count": null,
   "id": "7b51c66b-053a-4ecb-bb93-c0e424a687fe",
   "metadata": {
    "tags": []
   },
   "outputs": [],
   "source": [
    "len(train_x)"
   ]
  },
  {
   "cell_type": "code",
   "execution_count": null,
   "id": "82bf9695-301d-401e-a78e-ddf39b5c6076",
   "metadata": {
    "tags": []
   },
   "outputs": [],
   "source": [
    "train_x[0].shape"
   ]
  },
  {
   "cell_type": "code",
   "execution_count": null,
   "id": "27ee0a61-238c-4a83-a5a3-dc3c17af3de5",
   "metadata": {
    "tags": []
   },
   "outputs": [],
   "source": [
    "len(train_y)"
   ]
  },
  {
   "cell_type": "code",
   "execution_count": null,
   "id": "9d378b2a-dd6b-4afc-85c7-2d398e9e0291",
   "metadata": {
    "tags": []
   },
   "outputs": [],
   "source": [
    "len(train_alter_y)"
   ]
  },
  {
   "cell_type": "code",
   "execution_count": null,
   "id": "86c8ca1d-5caf-4700-a201-c094cf263506",
   "metadata": {
    "tags": []
   },
   "outputs": [],
   "source": [
    "train_x = np.array(train_x)\n",
    "val_x = np.array(val_x)\n",
    "test_x = np.array(test_x)\n",
    "\n",
    "train_y = np.array(train_y) / np.array([1000])\n",
    "val_y = np.array(val_y) / np.array([1000])\n",
    "test_y = np.array(test_y) / np.array([1000])"
   ]
  },
  {
   "cell_type": "code",
   "execution_count": null,
   "id": "934b625a-0b10-47c3-af6e-b987a51f341c",
   "metadata": {},
   "outputs": [],
   "source": []
  }
 ],
 "metadata": {
  "kernelspec": {
   "display_name": "Python 3 (ipykernel)",
   "language": "python",
   "name": "python3"
  },
  "language_info": {
   "codemirror_mode": {
    "name": "ipython",
    "version": 3
   },
   "file_extension": ".py",
   "mimetype": "text/x-python",
   "name": "python",
   "nbconvert_exporter": "python",
   "pygments_lexer": "ipython3",
   "version": "3.10.10"
  }
 },
 "nbformat": 4,
 "nbformat_minor": 5
}
