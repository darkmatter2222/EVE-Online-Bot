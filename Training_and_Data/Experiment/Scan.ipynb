{
 "cells": [
  {
   "cell_type": "code",
   "execution_count": 3,
   "id": "b612dae7-efc3-4b92-98f2-7521a6e3dc33",
   "metadata": {},
   "outputs": [],
   "source": [
    "import numpy as np\n",
    "import ctypes\n",
    "import pyautogui\n",
    "\n",
    "from PIL import Image, ImageDraw\n",
    "import decimal\n",
    "\n",
    "from pytesseract import pytesseract\n",
    "import pandas as pd\n",
    "from tqdm import tqdm\n",
    "import time\n",
    "import mss\n",
    "import mss.tools\n",
    "from screeninfo import get_monitors"
   ]
  },
  {
   "cell_type": "code",
   "execution_count": 4,
   "id": "920d0e20-cc11-4ecc-8768-1b9dc4b62f50",
   "metadata": {},
   "outputs": [],
   "source": [
    "monitor_x_offset = 1920\n",
    "monitor_y_offset = -7"
   ]
  },
  {
   "cell_type": "code",
   "execution_count": 5,
   "id": "0b14f309-711c-4e0d-9c02-09172d5588b5",
   "metadata": {},
   "outputs": [],
   "source": [
    "pyautogui.moveTo(1122 - monitor_x_offset, 900 - monitor_y_offset)\n",
    "time.sleep(0.1)\n",
    "pyautogui.click(button='left')"
   ]
  },
  {
   "cell_type": "code",
   "execution_count": null,
   "id": "9feae7a9-0022-481f-b316-9097bd7c565e",
   "metadata": {},
   "outputs": [],
   "source": []
  }
 ],
 "metadata": {
  "kernelspec": {
   "display_name": "Python 3 (ipykernel)",
   "language": "python",
   "name": "python3"
  },
  "language_info": {
   "codemirror_mode": {
    "name": "ipython",
    "version": 3
   },
   "file_extension": ".py",
   "mimetype": "text/x-python",
   "name": "python",
   "nbconvert_exporter": "python",
   "pygments_lexer": "ipython3",
   "version": "3.10.9"
  }
 },
 "nbformat": 4,
 "nbformat_minor": 5
}
