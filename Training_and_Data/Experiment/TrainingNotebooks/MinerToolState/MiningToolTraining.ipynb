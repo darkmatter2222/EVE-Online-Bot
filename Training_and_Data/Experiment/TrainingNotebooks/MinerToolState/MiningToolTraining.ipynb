{
 "cells": [
  {
   "cell_type": "code",
   "execution_count": 27,
   "id": "cc631500-ff0f-4dda-984d-c4ebdba45263",
   "metadata": {},
   "outputs": [],
   "source": [
    "import matplotlib.pyplot as plt\n",
    "import numpy as np\n",
    "import PIL, json\n",
    "import tensorflow as tf\n",
    "\n",
    "from tensorflow import keras\n",
    "from tensorflow.keras import layers\n",
    "from tensorflow.keras.models import Sequential"
   ]
  },
  {
   "cell_type": "code",
   "execution_count": 28,
   "id": "727151b6-e549-4909-a66e-092b46e56a12",
   "metadata": {},
   "outputs": [],
   "source": [
    "import pathlib\n",
    "data_dir = r'O:\\source\\repos\\EVE-Online-Bot\\training_data_miner'\n",
    "data_dir = pathlib.Path(data_dir)"
   ]
  },
  {
   "cell_type": "code",
   "execution_count": 29,
   "id": "62c6a873-0835-4110-9da2-57d6a0926f06",
   "metadata": {},
   "outputs": [
    {
     "name": "stdout",
     "output_type": "stream",
     "text": [
      "395\n"
     ]
    }
   ],
   "source": [
    "image_count = len(list(data_dir.glob('*/*.png')))\n",
    "print(image_count)"
   ]
  },
  {
   "cell_type": "code",
   "execution_count": 30,
   "id": "3a6372f4-1181-4d08-bc3d-66477dd0bfc3",
   "metadata": {},
   "outputs": [],
   "source": [
    "batch_size = 1\n",
    "img_height = 65\n",
    "img_width = 290"
   ]
  },
  {
   "cell_type": "code",
   "execution_count": 31,
   "id": "5600e534-c7d9-474b-afec-dca885f5914b",
   "metadata": {},
   "outputs": [
    {
     "name": "stdout",
     "output_type": "stream",
     "text": [
      "Found 395 files belonging to 5 classes.\n",
      "Using 316 files for training.\n"
     ]
    }
   ],
   "source": [
    "train_ds = tf.keras.utils.image_dataset_from_directory(\n",
    "  data_dir,\n",
    "  validation_split=0.2,\n",
    "  subset=\"training\",\n",
    "  seed=123,\n",
    "  image_size=(img_height, img_width),\n",
    "  batch_size=batch_size)"
   ]
  },
  {
   "cell_type": "code",
   "execution_count": 32,
   "id": "ee088b98-0dde-4849-8b47-1e2f42d6be38",
   "metadata": {},
   "outputs": [
    {
     "name": "stdout",
     "output_type": "stream",
     "text": [
      "Found 395 files belonging to 5 classes.\n",
      "Using 79 files for validation.\n"
     ]
    }
   ],
   "source": [
    "val_ds = tf.keras.utils.image_dataset_from_directory(\n",
    "  data_dir,\n",
    "  validation_split=0.2,\n",
    "  subset=\"validation\",\n",
    "  seed=123,\n",
    "  image_size=(img_height, img_width),\n",
    "  batch_size=batch_size)"
   ]
  },
  {
   "cell_type": "code",
   "execution_count": 33,
   "id": "1f39b419-8b1b-4465-ae75-64fb9187c248",
   "metadata": {},
   "outputs": [
    {
     "name": "stdout",
     "output_type": "stream",
     "text": [
      "['both_running', 'invalid', 'miner_1_running', 'miner_2_running', 'no_miners_running']\n"
     ]
    }
   ],
   "source": [
    "class_names = train_ds.class_names\n",
    "print(class_names)"
   ]
  },
  {
   "cell_type": "code",
   "execution_count": 34,
   "id": "c586563b-3d8b-4b48-a68f-5a905ef80627",
   "metadata": {},
   "outputs": [],
   "source": [
    "f = open(r'O:\\source\\repos\\EVE-Online-Bot\\training_data_miner\\mining_tools_classes.json', \"w\")\n",
    "f.write(json.dumps(class_names))\n",
    "f.close()"
   ]
  },
  {
   "cell_type": "code",
   "execution_count": 35,
   "id": "06f32f12-36d0-4432-9947-a59c842ea3b2",
   "metadata": {},
   "outputs": [],
   "source": [
    "AUTOTUNE = tf.data.AUTOTUNE\n",
    "\n",
    "train_ds = train_ds.cache().shuffle(1000).prefetch(buffer_size=AUTOTUNE)\n",
    "val_ds = val_ds.cache().prefetch(buffer_size=AUTOTUNE)"
   ]
  },
  {
   "cell_type": "code",
   "execution_count": 36,
   "id": "4bd91a6f-32d1-453e-9424-0cd3ee2c7a1e",
   "metadata": {},
   "outputs": [],
   "source": [
    "num_classes = len(class_names)\n",
    "\n",
    "model = Sequential([\n",
    "  layers.Rescaling(1./255, input_shape=(img_height, img_width, 3)),\n",
    "  layers.Conv2D(16, 3, padding='same', activation='relu'),\n",
    "  layers.MaxPooling2D(),\n",
    "  layers.Conv2D(32, 3, padding='same', activation='relu'),\n",
    "  layers.MaxPooling2D(),\n",
    "  layers.Conv2D(64, 3, padding='same', activation='relu'),\n",
    "  layers.MaxPooling2D(),\n",
    "  layers.Flatten(),\n",
    "  layers.Dense(128, activation='relu'),\n",
    "  layers.Dense(num_classes)\n",
    "])"
   ]
  },
  {
   "cell_type": "code",
   "execution_count": 37,
   "id": "7c3300c1-fb22-4f68-aab3-36a9df60df0c",
   "metadata": {},
   "outputs": [],
   "source": [
    "model.compile(optimizer='adam',\n",
    "              loss=tf.keras.losses.SparseCategoricalCrossentropy(from_logits=True),\n",
    "              metrics=['accuracy'])"
   ]
  },
  {
   "cell_type": "code",
   "execution_count": 38,
   "id": "1c17ecd8-5065-4062-81e0-8ad16154eb79",
   "metadata": {},
   "outputs": [
    {
     "name": "stdout",
     "output_type": "stream",
     "text": [
      "Epoch 1/10\n",
      "316/316 [==============================] - 9s 27ms/step - loss: 1.3307 - accuracy: 0.4905 - val_loss: 1.0626 - val_accuracy: 0.4810\n",
      "Epoch 2/10\n",
      "316/316 [==============================] - 9s 29ms/step - loss: 0.0787 - accuracy: 0.9715 - val_loss: 6.1628e-04 - val_accuracy: 1.0000\n",
      "Epoch 3/10\n",
      "316/316 [==============================] - 11s 34ms/step - loss: 2.1665e-04 - accuracy: 1.0000 - val_loss: 1.7275e-04 - val_accuracy: 1.0000\n",
      "Epoch 4/10\n",
      "316/316 [==============================] - 9s 29ms/step - loss: 6.6882e-05 - accuracy: 1.0000 - val_loss: 6.9400e-05 - val_accuracy: 1.0000\n",
      "Epoch 5/10\n",
      "316/316 [==============================] - 8s 24ms/step - loss: 2.5314e-05 - accuracy: 1.0000 - val_loss: 3.5076e-05 - val_accuracy: 1.0000\n",
      "Epoch 6/10\n",
      "316/316 [==============================] - 11s 36ms/step - loss: 1.2325e-05 - accuracy: 1.0000 - val_loss: 1.6399e-05 - val_accuracy: 1.0000\n",
      "Epoch 7/10\n",
      "316/316 [==============================] - 8s 24ms/step - loss: 6.2705e-06 - accuracy: 1.0000 - val_loss: 8.9420e-06 - val_accuracy: 1.0000\n",
      "Epoch 8/10\n",
      "316/316 [==============================] - 7s 23ms/step - loss: 3.9135e-06 - accuracy: 1.0000 - val_loss: 6.2682e-06 - val_accuracy: 1.0000\n",
      "Epoch 9/10\n",
      "316/316 [==============================] - 8s 26ms/step - loss: 2.4736e-06 - accuracy: 1.0000 - val_loss: 3.8675e-06 - val_accuracy: 1.0000\n",
      "Epoch 10/10\n",
      "316/316 [==============================] - 7s 23ms/step - loss: 1.6753e-06 - accuracy: 1.0000 - val_loss: 2.7358e-06 - val_accuracy: 1.0000\n"
     ]
    }
   ],
   "source": [
    "epochs=10\n",
    "history = model.fit(\n",
    "  train_ds,\n",
    "  validation_data=val_ds,\n",
    "  epochs=epochs\n",
    ")"
   ]
  },
  {
   "cell_type": "code",
   "execution_count": 39,
   "id": "40d737e4-9f7c-40a7-b5d7-6880eb6fd155",
   "metadata": {},
   "outputs": [
    {
     "data": {
      "image/png": "[encoded data removed]",
      "text/plain": [
       "<Figure size 800x800 with 2 Axes>"
      ]
     },
     "metadata": {},
     "output_type": "display_data"
    }
   ],
   "source": [
    "acc = history.history['accuracy']\n",
    "val_acc = history.history['val_accuracy']\n",
    "\n",
    "loss = history.history['loss']\n",
    "val_loss = history.history['val_loss']\n",
    "\n",
    "epochs_range = range(epochs)\n",
    "\n",
    "plt.figure(figsize=(8, 8))\n",
    "plt.subplot(1, 2, 1)\n",
    "plt.plot(epochs_range, acc, label='Training Accuracy')\n",
    "plt.plot(epochs_range, val_acc, label='Validation Accuracy')\n",
    "plt.legend(loc='lower right')\n",
    "plt.title('Training and Validation Accuracy')\n",
    "\n",
    "plt.subplot(1, 2, 2)\n",
    "plt.plot(epochs_range, loss, label='Training Loss')\n",
    "plt.plot(epochs_range, val_loss, label='Validation Loss')\n",
    "plt.legend(loc='upper right')\n",
    "plt.title('Training and Validation Loss')\n",
    "plt.show()"
   ]
  },
  {
   "cell_type": "code",
   "execution_count": 24,
   "id": "6cf39a76-fa96-46cb-894a-b6233fd9b97a",
   "metadata": {},
   "outputs": [],
   "source": [
    "model.save(r'O:\\source\\repos\\EVE-Online-Bot\\training_data_miner\\mining_tools_state.h5')"
   ]
  },
  {
   "cell_type": "code",
   "execution_count": 25,
   "id": "066e5bf6-e61e-4cf5-b374-2c423ec4cd59",
   "metadata": {},
   "outputs": [],
   "source": [
    "new_model = tf.keras.models.load_model(r'O:\\source\\repos\\EVE-Online-Bot\\training_data_miner\\mining_tools_state.h5')"
   ]
  },
  {
   "cell_type": "code",
   "execution_count": 40,
   "id": "69544933-ee44-47e2-a6a9-a76939617350",
   "metadata": {},
   "outputs": [],
   "source": [
    "f = open(r'O:\\source\\repos\\EVE-Online-Bot\\training_data_miner\\mining_tools_classes.json', \"r\")\n",
    "classes = json.loads(f.read())"
   ]
  },
  {
   "cell_type": "code",
   "execution_count": 41,
   "id": "c93c2c9d-5e47-43a5-86fc-5026ab43cc4a",
   "metadata": {},
   "outputs": [
    {
     "data": {
      "text/plain": [
       "['both_running',\n",
       " 'invalid',\n",
       " 'miner_1_running',\n",
       " 'miner_2_running',\n",
       " 'no_miners_running']"
      ]
     },
     "execution_count": 41,
     "metadata": {},
     "output_type": "execute_result"
    }
   ],
   "source": [
    "classes"
   ]
  },
  {
   "cell_type": "code",
   "execution_count": null,
   "id": "cd518bec-1916-4efb-8341-4c9376ed2c8a",
   "metadata": {},
   "outputs": [],
   "source": []
  },
  {
   "cell_type": "code",
   "execution_count": 48,
   "id": "e1d3e7dc-391d-430b-b61f-76fa5a6a5d1f",
   "metadata": {},
   "outputs": [
    {
     "name": "stdout",
     "output_type": "stream",
     "text": [
      "1/1 [==============================] - 0s 17ms/step\n",
      "This image most likely belongs to invalid with a 100.00 percent confidence.\n"
     ]
    }
   ],
   "source": [
    "in_flight = list(data_dir.glob('invalid/*.png'))\n",
    "img = tf.keras.utils.load_img(\n",
    "    in_flight[0], target_size=(img_height, img_width)\n",
    ")\n",
    "img_array = tf.keras.utils.img_to_array(img)\n",
    "img_array = tf.expand_dims(img_array, 0) # Create a batch\n",
    "predictions = new_model.predict(img_array)\n",
    "score = tf.nn.softmax(predictions[0])\n",
    "print(\n",
    "    \"This image most likely belongs to {} with a {:.2f} percent confidence.\"\n",
    "    .format(classes[np.argmax(score)], 100 * np.max(score))\n",
    ")"
   ]
  },
  {
   "cell_type": "code",
   "execution_count": null,
   "id": "1637f7bc-30de-47cc-9b21-95c11990cc5d",
   "metadata": {},
   "outputs": [],
   "source": []
  }
 ],
 "metadata": {
  "kernelspec": {
   "display_name": "Python 3 (ipykernel)",
   "language": "python",
   "name": "python3"
  },
  "language_info": {
   "codemirror_mode": {
    "name": "ipython",
    "version": 3
   },
   "file_extension": ".py",
   "mimetype": "text/x-python",
   "name": "python",
   "nbconvert_exporter": "python",
   "pygments_lexer": "ipython3",
   "version": "3.10.10"
  }
 },
 "nbformat": 4,
 "nbformat_minor": 5
}
