{
 "cells": [
  {
   "cell_type": "code",
   "execution_count": null,
   "id": "a3839a91-97c4-4e47-b7c3-9da79c1d94ae",
   "metadata": {},
   "outputs": [],
   "source": [
    "import sys, os, decimal, json\n",
    "sys.path.append(os.path.realpath('..'))\n",
    "\n",
    "from MiningBot.EveInterface.Interface import Interface\n",
    "import json, time\n",
    "import pyautogui\n",
    "import socket\n"
   ]
  },
  {
   "cell_type": "code",
   "execution_count": null,
   "id": "48eaea2b-e81e-42d9-b7b1-0c26d516400e",
   "metadata": {},
   "outputs": [
    {
     "ename": "NameError",
     "evalue": "name 'Interface' is not defined",
     "output_type": "error",
     "traceback": [
      "\u001b[1;31m---------------------------------------------------------------------------\u001b[0m",
      "\u001b[1;31mNameError\u001b[0m                                 Traceback (most recent call last)",
      "Cell \u001b[1;32mIn[3], line 3\u001b[0m\n\u001b[0;32m      1\u001b[0m config_dir \u001b[38;5;241m=\u001b[39m \u001b[38;5;124mr\u001b[39m\u001b[38;5;124m'\u001b[39m\u001b[38;5;124m../MiningBot/Configs/configs.json\u001b[39m\u001b[38;5;124m'\u001b[39m\n\u001b[0;32m      2\u001b[0m config \u001b[38;5;241m=\u001b[39m json\u001b[38;5;241m.\u001b[39mload(\u001b[38;5;28mopen\u001b[39m(config_dir))[socket\u001b[38;5;241m.\u001b[39mgethostname()]\n\u001b[1;32m----> 3\u001b[0m game \u001b[38;5;241m=\u001b[39m \u001b[43mInterface\u001b[49m(config_dir\u001b[38;5;241m=\u001b[39mconfig_dir)\n",
      "\u001b[1;31mNameError\u001b[0m: name 'Interface' is not defined"
     ]
    }
   ],
   "source": [
    "config_dir = r'../MiningBot/Configs/configs.json'\n",
    "config = json.load(open(config_dir))[socket.gethostname()]\n",
    "game = Interface(config_dir=config_dir)"
   ]
  },
  {
   "cell_type": "code",
   "execution_count": 1,
   "id": "c5d81b8b-2a3b-4855-9647-2ee92a3b84a2",
   "metadata": {},
   "outputs": [],
   "source": []
  },
  {
   "cell_type": "code",
   "execution_count": null,
   "id": "fcb22b1b-bc40-4885-ba5d-2f574fd09045",
   "metadata": {},
   "outputs": [],
   "source": []
  },
  {
   "cell_type": "code",
   "execution_count": null,
   "id": "1439ed7f-b9db-4de2-b150-3c47af21246f",
   "metadata": {},
   "outputs": [],
   "source": [
    "def get_processed_cords(x, y):\n",
    "    return x + config['monitor_offset_x'], y + config['monitor_offset_y']"
   ]
  },
  {
   "cell_type": "code",
   "execution_count": null,
   "id": "4e01f7dd-3f58-4628-af84-d84abdb6cb51",
   "metadata": {},
   "outputs": [],
   "source": [
    "# existing station...\n",
    "\n",
    "resource_map = {}\n",
    "\n",
    "def perform_mapping():\n",
    "    global resource_map\n",
    "    targets = ['Site One Alpha', 'Site Two Alpha', 'Site Three Alpha']\n",
    "    df = game.get_location_data(refresh_screen=True)\n",
    "    print(df)\n",
    "    for target in targets:\n",
    "        try:\n",
    "            print(f'Navigating to {target}')\n",
    "            xy = df.loc[df['Name'] == target, 'click_target'].values[0]\n",
    "            pyautogui.moveTo(xy)\n",
    "            time.sleep(0.1)\n",
    "            pyautogui.click(button='right')\n",
    "            time.sleep(0.1)\n",
    "            pyautogui.moveTo(xy[0] + 50, xy[1] + 25)\n",
    "            time.sleep(0.1)\n",
    "            pyautogui.click(button='left')\n",
    "            time.sleep(0.1)\n",
    "            pyautogui.moveTo(1, 1)\n",
    "            time.sleep(60)\n",
    "\n",
    "            print('scanning...')\n",
    "            pyautogui.moveTo(get_processed_cords(config['scanner_button_x'], config['scanner_button_y']))\n",
    "            time.sleep(0.1)\n",
    "            pyautogui.click(button='left')\n",
    "            time.sleep(7)\n",
    "            resource_map[target] = game.get_survey_scan_data(refresh_screen=True, extract_type='bool')\n",
    "            print(f'Data Collected!')\n",
    "        except Exception as e:\n",
    "            print(e)"
   ]
  },
  {
   "cell_type": "code",
   "execution_count": null,
   "id": "a836150b-a128-4ac7-bc31-5ff1913a5570",
   "metadata": {},
   "outputs": [],
   "source": [
    "mining_sites = config['mining_sites']\n",
    "def find_Mining_spot(keep_finding = True):\n",
    "    location_df = game.get_location_data(refresh_screen=True)\n",
    "    while True:\n",
    "        for target in mining_sites:\n",
    "            print(f'Navigating to {target}')\n",
    "            xy = location_df.loc[location_df['Name'] == target, 'click_target'].values[0]\n",
    "            pyautogui.moveTo(xy)\n",
    "            time.sleep(0.1)\n",
    "            pyautogui.click(button='right')\n",
    "            time.sleep(0.1)\n",
    "            pyautogui.moveTo(xy[0] + 50, xy[1] + 25)\n",
    "            time.sleep(0.1)\n",
    "            pyautogui.click(button='left')\n",
    "            time.sleep(0.1)\n",
    "            pyautogui.moveTo(1, 1)\n",
    "            time.sleep(60)\n",
    "\n",
    "            print('scanning...')\n",
    "            pyautogui.moveTo(get_processed_cords(*config['scanner_button_target']))\n",
    "            time.sleep(0.1)\n",
    "            pyautogui.click(button='left')\n",
    "            time.sleep(7)\n",
    "            scan_df = game.get_survey_scan_data(refresh_screen=True, extract_type='bool')\n",
    "            if len(scan_df[scan_df['Quantity']==True]) >= 2:\n",
    "                return target\n",
    "        if keep_finding == False:\n",
    "            print('keep_finding = False, sending Home.')\n",
    "            target = 'Home'\n",
    "            print(f'Navigating to {target}')\n",
    "            xy = location_df.loc[location_df['Name'] == target, 'click_target'].values[0]\n",
    "            pyautogui.moveTo(xy)\n",
    "            time.sleep(0.1)\n",
    "            pyautogui.click(button='right')\n",
    "            time.sleep(0.1)\n",
    "            pyautogui.moveTo(xy[0] + 50, xy[1] + 25)\n",
    "            time.sleep(0.1)\n",
    "            pyautogui.click(button='left')\n",
    "            time.sleep(0.1)\n",
    "            pyautogui.moveTo(1, 1)\n",
    "            time.sleep(60)\n",
    "            print('Unable to locate Ore, Done...')\n",
    "            return    "
   ]
  },
  {
   "cell_type": "code",
   "execution_count": null,
   "id": "855e0ea1-3bb3-4fa2-ab0a-37ee0907c1fe",
   "metadata": {},
   "outputs": [],
   "source": [
    "#game.get_survey_scan_data(refresh_screen=True, extract_type='bool')"
   ]
  },
  {
   "cell_type": "code",
   "execution_count": null,
   "id": "96b3e742-41b1-441f-acce-db8cd3261b67",
   "metadata": {},
   "outputs": [],
   "source": [
    "#find_Mining_spot()"
   ]
  },
  {
   "cell_type": "code",
   "execution_count": null,
   "id": "867c81e7-6653-4d3d-92f3-9801b6c7b58a",
   "metadata": {},
   "outputs": [],
   "source": [
    "def mine_till_full():\n",
    "    field_depleted = False\n",
    "    while True:\n",
    "        cargo_percent = game.get_cargo_data(refresh_screen=True)\n",
    "        print(f'Cargo {cargo_percent:.2f}')\n",
    "        if cargo_percent > 0.9 or field_depleted:\n",
    "            target = 'Home'\n",
    "            location_df = game.get_location_data(refresh_screen=True)\n",
    "            print(f'Navigating to {target}')\n",
    "            xy = location_df.loc[location_df['Name'] == target, 'click_target'].values[0]\n",
    "            pyautogui.moveTo(xy)\n",
    "            time.sleep(0.1)\n",
    "            pyautogui.click(button='right')\n",
    "            time.sleep(0.1)\n",
    "            pyautogui.moveTo(xy[0] + 50, xy[1] + 25)\n",
    "            time.sleep(0.1)\n",
    "            pyautogui.click(button='left')\n",
    "            time.sleep(0.1)\n",
    "            pyautogui.moveTo(10, 10)\n",
    "            time.sleep(180) # warning, docking can take some time.\n",
    "            break\n",
    "        scan_df = game.get_survey_scan_data(refresh_screen=True, extract_type='bool')\n",
    "        scan_df = scan_df[scan_df['Quantity'] == True]\n",
    "        \n",
    "        if len(scan_df) < 2:\n",
    "            field_depleted = True\n",
    "        \n",
    "        snap_df = scan_df[0:2]\n",
    "        snap_df = snap_df[~snap_df['Locked'] == True]\n",
    "        indicies = snap_df.index\n",
    "        if len(indicies) == 2:\n",
    "            print('starting 2x...')\n",
    "            for i in indicies:\n",
    "                pyautogui.moveTo(scan_df.loc[i, 'click_target'])\n",
    "                time.sleep(0.1)\n",
    "                pyautogui.keyDown('ctrl')\n",
    "                time.sleep(0.1)\n",
    "                pyautogui.click()\n",
    "                time.sleep(0.1)\n",
    "                pyautogui.keyUp('ctrl')\n",
    "                time.sleep(1)\n",
    "            time.sleep(4)\n",
    "            xy=None\n",
    "            for i, index in enumerate(indicies):\n",
    "                xy = scan_df.loc[index, 'click_target']\n",
    "                pyautogui.moveTo(xy)\n",
    "                time.sleep(0.1)\n",
    "                pyautogui.click()\n",
    "                time.sleep(0.1)\n",
    "                pyautogui.press(f'f{i + 1}')\n",
    "                time.sleep(1)\n",
    "            xy = (10, 10)\n",
    "            pyautogui.moveTo(xy)\n",
    "            print('started...')\n",
    "            time.sleep(175)    \n",
    "        else:\n",
    "            print('skipping...')\n",
    "            time.sleep(30)           "
   ]
  },
  {
   "cell_type": "code",
   "execution_count": null,
   "id": "79684ec6-edfd-42f6-a31a-4b43c2002418",
   "metadata": {},
   "outputs": [],
   "source": [
    "def unload():\n",
    "    pyautogui.moveTo(get_processed_cords(*config['click_and_drag_inv_box'][2:4])) #\n",
    "    time.sleep(0.1)\n",
    "    x, y = get_processed_cords(*config['click_and_drag_inv_box'][0:2])\n",
    "    pyautogui.dragTo(x, y, 1,  button='left')\n",
    "    time.sleep(0.1)\n",
    "    pyautogui.moveTo(get_processed_cords(*config['click_and_drag_inv_line'][0:2]))\n",
    "    time.sleep(0.1)\n",
    "    x, y = get_processed_cords(*config['click_and_drag_inv_line'][2:4])\n",
    "    pyautogui.dragTo(x, y, 1,  button='left')\n",
    "    time.sleep(0.1)\n",
    "    pyautogui.moveTo(get_processed_cords(*config['exit_hanger_target']))\n",
    "    time.sleep(0.1)\n",
    "    pyautogui.click(button='left')\n",
    "\n",
    "    time.sleep(60)"
   ]
  },
  {
   "cell_type": "code",
   "execution_count": null,
   "id": "7598de42-cbde-4ad9-aa2d-2e085844eef8",
   "metadata": {},
   "outputs": [],
   "source": [
    "while True:\n",
    "    try:\n",
    "        find_Mining_spot()\n",
    "        mine_till_full()\n",
    "        unload()\n",
    "    except Exception as e:\n",
    "        print(e)\n",
    "        pass"
   ]
  },
  {
   "cell_type": "code",
   "execution_count": null,
   "id": "fb6ebe13-fa5b-45af-8c67-70cf93848a90",
   "metadata": {},
   "outputs": [],
   "source": []
  },
  {
   "cell_type": "code",
   "execution_count": null,
   "id": "9bd763d8-7573-49fa-a75c-ae39ed727b04",
   "metadata": {},
   "outputs": [],
   "source": []
  }
 ],
 "metadata": {
  "kernelspec": {
   "display_name": "Python 3 (ipykernel)",
   "language": "python",
   "name": "python3"
  },
  "language_info": {
   "codemirror_mode": {
    "name": "ipython",
    "version": 3
   },
   "file_extension": ".py",
   "mimetype": "text/x-python",
   "name": "python",
   "nbconvert_exporter": "python",
   "pygments_lexer": "ipython3",
   "version": "3.10.10"
  }
 },
 "nbformat": 4,
 "nbformat_minor": 5
}
