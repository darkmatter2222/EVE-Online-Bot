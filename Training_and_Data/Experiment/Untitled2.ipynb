{
 "cells": [
  {
   "cell_type": "code",
   "execution_count": 2,
   "id": "d7b82cd8-de03-4f6e-9459-086fbda2cad6",
   "metadata": {
    "tags": []
   },
   "outputs": [],
   "source": [
    "import win32gui"
   ]
  },
  {
   "cell_type": "code",
   "execution_count": 3,
   "id": "277a8267-59c7-4f31-a056-0fe046ad93bd",
   "metadata": {
    "tags": []
   },
   "outputs": [
    {
     "name": "stdin",
     "output_type": "stream",
     "text": [
      "enter name of window to find EVE - Vantikira Kanjus\n"
     ]
    },
    {
     "name": "stdout",
     "output_type": "stream",
     "text": [
      "FOUND!\n"
     ]
    }
   ],
   "source": [
    "win2find = input('enter name of window to find')\n",
    "whnd = win32gui.FindWindowEx(None, None, None, win2find)\n",
    "if not (whnd == 0):\n",
    "  print('FOUND!')"
   ]
  },
  {
   "cell_type": "code",
   "execution_count": 4,
   "id": "17493c62-6d6e-4de9-9f33-5cbdf32b5433",
   "metadata": {
    "tags": []
   },
   "outputs": [
    {
     "data": {
      "text/plain": [
       "2100174"
      ]
     },
     "execution_count": 4,
     "metadata": {},
     "output_type": "execute_result"
    }
   ],
   "source": [
    "whnd"
   ]
  },
  {
   "cell_type": "code",
   "execution_count": 10,
   "id": "beadd0b9-4b3a-45b2-a8cb-6c603233aa7c",
   "metadata": {
    "tags": []
   },
   "outputs": [],
   "source": [
    "import win32gui\n",
    "import win32api\n",
    "import win32con\n",
    "\n",
    "\n",
    "def control_click(x, y, handle, button='left'):\n",
    "\n",
    "    l_param = win32api.MAKELONG(x, y)\n",
    "\n",
    "    if button == 'left':\n",
    "        win32gui.PostMessage(handle, win32con.WM_LBUTTONDOWN, 0, l_param)\n",
    "        win32gui.PostMessage(handle, win32con.WM_LBUTTONUP, 0, l_param)\n",
    "\n",
    "    elif button == 'right':\n",
    "        win32gui.PostMessage(handle, win32con.WM_RBUTTONDOWN, 0, l_param)\n",
    "        win32gui.PostMessage(handle, win32con.WM_RBUTTONUP, 0, l_param)"
   ]
  },
  {
   "cell_type": "code",
   "execution_count": 12,
   "id": "453508e0-486a-4840-995c-9e579d1177b5",
   "metadata": {
    "tags": []
   },
   "outputs": [],
   "source": [
    "control_click(1781-1920,300, 2100174)"
   ]
  },
  {
   "cell_type": "code",
   "execution_count": 41,
   "id": "2144facb-dc60-4c36-894b-155eeca9cb20",
   "metadata": {
    "tags": []
   },
   "outputs": [],
   "source": [
    "def click(x, y):\n",
    "    hWnd = win32gui.FindWindow(None, \"Untitled - Paint\")\n",
    "    lParam = win32api.MAKELONG(x, y)\n",
    "\n",
    "    win32gui.PostMessage(hWnd, win32con.WM_LBUTTONDOWN, win32con.MK_LBUTTON, lParam);\n",
    "    win32gui.PostMessage(hWnd, win32con.WM_LBUTTONUP, win32con.MK_LBUTTON, lParam);"
   ]
  },
  {
   "cell_type": "code",
   "execution_count": 62,
   "id": "9ac2e911-a5ce-4e73-9ac6-e8a4479f21fb",
   "metadata": {
    "tags": []
   },
   "outputs": [],
   "source": [
    "def mouse_click(x, y):\n",
    "    #win32api.SetCursorPos((x, y))\n",
    "    win32api.mouse_event(win32con.MOUSEEVENTF_LEFTDOWN, x, y, 0, 0)\n",
    "    win32api.mouse_event(win32con.MOUSEEVENTF_LEFTUP, x, y, 0, 0)"
   ]
  },
  {
   "cell_type": "code",
   "execution_count": 69,
   "id": "b263b761-9008-4d87-8869-6d5644b26551",
   "metadata": {
    "tags": []
   },
   "outputs": [],
   "source": [
    "def mouse_click_v2(x, y):\n",
    "    #win32api.SetCursorPos((x, y))\n",
    "    win32api.SendMessage(win32con.MOUSEEVENTF_LEFTDOWN, x, y, 0)\n",
    "    win32api.SendMessage(win32con.MOUSEEVENTF_LEFTUP, x, y, 0)"
   ]
  },
  {
   "cell_type": "code",
   "execution_count": 63,
   "id": "93ec6c16-6513-4bcc-b9dd-8b22a384df83",
   "metadata": {
    "tags": []
   },
   "outputs": [
    {
     "data": {
      "text/plain": [
       "(1920, 1)"
      ]
     },
     "execution_count": 63,
     "metadata": {},
     "output_type": "execute_result"
    }
   ],
   "source": [
    "hWnd = win32gui.FindWindow(None, \"Untitled - Paint\")\n",
    "offset = win32gui.ScreenToClient(hWnd, (0,0))\n",
    "offset"
   ]
  },
  {
   "cell_type": "code",
   "execution_count": 64,
   "id": "103d3186-1385-4856-b8c5-f760a492cc03",
   "metadata": {
    "tags": []
   },
   "outputs": [],
   "source": [
    "click(1000, 1000)"
   ]
  },
  {
   "cell_type": "code",
   "execution_count": 71,
   "id": "b38158e4-b750-4be1-9351-8b30ee4f1e74",
   "metadata": {
    "tags": []
   },
   "outputs": [],
   "source": [
    "mouse_click_v2(-1000, 500)"
   ]
  },
  {
   "cell_type": "code",
   "execution_count": null,
   "id": "9fc03772-7a5b-4dc2-b425-b1ec1ffc5f7e",
   "metadata": {},
   "outputs": [],
   "source": []
  }
 ],
 "metadata": {
  "kernelspec": {
   "display_name": "Python 3 (ipykernel)",
   "language": "python",
   "name": "python3"
  },
  "language_info": {
   "codemirror_mode": {
    "name": "ipython",
    "version": 3
   },
   "file_extension": ".py",
   "mimetype": "text/x-python",
   "name": "python",
   "nbconvert_exporter": "python",
   "pygments_lexer": "ipython3",
   "version": "3.10.10"
  }
 },
 "nbformat": 4,
 "nbformat_minor": 5
}
