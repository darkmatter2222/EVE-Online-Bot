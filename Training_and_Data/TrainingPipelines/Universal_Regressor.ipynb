{
 "cells": [
  {
   "cell_type": "code",
   "execution_count": null,
   "id": "4947411d-2d4c-49e2-b938-ab767b96669d",
   "metadata": {
    "tags": []
   },
   "outputs": [],
   "source": [
    "balance_names = []"
   ]
  },
  {
   "cell_type": "code",
   "execution_count": null,
   "id": "86ebda2a-3fce-4bd8-8d9f-892981e30906",
   "metadata": {
    "tags": []
   },
   "outputs": [],
   "source": [
    "import sys, os, decimal, json\n",
    "sys.path.append(os.path.realpath('..'))\n",
    "import json, time\n",
    "import pandas as pd\n",
    "import random\n",
    "import matplotlib.pyplot as plt\n",
    "import glob\n",
    "\n",
    "import matplotlib.pyplot as plt\n",
    "import numpy as np\n",
    "import PIL, json\n",
    "import tensorflow as tf\n",
    "import socket\n",
    "import pathlib\n",
    "from tqdm import tqdm\n",
    "from PIL import Image, ImageDraw, ImageOps\n",
    "\n",
    "from tensorflow.keras import layers\n",
    "from tensorflow.keras.models import Sequential\n",
    "from tensorflow.keras.optimizers import Adam, SGD\n",
    "import tensorflow_addons as tfa\n",
    "from tensorflow.keras.callbacks import ModelCheckpoint, CSVLogger, ReduceLROnPlateau, EarlyStopping, TensorBoard\n",
    "from tensorflow.keras.applications import VGG16\n",
    "\n",
    "from sklearn.metrics import confusion_matrix\n",
    "from sklearn.metrics import roc_auc_score\n",
    "\n",
    "from TrainingPipelines.ImageClassifier.ModelBuilder import build_and_train\n",
    "\n",
    "import seaborn as sns\n",
    "import mplcyberpunk\n",
    "tf.random.set_seed(42)\n",
    "\n",
    "plt.style.use(\"cyberpunk\")\n",
    "plt.rcParams['figure.facecolor'] = '#0d1117'\n",
    "plt.rcParams['axes.facecolor'] = '#0d1117'\n",
    "plt.rcParams['savefig.facecolor'] = '#0d1117'"
   ]
  },
  {
   "cell_type": "code",
   "execution_count": null,
   "id": "be607b37-bdfe-46bf-b62f-a4a2a191e5d1",
   "metadata": {
    "tags": []
   },
   "outputs": [],
   "source": [
    "print(\"Num GPUs Available: \", len(tf.config.list_physical_devices('GPU')))"
   ]
  },
  {
   "cell_type": "code",
   "execution_count": null,
   "id": "f9455f89-cfec-4f98-b3c6-90b45b563a18",
   "metadata": {
    "tags": []
   },
   "outputs": [],
   "source": [
    "reduction = 1\n",
    "\n",
    "img_width = int(500/reduction)\n",
    "img_height = int(600/reduction)"
   ]
  },
  {
   "cell_type": "code",
   "execution_count": null,
   "id": "97c93a4c-ed1b-48f6-8693-ea01204e71cd",
   "metadata": {
    "tags": []
   },
   "outputs": [],
   "source": [
    "image_names = []\n",
    "path = pathlib.Path(r'O:\\eve_models\\training_data\\route_y')\n",
    "for data in glob.glob(f\"{path}\\*.png\"):\n",
    "    file = data.split('\\\\')[-1:][0]\n",
    "    image_names.append(file)"
   ]
  },
  {
   "cell_type": "code",
   "execution_count": null,
   "id": "07ae1f81-9268-476d-ade3-3f75bb333eea",
   "metadata": {
    "tags": []
   },
   "outputs": [],
   "source": [
    "random.shuffle(image_names)"
   ]
  },
  {
   "cell_type": "code",
   "execution_count": null,
   "id": "14df9605-f038-4f65-b735-bd9a357cc454",
   "metadata": {
    "tags": []
   },
   "outputs": [],
   "source": [
    "image_data = {}\n",
    "f = open(f\"{path}\\\\boxes.json\")\n",
    "image_data_raw = json.load(f)\n",
    "f.close()\n",
    "\n",
    "for data in image_data_raw:\n",
    "    image_data[data['image_name']] = data['bbox'][1:2]\n",
    "image_data[list(image_data.keys())[0]]"
   ]
  },
  {
   "cell_type": "code",
   "execution_count": null,
   "id": "997d4cad-802b-4b0b-bf86-8dd1eb71a063",
   "metadata": {
    "tags": []
   },
   "outputs": [],
   "source": [
    "def convert_to_baw(img, thresh=80):\n",
    "    fn = lambda x: 255 if x > thresh else 0\n",
    "    return img.convert('L').point(fn, mode='1')"
   ]
  },
  {
   "cell_type": "code",
   "execution_count": null,
   "id": "929d2b49-670f-4767-87db-407cd83a9d76",
   "metadata": {
    "tags": []
   },
   "outputs": [],
   "source": [
    "train_names, val_names, test_names = np.split(image_names, [int(len(image_names)*0.7), int(len(image_names)*0.9)])"
   ]
  },
  {
   "cell_type": "code",
   "execution_count": null,
   "id": "943505a6-79d7-46d0-99ca-91f56893a26b",
   "metadata": {
    "tags": []
   },
   "outputs": [],
   "source": [
    "train_x = []\n",
    "for image_name in tqdm(train_names):\n",
    "    try:\n",
    "        img = Image.open(f\"{path}\\\\{image_name}\")\n",
    "        #img = convert_to_baw(img)\n",
    "        #img = img.crop((120, 0, 160, 600))\n",
    "        if reduction != 1:\n",
    "            img = img.resize((img_width, img_height), resample=Image.Resampling.NEAREST)\n",
    "        train_x.append(np.array(img))\n",
    "    except:\n",
    "        print(f\"{path}\\\\{image_name}\")\n",
    "    \n",
    "val_x = []\n",
    "for image_name in tqdm(val_names):\n",
    "    img = Image.open(f\"{path}\\\\{image_name}\")\n",
    "    #img = convert_to_baw(img)\n",
    "    #img = img.crop((120, 0, 160, 600))\n",
    "    if reduction != 1:\n",
    "        img = img.resize((img_width, img_height), resample=Image.Resampling.NEAREST)\n",
    "    val_x.append(np.array(img))\n",
    "    \n",
    "test_x = []\n",
    "for image_name in tqdm(test_names):\n",
    "    img = Image.open(f\"{path}\\\\{image_name}\")\n",
    "    #img = convert_to_baw(img)\n",
    "    #img = img.crop((120, 0, 160, 600))\n",
    "    if reduction != 1:\n",
    "        img = img.resize((img_width, img_height), resample=Image.Resampling.NEAREST)\n",
    "    test_x.append(np.array(img))"
   ]
  },
  {
   "cell_type": "code",
   "execution_count": null,
   "id": "2587bf5f-84fa-405b-8f58-8038803ced30",
   "metadata": {
    "tags": []
   },
   "outputs": [],
   "source": [
    "Image.fromarray(train_x[0])"
   ]
  },
  {
   "cell_type": "code",
   "execution_count": null,
   "id": "4eca7a01-b5d5-4076-a638-6979e4903322",
   "metadata": {
    "tags": []
   },
   "outputs": [],
   "source": [
    "train_x[0].shape"
   ]
  },
  {
   "cell_type": "code",
   "execution_count": null,
   "id": "0103f1f0-b4e2-4015-9bb6-2e11a39f747b",
   "metadata": {
    "tags": []
   },
   "outputs": [],
   "source": [
    "np.array([[1]*9]*2).shape"
   ]
  },
  {
   "cell_type": "code",
   "execution_count": null,
   "id": "5f8b4f81-e3e7-4b20-8de9-6966c3e10b56",
   "metadata": {
    "tags": []
   },
   "outputs": [],
   "source": [
    "len(train_x)"
   ]
  },
  {
   "cell_type": "code",
   "execution_count": null,
   "id": "e7d575fd-e0dc-4b17-91fb-6be8e24f792b",
   "metadata": {
    "tags": []
   },
   "outputs": [],
   "source": [
    "train_x[0].shape"
   ]
  },
  {
   "cell_type": "code",
   "execution_count": null,
   "id": "690da72d-d93b-479e-9e1f-04cedbd1e9a3",
   "metadata": {
    "tags": []
   },
   "outputs": [],
   "source": [
    "train_y = []\n",
    "for image_name in tqdm(train_names):\n",
    "    train_y.append(image_data[image_name][0] / reduction)\n",
    "    \n",
    "val_y = []\n",
    "for image_name in tqdm(val_names):\n",
    "    val_y.append(image_data[image_name][0] / reduction)\n",
    "    \n",
    "test_y = []\n",
    "for image_name in tqdm(test_names):\n",
    "    test_y.append(image_data[image_name][0] / reduction)"
   ]
  },
  {
   "cell_type": "code",
   "execution_count": null,
   "id": "9e3b7043-5027-469a-bdc4-6bb1c242d81c",
   "metadata": {
    "tags": []
   },
   "outputs": [],
   "source": [
    "len(train_x)"
   ]
  },
  {
   "cell_type": "code",
   "execution_count": null,
   "id": "b6501a09-24ba-4383-b9d7-11474d496d85",
   "metadata": {
    "tags": []
   },
   "outputs": [],
   "source": [
    "train_x[0].shape"
   ]
  },
  {
   "cell_type": "code",
   "execution_count": null,
   "id": "4bb90dc5-4cf8-4b2a-9db6-e6e90cce4549",
   "metadata": {
    "tags": []
   },
   "outputs": [],
   "source": [
    "len(train_y)"
   ]
  },
  {
   "cell_type": "code",
   "execution_count": null,
   "id": "47a8d055-55e2-4d9d-9f9f-993673810292",
   "metadata": {
    "tags": []
   },
   "outputs": [],
   "source": [
    "train_y[0]"
   ]
  },
  {
   "cell_type": "code",
   "execution_count": null,
   "id": "e96f65aa-c700-44df-9339-5e685460aa27",
   "metadata": {
    "tags": []
   },
   "outputs": [],
   "source": [
    "augmentations = 0\n",
    "aug_range_y = [-50, 60]\n",
    "\n",
    "#balance_names = []\n",
    "\n",
    "train_alter_x = []\n",
    "train_alter_y = []\n",
    "train_alter_names = []\n",
    "for i in tqdm(range(len(train_x))):\n",
    "    true_aug = augmentations\n",
    "    if train_names[i] in balance_names:\n",
    "        true_aug = augmentations * (balance_names.count(train_names[i]))\n",
    "        \n",
    "    for a in range(true_aug):\n",
    "        img = Image.fromarray(train_x[i])\n",
    "        x_pixels = 0  \n",
    "        y_pixels = random.randint(*aug_range_y)\n",
    "        translated_img = img.transform(img.size, Image.AFFINE, (1, 0, x_pixels, 0, 1, y_pixels))\n",
    "        train_alter_x.append(np.array(translated_img))\n",
    "\n",
    "        train_alter_y.append(train_y[i] - y_pixels)\n",
    "        train_alter_names.append(train_names[i])\n",
    "\n",
    "train_x = train_x + train_alter_x\n",
    "train_y = train_y + train_alter_y\n",
    "train_names = np.array(list(train_names) + train_alter_names)"
   ]
  },
  {
   "cell_type": "code",
   "execution_count": null,
   "id": "542ec6c6-ba62-40bb-af9f-4a071d1bd9bb",
   "metadata": {
    "tags": []
   },
   "outputs": [],
   "source": [
    "index = 1000\n",
    "img = Image.fromarray(train_x[index])\n",
    "img1 = ImageDraw.Draw(img)  \n",
    "y = train_y[index]\n",
    "print(y)\n",
    "img1.line([(0, y),(500, y)], fill =\"Green\", width=2)\n",
    "img"
   ]
  },
  {
   "cell_type": "code",
   "execution_count": null,
   "id": "cb976804-de98-4323-878e-3889fec7d030",
   "metadata": {
    "tags": []
   },
   "outputs": [],
   "source": [
    "x_pixels=0\n",
    "y_pixels=50\n",
    "index = 1000\n",
    "img = Image.fromarray(train_x[index])\n",
    "img = img.transform(img.size, Image.AFFINE, (1, 0, x_pixels, 0, 1, y_pixels))\n",
    "img1 = ImageDraw.Draw(img)  \n",
    "y = train_y[index] - y_pixels\n",
    "print(y)\n",
    "img1.line([(0, y),(500, y)], fill =\"Green\", width=2)\n",
    "img\n",
    "\n"
   ]
  },
  {
   "cell_type": "code",
   "execution_count": null,
   "id": "4722be31-f687-494e-b16a-120d39a85c8f",
   "metadata": {},
   "outputs": [],
   "source": []
  },
  {
   "cell_type": "code",
   "execution_count": null,
   "id": "4477d134-342e-4b88-8643-099d1475fb49",
   "metadata": {
    "tags": []
   },
   "outputs": [],
   "source": [
    "train_y[0]"
   ]
  },
  {
   "cell_type": "code",
   "execution_count": null,
   "id": "2a496093-5ae7-4a46-b137-a1b21a6fb28c",
   "metadata": {
    "tags": []
   },
   "outputs": [],
   "source": [
    "train_y[-1]"
   ]
  },
  {
   "cell_type": "code",
   "execution_count": null,
   "id": "4cdb6f4a-5c34-4ba5-b174-5d898029d310",
   "metadata": {
    "tags": []
   },
   "outputs": [],
   "source": [
    "len(train_x)"
   ]
  },
  {
   "cell_type": "code",
   "execution_count": null,
   "id": "e1a18d83-fd54-4c70-b316-e05cfea930ca",
   "metadata": {
    "tags": []
   },
   "outputs": [],
   "source": [
    "train_x[0].shape"
   ]
  },
  {
   "cell_type": "code",
   "execution_count": null,
   "id": "ec695869-7374-43c5-9e07-309e8cb60d11",
   "metadata": {
    "tags": []
   },
   "outputs": [],
   "source": [
    "len(train_y)"
   ]
  },
  {
   "cell_type": "code",
   "execution_count": null,
   "id": "8523f483-c201-43a8-9b02-0705355e302f",
   "metadata": {
    "tags": []
   },
   "outputs": [],
   "source": [
    "len(train_alter_y)"
   ]
  },
  {
   "cell_type": "code",
   "execution_count": null,
   "id": "27be21ec-9fd6-403c-b3ed-aa5cb0e812ae",
   "metadata": {
    "tags": []
   },
   "outputs": [],
   "source": [
    "import pandas as pd"
   ]
  },
  {
   "cell_type": "code",
   "execution_count": null,
   "id": "4e327245-413b-4c11-8945-6df78f76619a",
   "metadata": {
    "tags": []
   },
   "outputs": [],
   "source": [
    "data = { 'image_names':train_names, 'y':train_y\n",
    "}\n",
    "df = pd.DataFrame(columns=['image_names','y'], data=data)\n",
    "df"
   ]
  },
  {
   "cell_type": "code",
   "execution_count": null,
   "id": "a6445725-1288-4397-86c4-dbcce676af6d",
   "metadata": {
    "tags": []
   },
   "outputs": [],
   "source": [
    "df['bins'] = pd.cut(df['y'], bins=range(0,600,11))\n",
    "df"
   ]
  },
  {
   "cell_type": "code",
   "execution_count": null,
   "id": "f9178c3b-4e23-4c5a-8fd0-b110ef145925",
   "metadata": {
    "tags": []
   },
   "outputs": [],
   "source": [
    "df['bin_id'] = 0\n",
    "for i in df.index:\n",
    "    df.loc[i, 'bin_id'] = df.loc[i, 'bins'].left\n",
    "df['tick'] = 1\n",
    "\n",
    "df.groupby('bin_id')['tick'].sum().sort_values(ascending=True)"
   ]
  },
  {
   "cell_type": "code",
   "execution_count": null,
   "id": "890b259f-c052-4a44-842f-fb38e11626c7",
   "metadata": {
    "tags": []
   },
   "outputs": [],
   "source": [
    "def mkdir_p(path):\n",
    "    try:\n",
    "        os.makedirs(path)\n",
    "    except OSError as exc: # Python >2.5\n",
    "        if exc.errno == errno.EEXIST and os.path.isdir(path):\n",
    "            pass\n",
    "        else: raise\n",
    "        \n",
    "def copy(source, destination):\n",
    "    with open(source, 'rb') as file:\n",
    "        myFile = file.read()\n",
    "    with open(destination, 'wb') as file:\n",
    "        file.write(myFile)"
   ]
  },
  {
   "cell_type": "code",
   "execution_count": null,
   "id": "17b78da5-be2b-46c9-abab-cd5fc6d1bb50",
   "metadata": {
    "tags": []
   },
   "outputs": [],
   "source": [
    "import os, os.path\n",
    "path = r'O:\\eve_models\\training_data\\route_y_large_vert_class'\n",
    "unique_bins = df['bin_id'].unique()\n",
    "for bin_id in unique_bins:\n",
    "    mkdir_p(f\"{path}\\\\{bin_id}\")"
   ]
  },
  {
   "cell_type": "code",
   "execution_count": null,
   "id": "d65e74c0-7662-4685-8acc-af78bd064995",
   "metadata": {
    "tags": []
   },
   "outputs": [],
   "source": [
    "source = r'O:\\eve_models\\training_data\\route_y'\n",
    "dest = r'O:\\eve_models\\training_data\\route_y_large_vert_class'\n",
    "for i in df.index:\n",
    "    this_source = f\"{source}\\\\{df.loc[i, 'image_names']}\"\n",
    "    this_dest = f\"{dest}\\\\{df.loc[i, 'bin_id']}\\\\{df.loc[i, 'image_names']}\"\n",
    "    copy(this_source, this_dest)"
   ]
  },
  {
   "cell_type": "code",
   "execution_count": null,
   "id": "3db07ecf-6be8-4852-a45d-1011bd147195",
   "metadata": {
    "tags": []
   },
   "outputs": [],
   "source": [
    "index = df.groupby('bin_id')['tick'].sum().sort_values(ascending=True)[0:10].index\n",
    "index"
   ]
  },
  {
   "cell_type": "code",
   "execution_count": null,
   "id": "4a7a02c2-7b1a-4e33-825e-71c435500c2d",
   "metadata": {
    "tags": []
   },
   "outputs": [],
   "source": []
  },
  {
   "cell_type": "code",
   "execution_count": null,
   "id": "d1ff5ea6-f502-4d11-9a91-88290e648e2e",
   "metadata": {
    "tags": []
   },
   "outputs": [],
   "source": [
    "low_image_names = list(df.loc[df['bin_id'].isin(list(index))]['image_names'].values)\n",
    "len(low_image_names)"
   ]
  },
  {
   "cell_type": "code",
   "execution_count": null,
   "id": "43502820-2768-4157-9c8e-9972ecaed119",
   "metadata": {
    "tags": []
   },
   "outputs": [],
   "source": [
    "new_box = []\n",
    "for i, record in enumerate(image_data_raw):\n",
    "    if record['image_name'] not in low_image_names:\n",
    "        new_box.append(record)\n",
    "print(len(image_data_raw))\n",
    "print(len(new_box))\n",
    "\n",
    "f = open(f\"{path}\\\\boxesv2.json\", \"w\")\n",
    "f.write(json.dumps(new_box, indent=1))\n",
    "f.close()"
   ]
  },
  {
   "cell_type": "code",
   "execution_count": null,
   "id": "fc4c87c2-03c7-4fc5-b863-b481ebf25ee4",
   "metadata": {
    "tags": []
   },
   "outputs": [],
   "source": [
    "\n",
    "\n",
    "index = df[df['bin_id'] == 275].index[0]\n",
    "img = Image.fromarray(train_x[index])\n",
    "img1 = ImageDraw.Draw(img)  \n",
    "y = train_y[index]\n",
    "print(y)\n",
    "img1.line([(0, y),(500, y)], fill =\"Green\", width=2)\n",
    "img"
   ]
  },
  {
   "cell_type": "code",
   "execution_count": null,
   "id": "4e271adb-389c-474d-b5b3-702dfa408059",
   "metadata": {},
   "outputs": [],
   "source": []
  },
  {
   "cell_type": "code",
   "execution_count": null,
   "id": "3b6d171c-a433-4e77-82b7-916eefa1d24b",
   "metadata": {
    "tags": []
   },
   "outputs": [],
   "source": [
    "train_x = np.array(train_x)\n",
    "val_x = np.array(val_x)\n",
    "test_x = np.array(test_x)\n",
    "\n",
    "train_y = np.array(train_y) / np.array([300])\n",
    "val_y = np.array(val_y) / np.array([300])\n",
    "test_y = np.array(test_y) / np.array([300])\n",
    "\n",
    "#train_y = np.array(train_y)\n",
    "#val_y = np.array(val_y)\n",
    "#test_y = np.array(test_y)"
   ]
  },
  {
   "cell_type": "code",
   "execution_count": null,
   "id": "3c098b58-ab78-4881-b83d-a4b694de49d7",
   "metadata": {
    "tags": []
   },
   "outputs": [],
   "source": [
    "train_y[0]"
   ]
  },
  {
   "cell_type": "code",
   "execution_count": null,
   "id": "0d0d1759-64c6-40aa-8c9d-0eced2d38bc4",
   "metadata": {
    "tags": []
   },
   "outputs": [],
   "source": [
    "train_y[-1]"
   ]
  },
  {
   "cell_type": "code",
   "execution_count": null,
   "id": "c2994274-e569-4a0f-ba4c-93d67d5f1daf",
   "metadata": {
    "tags": []
   },
   "outputs": [],
   "source": []
  },
  {
   "cell_type": "code",
   "execution_count": null,
   "id": "301df728-81b9-4ce9-bec4-2bc790ebd30a",
   "metadata": {
    "tags": []
   },
   "outputs": [],
   "source": [
    "train_x[30].shape"
   ]
  },
  {
   "cell_type": "code",
   "execution_count": null,
   "id": "6b120e5b-7955-479b-889d-72be2a2f69f8",
   "metadata": {
    "tags": []
   },
   "outputs": [],
   "source": [
    "import seaborn as sns\n",
    "sns.histplot(train_y, bins=38)"
   ]
  },
  {
   "cell_type": "code",
   "execution_count": null,
   "id": "8467394e-e8e0-4341-a4d1-3f26b3739827",
   "metadata": {
    "tags": []
   },
   "outputs": [],
   "source": [
    "len(train_x)"
   ]
  },
  {
   "cell_type": "code",
   "execution_count": null,
   "id": "10c41e65-5653-4d82-82ce-a671e0ef1e70",
   "metadata": {
    "tags": []
   },
   "outputs": [],
   "source": [
    "# measures of dispersion\n",
    "min_ = np.amin(train_y)\n",
    "max_ = np.amax(train_y)\n",
    "range_ = np.ptp(train_y)\n",
    "variance = np.var(train_y)\n",
    "sd = np.std(train_y)\n",
    " \n",
    "#print(\"Array =\", train_y)\n",
    "print(\"Measures of Dispersion\")\n",
    "print(\"Minimum =\", min_)\n",
    "print(\"Maximum =\", max_)\n",
    "print(\"Range =\", range_)\n",
    "print(\"Variance =\", variance)\n",
    "print(\"Standard Deviation =\", sd)"
   ]
  },
  {
   "cell_type": "code",
   "execution_count": null,
   "id": "14ca27ba-0233-4df0-bde9-4b98f5a952ff",
   "metadata": {
    "tags": []
   },
   "outputs": [],
   "source": [
    "index = 1217\n",
    "#img = Image.open(f\"{path}\\\\{train_names[index]}\")\n",
    "img = Image.fromarray(train_x[index])\n",
    "#truth = (train_y[index] * np.array([600])) # reduction\n",
    "truth = (train_y[index]) # reduction\n",
    "img1 = ImageDraw.Draw(img)  \n",
    "img1.line([(0,truth),(500,truth)], fill =\"Green\", width=2)\n",
    "img"
   ]
  },
  {
   "cell_type": "code",
   "execution_count": null,
   "id": "96ac72d9-f248-4581-a4c3-9255016ec76a",
   "metadata": {
    "tags": []
   },
   "outputs": [],
   "source": [
    "index = 1218\n",
    "#img = Image.open(f\"{path}\\\\{train_names[index]}\")\n",
    "img = Image.fromarray(train_x[index])\n",
    "#truth = (train_y[index] * np.array([600])) # reduction\n",
    "truth = (train_y[index]) # reduction\n",
    "img1 = ImageDraw.Draw(img)  \n",
    "img1.line([(0,truth),(500,truth)], fill =\"Green\", width=2)\n",
    "img"
   ]
  },
  {
   "cell_type": "code",
   "execution_count": null,
   "id": "4f46c9ac-3814-457d-aeb4-1a68027fd2b4",
   "metadata": {
    "tags": []
   },
   "outputs": [],
   "source": [
    "index = 12206\n",
    "#img = Image.open(f\"{path}\\\\{train_names[index]}\")\n",
    "img = Image.fromarray(train_x[index])\n",
    "#truth = (train_y[index] * np.array([600])) # reduction\n",
    "truth = (train_y[index]) * np.array(300) # reduction\n",
    "img1 = ImageDraw.Draw(img)  \n",
    "img1.line([(0,truth),(500,truth)], fill =\"Green\", width=2)\n",
    "img"
   ]
  },
  {
   "cell_type": "code",
   "execution_count": null,
   "id": "d942cb65-584d-499e-9966-647104093c54",
   "metadata": {
    "tags": []
   },
   "outputs": [],
   "source": [
    "train_y[index]"
   ]
  },
  {
   "cell_type": "code",
   "execution_count": null,
   "id": "c9d9be96-c565-4ad0-a266-913485e8ff16",
   "metadata": {},
   "outputs": [],
   "source": []
  },
  {
   "cell_type": "code",
   "execution_count": null,
   "id": "c59732c4-ed84-4b95-99e9-52633ea2b162",
   "metadata": {
    "tags": []
   },
   "outputs": [],
   "source": [
    "config_meta = {'image_resize': [300, 250], \n",
    "               'class_location': 'O:\\\\eve_models\\\\training_data\\\\large_box_counter\\\\large_box_counter_classes.json', \n",
    "               'model_location': 'O:\\\\eve_models\\\\training_data\\\\large_box_counter\\\\large_box_counter_model.h5', \n",
    "               'class_names': ['1', '10', '11', '12', '13', '14', '15', '16', '17', '18', '19', '2', '20', '21', '23', '24', '25', '26', '27', '28', '29', '3', '4', '5', '6', '7', '8', '9']}\n",
    "box_counter_model = tf.keras.models.load_model(config_meta['model_location'], compile=False)\n",
    "config = json.load(open(config_meta['class_location']))\n",
    "config"
   ]
  },
  {
   "cell_type": "code",
   "execution_count": null,
   "id": "4771747e-d3a2-4e65-8c25-271c6b247ffd",
   "metadata": {
    "tags": []
   },
   "outputs": [],
   "source": [
    "box_counter_model.layers"
   ]
  },
  {
   "cell_type": "code",
   "execution_count": null,
   "id": "c3d65d84-4fb9-43bf-aa13-55285cf13efe",
   "metadata": {
    "tags": []
   },
   "outputs": [],
   "source": [
    "source_model = tf.keras.Model(box_counter_model.layers[0].input, box_counter_model.layers[7].output)\n",
    "for source_layer in source_model.layers:\n",
    "    source_model.trainable = False"
   ]
  },
  {
   "cell_type": "code",
   "execution_count": null,
   "id": "5fc11fb9-7858-4873-acbf-146b02a7ef00",
   "metadata": {},
   "outputs": [],
   "source": []
  },
  {
   "cell_type": "code",
   "execution_count": null,
   "id": "55ebf4ff-6fa3-4583-9139-d1cf3f2d3e5a",
   "metadata": {},
   "outputs": [],
   "source": []
  },
  {
   "cell_type": "code",
   "execution_count": null,
   "id": "e5e1d4bf-4c5e-437d-9a05-23ee147e423c",
   "metadata": {
    "tags": []
   },
   "outputs": [],
   "source": [
    "#model.layers[1].output"
   ]
  },
  {
   "cell_type": "code",
   "execution_count": null,
   "id": "96ed8691-1ddd-40e2-9edb-34ffec5e7dda",
   "metadata": {},
   "outputs": [],
   "source": []
  },
  {
   "cell_type": "code",
   "execution_count": null,
   "id": "14f85817-59c1-4604-a124-7642ba30e621",
   "metadata": {
    "tags": []
   },
   "outputs": [],
   "source": [
    "model = Sequential([\n",
    "    #layers.Input(shape=(img_height, img_width,3)),\n",
    "    #layers.Rescaling(1. / 255, input_shape=(img_height, img_width,3)),\n",
    "    source_model,\n",
    "    layers.Flatten(),\n",
    "    layers.Dense(units=32, activation=\"linear\"),\n",
    "    layers.Dense(units=1024, activation=\"selu\"),\n",
    "    layers.Dense(units=1, activation=\"linear\", name='bounding_box')  \n",
    "])\n",
    "\n",
    "\n",
    "epochs = 500\n",
    "lr = 1e-3\n",
    "\n",
    "callbacks = [\n",
    "    ReduceLROnPlateau(monitor='val_root_mean_squared_error', factor=0.5, patience=5, min_lr=1e-10, verbose=1),\n",
    "    #lr_finder,\n",
    "    EarlyStopping(monitor='val_root_mean_squared_error', patience=20, restore_best_weights=False),\n",
    "]\n",
    "\n",
    "#model.compile(optimizer=tf.keras.optimizers.SGD(), loss=tf.keras.losses.mae, metrics=['accuracy', 'mse', 'mae'])\n",
    "model.compile(optimizer=SGD(lr), loss=tf.keras.losses.MeanSquaredError(), metrics=[tf.keras.metrics.RootMeanSquaredError(), tf.keras.losses.MeanSquaredError()])\n",
    "\n",
    "history = model.fit(\n",
    "    x=train_x,\n",
    "    y=train_y,\n",
    "    validation_data=(val_x, val_y),\n",
    "    batch_size=512,\n",
    "    shuffle=True,\n",
    "    epochs=epochs,\n",
    "    callbacks=callbacks\n",
    ")\n",
    "\n"
   ]
  },
  {
   "cell_type": "code",
   "execution_count": null,
   "id": "6b9eab00-67ea-4caf-9021-aabd436e7a65",
   "metadata": {
    "tags": []
   },
   "outputs": [],
   "source": [
    "plt.plot(history.history['loss'], label='loss')\n",
    "plt.plot(history.history['val_loss'], label = 'val_loss')\n",
    "plt.xlabel('Epoch')\n",
    "plt.ylabel('Accuracy')\n",
    "#plt.ylim([0.5, 1])\n",
    "plt.legend(loc='lower right')\n",
    "mplcyberpunk.make_lines_glow()\n",
    "\n",
    "#test_loss, test_acc = model.evaluate(test_images,  test_labels, verbose=2)"
   ]
  },
  {
   "cell_type": "code",
   "execution_count": null,
   "id": "e3112377-3579-405c-b3da-68f82b3872b2",
   "metadata": {
    "tags": []
   },
   "outputs": [],
   "source": [
    "plt.plot(history.history['root_mean_squared_error'], label='root_mean_squared_error')\n",
    "plt.plot(history.history['val_mean_squared_error'], label = 'val_mean_squared_error')\n",
    "plt.xlabel('Epoch')\n",
    "plt.ylabel('Accuracy')\n",
    "#plt.ylim([0.5, 1])\n",
    "plt.legend(loc='lower right')\n",
    "mplcyberpunk.make_lines_glow()\n",
    "\n",
    "#test_loss, test_acc = model.evaluate(test_images,  test_labels, verbose=2)"
   ]
  },
  {
   "cell_type": "code",
   "execution_count": null,
   "id": "e01601a2-7d85-4692-a735-6710fec44e37",
   "metadata": {
    "tags": []
   },
   "outputs": [],
   "source": [
    "test_image_index = 50\n",
    "\n",
    "prediction = model.predict(np.array([test_x[test_image_index]]))\n",
    "result = ((prediction) * np.array([300])) # reduction\n",
    "result = result[0]\n",
    "print(result)\n",
    "truth = (test_y[test_image_index] * np.array([300])) # reduction\n",
    "print(truth)\n",
    "\n",
    "img = Image.fromarray(test_x[test_image_index]) \n",
    "#img = Image.open(f\"{path}\\\\{test_names[test_image_index]}\")\n",
    "img1 = ImageDraw.Draw(img)  \n",
    "#img1.ellipse((result[0]-10,result[1]-10,result[0]+10,result[1]+10), outline =\"red\", width=5)\n",
    "#img1.ellipse((truth[0]-10,truth[1]-10,truth[0]+10,truth[1]+10), outline =\"Green\", width=5)\n",
    "img1.line([(0,truth[0]),(500,truth[0])], fill =\"Green\", width=2)\n",
    "img1.line([(0,result[0]),(500,result[0])], fill =\"Red\", width=2)\n",
    "img1.line([(136,0),(136,600)], fill =\"Red\", width=2)\n",
    "\n",
    "\n",
    "img"
   ]
  },
  {
   "cell_type": "code",
   "execution_count": null,
   "id": "6a0eecf1-f3ac-44b5-ad8c-b218459567d9",
   "metadata": {
    "tags": []
   },
   "outputs": [],
   "source": [
    "model.save('test_location.h5')"
   ]
  },
  {
   "cell_type": "code",
   "execution_count": null,
   "id": "748b5506-6516-42f6-baf7-b4239835d56b",
   "metadata": {
    "tags": []
   },
   "outputs": [],
   "source": [
    "from tensorflow.keras import backend as K\n",
    "predictions = model.predict(train_x)\n",
    "\n",
    "def root_mean_squared_error(y_true, y_pred):\n",
    "    return K.sqrt(K.mean(K.square(y_pred - y_true)))\n",
    "rmses = []\n",
    "hunting_files = []\n",
    "for i in tqdm(range(len(train_x))):\n",
    "    \n",
    "    rmse = root_mean_squared_error(train_y[i], predictions[i]).numpy()\n",
    "    rmses.append(rmse)\n",
    "    hunting_files.append(train_names[i])\n",
    "\n",
    "\n",
    "am = np.argmax(rmses)\n",
    "print(f\"argmax {am}\")\n",
    "test_image_index = am\n",
    "print(f\"Worst RMSE:{rmses[test_image_index]}\")\n",
    "\n",
    "prediction = model.predict(np.array([train_x[test_image_index]]))\n",
    "result = ((prediction) * np.array([300])) # reduction\n",
    "result = result[0]\n",
    "print(result)\n",
    "truth = (train_y[test_image_index] * np.array([300])) # reduction\n",
    "print(truth)\n",
    "\n",
    "#mg = Image.fromarray(test_x[test_image_index]) \n",
    "img = Image.fromarray(train_x[test_image_index])\n",
    "#img = Image.open(f'O:\\\\eve_models\\\\training_data\\\\route_y\\\\{hunting_files[am]}')\n",
    "img1 = ImageDraw.Draw(img)  \n",
    "#img1.ellipse((result[0]-10,result[1]-10,result[0]+10,result[1]+10), outline =\"red\", width=5)\n",
    "#img1.ellipse((truth[0]-10,truth[1]-10,truth[0]+10,truth[1]+10), outline =\"Green\", width=5)\n",
    "img1.line([(0,truth[0]),(500,truth[0])], fill =\"Green\", width=2)\n",
    "img1.line([(0,result[0]),(500,result[0])], fill =\"Red\", width=2)\n",
    "img1.line([(136,0),(136,600)], fill =\"Red\", width=2)\n",
    "\n",
    "\n",
    "img\n"
   ]
  },
  {
   "cell_type": "code",
   "execution_count": null,
   "id": "2cd2d4dc-6299-4564-8b11-fe5de0d0d972",
   "metadata": {
    "tags": []
   },
   "outputs": [],
   "source": [
    "train_y[test_image_index] * np.array([300])"
   ]
  },
  {
   "cell_type": "code",
   "execution_count": null,
   "id": "3d9c6658-3e0c-4da8-be05-870c2708b4c1",
   "metadata": {
    "tags": []
   },
   "outputs": [],
   "source": [
    "hunting_files[am]"
   ]
  },
  {
   "cell_type": "code",
   "execution_count": null,
   "id": "9beb0a05-52d7-4d07-9312-a82f33072404",
   "metadata": {
    "tags": []
   },
   "outputs": [],
   "source": [
    "count = 0\n",
    "for i in range(len(rmses)):\n",
    "    if rmses[i] > 0.01:\n",
    "        count += 1\n",
    "        balance_names.append(train_names[i])\n",
    "count"
   ]
  },
  {
   "cell_type": "code",
   "execution_count": null,
   "id": "023ce517-e268-41b1-8469-2747947f214e",
   "metadata": {
    "tags": []
   },
   "outputs": [],
   "source": [
    "len(balance_names)"
   ]
  },
  {
   "cell_type": "code",
   "execution_count": null,
   "id": "ff87e324-f258-4ebc-a061-0a212b263c7e",
   "metadata": {},
   "outputs": [],
   "source": []
  },
  {
   "cell_type": "code",
   "execution_count": null,
   "id": "fd610406-69f9-4956-8bff-65da296270a8",
   "metadata": {},
   "outputs": [],
   "source": []
  },
  {
   "cell_type": "code",
   "execution_count": null,
   "id": "7d2570ef-d955-40b5-a911-cf40880ba763",
   "metadata": {},
   "outputs": [],
   "source": []
  }
 ],
 "metadata": {
  "kernelspec": {
   "display_name": "Python 3 (ipykernel)",
   "language": "python",
   "name": "python3"
  },
  "language_info": {
   "codemirror_mode": {
    "name": "ipython",
    "version": 3
   },
   "file_extension": ".py",
   "mimetype": "text/x-python",
   "name": "python",
   "nbconvert_exporter": "python",
   "pygments_lexer": "ipython3",
   "version": "3.10.10"
  }
 },
 "nbformat": 4,
 "nbformat_minor": 5
}
