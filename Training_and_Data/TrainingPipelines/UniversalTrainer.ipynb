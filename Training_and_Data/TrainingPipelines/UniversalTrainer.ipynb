{
 "cells": [
  {
   "cell_type": "code",
   "execution_count": null,
   "id": "4b66d6b6-3f50-4d52-9860-e45d5e0f4f71",
   "metadata": {},
   "outputs": [],
   "source": [
    "import sys, os, decimal, json\n",
    "sys.path.append(os.path.realpath('..'))\n",
    "import json, time\n",
    "import pandas as pd\n",
    "import matplotlib.pyplot as plt\n",
    "\n",
    "from TrainingPipelines.ImageClassifier.ModelBuilder import build_and_train\n",
    "#from ml_botting_core.classification.universal_classifier_trainer import build_and_train\n",
    "\n",
    "from google.cloud import storage\n",
    "import os\n",
    "from pathlib import Path\n",
    "from dotenv import load_dotenv\n",
    "\n",
    "env_path = Path(fr\"{os.environ['USERPROFILE']}\\.env\")\n",
    "load_dotenv(dotenv_path=env_path)\n",
    "\n",
    "os.environ[\"GOOGLE_APPLICATION_CREDENTIALS\"] = os.getenv(\"Eve_Online_GCP_Creds_File\")\n",
    "\n",
    "import seaborn as sns\n",
    "import mplcyberpunk\n",
    "\n",
    "plt.style.use(\"cyberpunk\")\n",
    "plt.rcParams['figure.facecolor'] = '#0d1117'\n",
    "plt.rcParams['axes.facecolor'] = '#0d1117'\n",
    "plt.rcParams['savefig.facecolor'] = '#0d1117'"
   ]
  },
  {
   "cell_type": "code",
   "execution_count": null,
   "id": "e29ace5b-9da5-49ce-aa90-472c10c9c82a",
   "metadata": {
    "tags": []
   },
   "outputs": [],
   "source": [
    "def render_cm(stats, key):\n",
    "    df_cm = pd.DataFrame(stats[key])\n",
    "    plt.figure(figsize = (10,10))\n",
    "    sns.heatmap(df_cm, annot=True, fmt=',d')\n",
    "\n",
    "def write_rendering(file, rendering_dict):\n",
    "    json_object = json.dumps(rendering_dict, indent=1)\n",
    "    with open(file, \"w\") as outfile:\n",
    "        outfile.write(json_object)    \n",
    "\n",
    "def save_to_gcp(source_file, dest_file):\n",
    "    storage_client = storage.Client()\n",
    "    bucket = storage_client.get_bucket(\"eve_online_models\") # your bucket name\n",
    "    blob = bucket.blob(dest_file) \n",
    "    blob.upload_from_filename(source_file)\n",
    "    #blob = bucket.blob('eve_online_models/Eve_Online_Models/test.h5') \n",
    "    #blob.upload_from_filename(r\"O:\\eve_models\\training_data\\game_state\\game_state_model.h5\")\n",
    "    \n",
    "def train(training_root, meta_file, params, save=True):\n",
    "    stats, rendering = build_and_train(**params)\n",
    "    print(stats['eval_results'])\n",
    "    render_cm(stats, 'train_cm')\n",
    "    render_cm(stats, 'val_cm')\n",
    "    write_rendering(meta_file, rendering)\n",
    "    print(rendering)\n",
    "    if save:\n",
    "        save_to_gcp(source_file=params['model_location'], dest_file=f'{params[\"model_name\"]}/{params[\"model_name\"]}_model.h5')\n",
    "        save_to_gcp(source_file=meta_file, dest_file=f'{params[\"model_name\"]}/{params[\"model_name\"]}_meta.json')\n",
    "    return stats, rendering"
   ]
  },
  {
   "cell_type": "code",
   "execution_count": null,
   "id": "3eaa3de8-29a0-49c9-af08-0a8f67dbdf28",
   "metadata": {
    "tags": []
   },
   "outputs": [],
   "source": [
    "model_name = 'game_state_v2'\n",
    "training_root = r'O:\\eve_models\\training_data\\game_state_v2'\n",
    "model_file = f'{training_root}/{model_name}_model.h5'\n",
    "meta_file = f'{training_root}/{model_name}_meta.json'\n",
    "\n",
    "params = {\n",
    "    'root_image_directory': training_root,\n",
    "    'model_location': model_file,\n",
    "    'model_name': model_name,\n",
    "    'epochs': 1,\n",
    "    'auto_balance_data':True,\n",
    "    'batch_size':256\n",
    "}\n",
    "\n",
    "stats, rendering = train(training_root, meta_file, params, save = False)"
   ]
  },
  {
   "cell_type": "code",
   "execution_count": null,
   "id": "b91e6efb-0464-4699-b42a-15359131aa3b",
   "metadata": {
    "tags": []
   },
   "outputs": [],
   "source": [
    "eval_results"
   ]
  },
  {
   "cell_type": "code",
   "execution_count": null,
   "id": "a6baf83f-effe-4ede-a63d-23953909c841",
   "metadata": {
    "tags": []
   },
   "outputs": [],
   "source": [
    "model_name = 'mining_tool_state'\n",
    "training_root = r'O:\\eve_models\\training_data\\mining_tool_state'\n",
    "model_file = f'{training_root}/{model_name}_model.h5'\n",
    "meta_file = f'{training_root}/{model_name}_meta.json'\n",
    "\n",
    "params = {\n",
    "    'root_image_directory': training_root,\n",
    "    'model_location': model_file,\n",
    "    'model_name': model_name,\n",
    "    'epochs': 10,\n",
    "    'auto_balance_data':True\n",
    "}\n",
    "\n",
    "train(training_root, meta_file, params, save_to_gcp = False)"
   ]
  },
  {
   "cell_type": "code",
   "execution_count": null,
   "id": "054d9eae-706a-481d-a2da-ea41c4aac9de",
   "metadata": {
    "tags": []
   },
   "outputs": [],
   "source": [
    "model_name = 'game_state_cake_layer_1_v1'\n",
    "training_root = r'O:\\eve_models\\training_data\\game_state_cake_layer_1_v1'\n",
    "model_file = f'{training_root}/{model_name}_model.h5'\n",
    "meta_file = f'{training_root}/{model_name}_meta.json'\n",
    "\n",
    "params = {\n",
    "    'root_image_directory': training_root,\n",
    "    'model_location': model_file,\n",
    "    'model_name': model_name,\n",
    "    'epochs': 10,\n",
    "    'auto_balance_data':False\n",
    "}\n",
    "\n",
    "stats, rendering = build_and_train(**params)\n",
    "print(stats['eval_results'])\n",
    "render_cm(stats, 'train_cm')\n",
    "render_cm(stats, 'val_cm')\n",
    "write_rendering(meta_file, rendering)\n",
    "print(rendering)\n",
    "\n",
    "save_to_gcp(source_file=model_file, dest_file=f'{model_name}/{model_name}_model.h5')\n",
    "save_to_gcp(source_file=meta_file, dest_file=f'{model_name}/{model_name}_meta.json')"
   ]
  },
  {
   "cell_type": "code",
   "execution_count": null,
   "id": "faef17a6-e6a0-4483-a240-51915ee7c4e7",
   "metadata": {
    "jupyter": {
     "source_hidden": true
    },
    "tags": []
   },
   "outputs": [],
   "source": [
    "import tensorflow as tf\n",
    "train_ds = tf.keras.utils.image_dataset_from_directory(\n",
    "    r'O:\\eve_models\\training_data\\game_state_cake_layer_1_v1',\n",
    "    validation_split=0.2,\n",
    "    subset=\"training\",\n",
    "    seed=123,\n",
    "    image_size=(216, 384),\n",
    "    batch_size=1)"
   ]
  },
  {
   "cell_type": "code",
   "execution_count": null,
   "id": "1aa706b5-b2d7-4a59-b30c-57c129994533",
   "metadata": {
    "jupyter": {
     "source_hidden": true
    },
    "tags": []
   },
   "outputs": [],
   "source": [
    "model = tf.keras.models.load_model(r\"O:\\eve_models\\training_data\\game_state_cake_layer_1_v1\\game_state_cake_layer_1_v1_model.h5\")"
   ]
  },
  {
   "cell_type": "code",
   "execution_count": null,
   "id": "f195e554-5a28-4d93-80d2-cc1e6cfbd956",
   "metadata": {
    "jupyter": {
     "source_hidden": true
    },
    "tags": []
   },
   "outputs": [],
   "source": []
  },
  {
   "cell_type": "code",
   "execution_count": null,
   "id": "25e3d40c-005d-4442-96de-009eef796d28",
   "metadata": {
    "jupyter": {
     "source_hidden": true
    },
    "tags": []
   },
   "outputs": [],
   "source": [
    "import numpy as np\n",
    "train_data = list(train_ds)\n",
    "features = np.concatenate([train_data[n][0] for n in range(0, len(train_data))])\n",
    "targets = np.concatenate([train_data[n][1] for n in range(0, len(train_data))])"
   ]
  },
  {
   "cell_type": "code",
   "execution_count": null,
   "id": "35775be5-3cd5-4fe0-b5a6-d2a6a5296e14",
   "metadata": {
    "jupyter": {
     "source_hidden": true
    },
    "tags": []
   },
   "outputs": [],
   "source": [
    "classes = [\n",
    "  \"in_flight\",\n",
    "  \"in_hanger\",\n",
    "  \"sub_app\"\n",
    " ]"
   ]
  },
  {
   "cell_type": "code",
   "execution_count": null,
   "id": "914df76d-0450-4dab-8bd6-fbf3821139c5",
   "metadata": {
    "jupyter": {
     "source_hidden": true
    },
    "tags": []
   },
   "outputs": [],
   "source": [
    "results = model.predict(features)"
   ]
  },
  {
   "cell_type": "code",
   "execution_count": null,
   "id": "62e3029f-5eed-4f4a-94b9-94db4a077cf6",
   "metadata": {
    "jupyter": {
     "source_hidden": true
    },
    "tags": []
   },
   "outputs": [],
   "source": [
    "for i, result in enumerate(results):\n",
    "    if np.argmax(result) != targets[i]:\n",
    "        print(f\"Index:{i} Predicted:{classes[np.argmax(result)]} Truth:{classes[targets[i]]}\")"
   ]
  },
  {
   "cell_type": "code",
   "execution_count": null,
   "id": "c1d5a673-1b5c-41fc-98b0-9c7321906e63",
   "metadata": {
    "jupyter": {
     "source_hidden": true
    },
    "tags": []
   },
   "outputs": [],
   "source": [
    "from PIL import Image\n",
    "Image.fromarray(features[2581].astype('uint8'))"
   ]
  },
  {
   "cell_type": "code",
   "execution_count": null,
   "id": "82b13012-4f41-4cc4-844c-19ee27469e62",
   "metadata": {
    "jupyter": {
     "source_hidden": true
    },
    "tags": []
   },
   "outputs": [],
   "source": [
    "train_ds.file_paths[2581]"
   ]
  },
  {
   "cell_type": "code",
   "execution_count": null,
   "id": "3b7aa729-4ce4-444f-8863-b387ad887ca2",
   "metadata": {
    "jupyter": {
     "source_hidden": true
    },
    "tags": []
   },
   "outputs": [],
   "source": [
    "classes[targets[63]]"
   ]
  },
  {
   "cell_type": "code",
   "execution_count": null,
   "id": "e13cea72-6659-4db1-a6c5-4ba5606f6d22",
   "metadata": {
    "jupyter": {
     "source_hidden": true
    },
    "tags": []
   },
   "outputs": [],
   "source": []
  },
  {
   "cell_type": "code",
   "execution_count": null,
   "id": "da5649f2-2328-4d9b-bca2-40a5e0b9adcd",
   "metadata": {
    "jupyter": {
     "source_hidden": true
    },
    "tags": []
   },
   "outputs": [],
   "source": [
    "model_name = 'game_state_cake_layer_2_v1'\n",
    "training_root = r'O:\\eve_models\\training_data\\game_state_cake_layer_2_v1'\n",
    "model_file = f'{training_root}/{model_name}_model.h5'\n",
    "meta_file = f'{training_root}/{model_name}_meta.json'\n",
    "\n",
    "params = {\n",
    "    'root_image_directory': training_root,\n",
    "    'model_location': model_file,\n",
    "    'model_name': model_name,\n",
    "    'epochs': 10,\n",
    "    'auto_balance_data':True\n",
    "}\n",
    "\n",
    "stats, rendering = build_and_train(**params)\n",
    "print(stats['eval_results'])\n",
    "render_cm(stats, 'train_cm')\n",
    "render_cm(stats, 'val_cm')\n",
    "write_rendering(meta_file, rendering)\n",
    "print(rendering)\n",
    "\n",
    "save_to_gcp(source_file=model_file, dest_file=f'{model_name}/{model_name}_model.h5')\n",
    "save_to_gcp(source_file=meta_file, dest_file=f'{model_name}/{model_name}_meta.json')"
   ]
  },
  {
   "cell_type": "code",
   "execution_count": null,
   "id": "3bce9d14-7d37-4e8b-b621-b8923c021c9d",
   "metadata": {
    "jupyter": {
     "source_hidden": true
    },
    "tags": []
   },
   "outputs": [],
   "source": [
    "model_name = 'game_state'\n",
    "training_root = r'O:\\eve_models\\training_data\\game_state'\n",
    "model_file = f'{training_root}/{model_name}_model.h5'\n",
    "meta_file = f'{training_root}/{model_name}_meta.json'\n",
    "\n",
    "params = {\n",
    "    'root_image_directory': training_root,\n",
    "    'model_location': model_file,\n",
    "    'model_name': model_name,\n",
    "    'epochs': 10,\n",
    "    'auto_balance_data':True\n",
    "}\n",
    "\n",
    "stats, rendering = build_and_train(**params)\n",
    "render_cm(stats)\n",
    "write_rendering(meta_file, rendering)\n",
    "print(rendering)\n",
    "\n",
    "#save_to_gcp(source_file=model_file, dest_file=f'{model_name}/{model_name}_model.h5')\n",
    "#save_to_gcp(source_file=meta_file, dest_file=f'{model_name}/{model_name}_meta.json')"
   ]
  },
  {
   "cell_type": "code",
   "execution_count": null,
   "id": "fad59514-a2f9-4938-9f1e-57fa48ade230",
   "metadata": {
    "jupyter": {
     "source_hidden": true
    },
    "tags": []
   },
   "outputs": [],
   "source": [
    "model_name = 'route_y_large_vert_class_v4'\n",
    "training_root = r'O:\\eve_models\\training_data\\route_y_large_vert_class_v4'\n",
    "model_file = f'{training_root}/{model_name}_model.h5'\n",
    "meta_file = f'{training_root}/{model_name}_meta.json'\n",
    "\n",
    "params = {\n",
    "    'root_image_directory': training_root,\n",
    "    'model_location': model_file,\n",
    "    'model_name': model_name,\n",
    "    'epochs':10, \n",
    "    'resize_ratio':0.2\n",
    "}\n",
    "\n",
    "stats, rendering = build_and_train(**params)\n",
    "render_cm(stats)\n",
    "write_rendering(meta_file, rendering)\n",
    "print(rendering)\n",
    "\n",
    "#save_to_gcp(source_file=model_file, dest_file=f'{model_name}/{model_name}_model.h5')\n",
    "#save_to_gcp(source_file=meta_file, dest_file=f'{model_name}/{model_name}_meta.json')"
   ]
  },
  {
   "cell_type": "code",
   "execution_count": null,
   "id": "801b4287-5049-401e-bd61-042a76505413",
   "metadata": {
    "jupyter": {
     "source_hidden": true
    },
    "tags": []
   },
   "outputs": [],
   "source": [
    "\n",
    "save_to_gcp(source_file=model_file, dest_file=f'{model_name}/{model_name}_model.h5')\n",
    "save_to_gcp(source_file=meta_file, dest_file=f'{model_name}/{model_name}_meta.json')"
   ]
  },
  {
   "cell_type": "code",
   "execution_count": null,
   "id": "b102215a-95d9-46b1-9af3-05ac830aed23",
   "metadata": {
    "jupyter": {
     "source_hidden": true
    },
    "tags": []
   },
   "outputs": [],
   "source": [
    "model_name = 'set_dest'\n",
    "training_root = r'O:\\eve_models\\training_data\\set_dest'\n",
    "model_file = f'{training_root}/{model_name}_model.h5'\n",
    "meta_file = f'{training_root}/{model_name}_meta.json'\n",
    "\n",
    "params = {\n",
    "    'root_image_directory': training_root,\n",
    "    'model_location': model_file,\n",
    "    'model_name': model_name\n",
    "}\n",
    "\n",
    "stats, rendering = build_and_train(**params)\n",
    "render_cm(stats)\n",
    "write_rendering(meta_file, rendering)\n",
    "print(rendering)\n",
    "\n",
    "save_to_gcp(source_file=model_file, dest_file=f'{model_name}/{model_name}_model.h5')\n",
    "save_to_gcp(source_file=meta_file, dest_file=f'{model_name}/{model_name}_meta.json')"
   ]
  },
  {
   "cell_type": "code",
   "execution_count": null,
   "id": "4d26282f-cce6-4c44-963e-9837217d3d99",
   "metadata": {
    "jupyter": {
     "source_hidden": true
    },
    "tags": []
   },
   "outputs": [],
   "source": [
    "model_name = 'hanger_menus'\n",
    "training_root = r'O:\\eve_models\\training_data\\hanger_menus'\n",
    "model_file = f'{training_root}/{model_name}_model.h5'\n",
    "meta_file = f'{training_root}/{model_name}_meta.json'\n",
    "\n",
    "params = {\n",
    "    'root_image_directory': training_root,\n",
    "    'model_location': model_file,\n",
    "    'model_name': model_name\n",
    "}\n",
    "\n",
    "stats, rendering = build_and_train(**params)\n",
    "render_cm(stats)\n",
    "write_rendering(meta_file, rendering)\n",
    "print(rendering)\n",
    "\n",
    "save_to_gcp(source_file=model_file, dest_file=f'{model_name}/{model_name}_model.h5')\n",
    "save_to_gcp(source_file=meta_file, dest_file=f'{model_name}/{model_name}_meta.json')"
   ]
  },
  {
   "cell_type": "code",
   "execution_count": null,
   "id": "7495858b-0d6c-4c05-aef9-2f62eb793f0a",
   "metadata": {
    "jupyter": {
     "source_hidden": true
    },
    "tags": []
   },
   "outputs": [],
   "source": [
    "model_name = 'nav_options'\n",
    "training_root = r'O:\\eve_models\\training_data\\nav_options'\n",
    "model_file = f'{training_root}/{model_name}_model.h5'\n",
    "meta_file = f'{training_root}/{model_name}_meta.json'\n",
    "\n",
    "params = {\n",
    "    'root_image_directory': training_root,\n",
    "    'model_location': model_file,\n",
    "    'model_name': model_name\n",
    "}\n",
    "\n",
    "stats, rendering = build_and_train(**params)\n",
    "render_cm(stats)\n",
    "write_rendering(meta_file, rendering)\n",
    "print(rendering)\n",
    "\n",
    "save_to_gcp(source_file=model_file, dest_file=f'{model_name}/{model_name}_model.h5')\n",
    "save_to_gcp(source_file=meta_file, dest_file=f'{model_name}/{model_name}_meta.json')"
   ]
  },
  {
   "cell_type": "code",
   "execution_count": null,
   "id": "0e51dd3b-7554-4b7a-8bb2-702f2eaaa04a",
   "metadata": {
    "tags": []
   },
   "outputs": [],
   "source": [
    "\n",
    "\n",
    "#save_to_gcp(source_file=model_file, dest_file=f'{model_name}/{model_name}_model.h5')\n",
    "#save_to_gcp(source_file=meta_file, dest_file=f'{model_name}/{model_name}_meta.json')"
   ]
  },
  {
   "cell_type": "code",
   "execution_count": null,
   "id": "c4f90dc0-9d46-4dc9-a951-2bb30798429d",
   "metadata": {},
   "outputs": [],
   "source": []
  },
  {
   "cell_type": "code",
   "execution_count": null,
   "id": "8900c0a5-7934-4d9a-b792-fe4b6cba7857",
   "metadata": {},
   "outputs": [],
   "source": []
  },
  {
   "cell_type": "code",
   "execution_count": null,
   "id": "064d9d44-0ca4-4d0e-b351-b9dac51bde32",
   "metadata": {},
   "outputs": [],
   "source": []
  },
  {
   "cell_type": "code",
   "execution_count": null,
   "id": "81dc58b9-ba3d-48c9-a60b-044231d63977",
   "metadata": {},
   "outputs": [],
   "source": []
  }
 ],
 "metadata": {
  "kernelspec": {
   "display_name": "Python 3 (ipykernel)",
   "language": "python",
   "name": "python3"
  },
  "language_info": {
   "codemirror_mode": {
    "name": "ipython",
    "version": 3
   },
   "file_extension": ".py",
   "mimetype": "text/x-python",
   "name": "python",
   "nbconvert_exporter": "python",
   "pygments_lexer": "ipython3",
   "version": "3.10.10"
  }
 },
 "nbformat": 4,
 "nbformat_minor": 5
}
