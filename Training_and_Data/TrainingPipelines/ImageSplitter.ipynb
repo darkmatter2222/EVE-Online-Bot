{
 "cells": [
  {
   "cell_type": "code",
   "execution_count": null,
   "id": "914036ee-bf61-426f-ac6a-6b43cfd7836b",
   "metadata": {
    "tags": []
   },
   "outputs": [],
   "source": [
    "import sys, os, decimal, json, pathlib, glob, errno\n",
    "from tqdm import tqdm\n",
    "import pandas as pd\n",
    "import seaborn as sns\n",
    "from PIL import Image\n",
    "import numpy as np\n",
    "\n",
    "import matplotlib.pyplot as plt\n",
    "import mplcyberpunk\n",
    "plt.style.use(\"cyberpunk\")\n",
    "plt.rcParams['figure.facecolor'] = '#0d1117'\n",
    "plt.rcParams['axes.facecolor'] = '#0d1117'\n",
    "plt.rcParams['savefig.facecolor'] = '#0d1117'"
   ]
  },
  {
   "cell_type": "code",
   "execution_count": null,
   "id": "6f125b83-65fa-4ed7-abea-d54edf02505c",
   "metadata": {
    "tags": []
   },
   "outputs": [],
   "source": [
    "image_names = []\n",
    "path = pathlib.Path(r'O:\\eve_models\\training_data\\route_y')\n",
    "for data in glob.glob(f\"{path}\\*.png\"):\n",
    "    file = data.split('\\\\')[-1:][0]\n",
    "    image_names.append(file)"
   ]
  },
  {
   "cell_type": "code",
   "execution_count": null,
   "id": "3ba3762b-ee82-4aac-87c1-6276a61209b2",
   "metadata": {
    "tags": []
   },
   "outputs": [],
   "source": [
    "image_data = {}\n",
    "f = open(f\"{path}\\\\boxes.json\")\n",
    "image_data_raw = json.load(f)\n",
    "f.close()\n",
    "\n",
    "for data in image_data_raw:\n",
    "    image_data[data['image_name']] = [data['bbox'][0:1][0], data['bbox'][1:2][0]]\n",
    "    \n",
    "image_x = []\n",
    "image_y = []\n",
    "for image_name in tqdm(image_names):\n",
    "    image_x.append(image_data[image_name][0])\n",
    "    image_y.append(image_data[image_name][1])"
   ]
  },
  {
   "cell_type": "code",
   "execution_count": null,
   "id": "72ed3829-7091-43fe-aebc-2882a10de5a1",
   "metadata": {
    "tags": []
   },
   "outputs": [],
   "source": [
    "min_x = 100\n",
    "max_x = 100\n",
    "min_y = 100\n",
    "max_y = 90"
   ]
  },
  {
   "cell_type": "code",
   "execution_count": null,
   "id": "47b06b98-f852-460f-94b0-eee1562e7821",
   "metadata": {
    "tags": []
   },
   "outputs": [],
   "source": [
    "def distance(x, y):\n",
    "    if x >= y:\n",
    "        result = (x - y) * -1\n",
    "    else:\n",
    "        result = y - x\n",
    "    return result"
   ]
  },
  {
   "cell_type": "code",
   "execution_count": null,
   "id": "a288388f-3397-4608-8792-bb2d8c790243",
   "metadata": {
    "tags": []
   },
   "outputs": [],
   "source": [
    "a_image_names = image_names.copy()\n",
    "a_image_x = image_x.copy()\n",
    "a_image_offset_x = [0] * len(image_x)\n",
    "a_image_y = image_y.copy()\n",
    "a_image_offset_y = [0] * len(image_x)\n",
    "orig_image_names = image_names.copy()\n",
    "\n",
    "for i, image_name in tqdm(enumerate(image_names)):\n",
    "    rand_x_ints = list(np.unique(np.random.randint(low=image_x[i] - min_x, high=image_x[i] + max_x, size=10)))\n",
    "    rand_y_ints = list(np.unique(np.random.randint(low=image_y[i] - min_y, high=image_y[i] + max_y, size=10)))\n",
    "   \n",
    "    for j, x in enumerate(rand_x_ints):\n",
    "        mod_image_name = image_name.replace('.png',f'-{x}-{image_y[i]}.png')\n",
    "        a_image_names.append(mod_image_name)\n",
    "        a_image_x.append(x)\n",
    "        a_image_y.append(image_y[i])\n",
    "        orig_image_names.append(image_name)\n",
    "        a_image_offset_x.append(distance(image_x[i], x))\n",
    "        a_image_offset_y.append(0)\n",
    "        \n",
    "    for j, y in enumerate(rand_y_ints):\n",
    "        mod_image_name = image_name.replace('.png',f'-{image_x[i]}-{y}.png')\n",
    "        a_image_names.append(mod_image_name)\n",
    "        a_image_x.append(image_x[i])\n",
    "        a_image_y.append(y)\n",
    "        orig_image_names.append(image_name)\n",
    "        a_image_offset_x.append(0)\n",
    "        a_image_offset_y.append(distance(image_y[i], y))"
   ]
  },
  {
   "cell_type": "code",
   "execution_count": null,
   "id": "42ed1648-43d3-412a-9c59-bfae37fd8d0f",
   "metadata": {
    "tags": []
   },
   "outputs": [],
   "source": [
    "len(orig_image_names)"
   ]
  },
  {
   "cell_type": "code",
   "execution_count": null,
   "id": "18005718-f051-4e8e-9575-774c2678d300",
   "metadata": {
    "tags": []
   },
   "outputs": [],
   "source": [
    "data = { 'orig_image_name':orig_image_names, 'image_names':a_image_names, 'x':a_image_x, 'y':a_image_y, 'x_offset':a_image_offset_x, 'y_offset':a_image_offset_y}\n",
    "df = pd.DataFrame(columns=['orig_image_name','image_names','x', 'y', 'x_offset', 'y_offset'], data=data)\n",
    "df"
   ]
  },
  {
   "cell_type": "code",
   "execution_count": null,
   "id": "214aea50-dd80-4ea5-82cf-237c4328e288",
   "metadata": {
    "tags": []
   },
   "outputs": [],
   "source": [
    "df[df['orig_image_name'] == '001160f8-d4d1-11ed-a6da-2cf05d9fe8eb.png']"
   ]
  },
  {
   "cell_type": "code",
   "execution_count": null,
   "id": "04900423-2356-495c-ba77-4a72a78b8723",
   "metadata": {
    "tags": []
   },
   "outputs": [],
   "source": [
    "#data = { 'image_names':image_names, 'x':image_x, 'y':image_y}\n",
    "#df = pd.DataFrame(columns=['image_names','x', 'y'], data=data)\n",
    "#df"
   ]
  },
  {
   "cell_type": "code",
   "execution_count": null,
   "id": "92c17fa5-b81a-45c4-9c91-26d17c07e0f1",
   "metadata": {
    "tags": []
   },
   "outputs": [],
   "source": [
    "#sns.histplot(df[['y']], bins=60)"
   ]
  },
  {
   "cell_type": "code",
   "execution_count": null,
   "id": "1a0e5d92-d42c-4c80-b49d-582fde1ceef6",
   "metadata": {
    "tags": []
   },
   "outputs": [],
   "source": [
    "df['x_bins'] = pd.cut(df['x'], bins=range(0,500,10))\n",
    "df['y_bins'] = pd.cut(df['y'], bins=range(0,600,10))\n",
    "df"
   ]
  },
  {
   "cell_type": "code",
   "execution_count": null,
   "id": "f4774deb-a86c-4492-bc43-384b39a58242",
   "metadata": {
    "tags": []
   },
   "outputs": [],
   "source": [
    "df['bin_id_x'] = 0\n",
    "df['bin_id_y'] = 0\n",
    "for i in tqdm(df.index):\n",
    "    df.loc[i, 'bin_id_x'] = df.loc[i, 'x_bins'].left\n",
    "    df.loc[i, 'bin_id_y'] = df.loc[i, 'y_bins'].left\n",
    "df['tick'] = 1\n",
    "df\n",
    "#df.groupby('bin_id')['tick'].sum().sort_values(ascending=True)"
   ]
  },
  {
   "cell_type": "code",
   "execution_count": null,
   "id": "d664025d-9109-4cac-bd95-ac36c0f6aa46",
   "metadata": {
    "tags": []
   },
   "outputs": [],
   "source": [
    "df['bin_x_bin_y'] = df['bin_id_x'].astype(str) + \"_\" + df['bin_id_y'].astype(str)\n",
    "df"
   ]
  },
  {
   "cell_type": "code",
   "execution_count": null,
   "id": "0dfe407c-d7fb-4cf7-9f9e-59543e4a07d0",
   "metadata": {
    "tags": []
   },
   "outputs": [],
   "source": [
    "df.groupby(['bin_x_bin_y'])['tick'].sum().sort_values()"
   ]
  },
  {
   "cell_type": "code",
   "execution_count": null,
   "id": "7fb0ec6e-7598-4025-a0e7-572fbd0226b8",
   "metadata": {
    "tags": []
   },
   "outputs": [],
   "source": [
    "def mkdir_p(path):\n",
    "    try:\n",
    "        os.makedirs(path)\n",
    "    except OSError as exc: # Python >2.5\n",
    "        if exc.errno == errno.EEXIST and os.path.isdir(path):\n",
    "            pass\n",
    "        else: raise\n",
    "        \n",
    "def copy(source, destination):\n",
    "    with open(source, 'rb') as file:\n",
    "        myFile = file.read()\n",
    "    with open(destination, 'wb') as file:\n",
    "        file.write(myFile)"
   ]
  },
  {
   "cell_type": "code",
   "execution_count": null,
   "id": "2ce4e146-c627-42aa-86a9-a73b7ca0f60d",
   "metadata": {
    "tags": []
   },
   "outputs": [],
   "source": [
    "black_image = np.array([[[0]*3]*500]*600)\n",
    "black_image = Image.fromarray(black_image, mode='RGB')"
   ]
  },
  {
   "cell_type": "code",
   "execution_count": null,
   "id": "3a075371-3af9-45ba-851f-a93ab3b1c0ba",
   "metadata": {
    "tags": []
   },
   "outputs": [],
   "source": [
    "import os, os.path\n",
    "path = r'O:\\eve_models\\training_data\\route_y_large_vert_class_v4'\n",
    "unique_bins = df['bin_x_bin_y'].unique()\n",
    "for bin_id in unique_bins:\n",
    "    mkdir_p(f\"{path}\\\\{bin_id}\")"
   ]
  },
  {
   "cell_type": "code",
   "execution_count": null,
   "id": "8f714c28-3b66-4ee4-b1a9-6adb7b26770d",
   "metadata": {
    "tags": []
   },
   "outputs": [],
   "source": [
    "source = r'O:\\eve_models\\training_data\\route_y'\n",
    "image_preload = {}\n",
    "for name in image_names:\n",
    "    image_preload[name] = Image.open(f\"{source}\\\\{name}\")"
   ]
  },
  {
   "cell_type": "code",
   "execution_count": null,
   "id": "05d2f635-21c1-42b7-b7b9-6d4876f5d06e",
   "metadata": {
    "tags": []
   },
   "outputs": [],
   "source": []
  },
  {
   "cell_type": "code",
   "execution_count": null,
   "id": "026b6eeb-8c2c-4090-bd33-6508ca73e4e7",
   "metadata": {
    "tags": []
   },
   "outputs": [],
   "source": [
    "#source = r'O:\\eve_models\\training_data\\route_y'\n",
    "#dest = r'O:\\eve_models\\training_data\\route_y_large_vert_class_v4'\n",
    "#for i in tqdm(df.index):\n",
    "#    black_image = np.array([[[0]*3]*500]*600)\n",
    "#    black_image = Image.fromarray(black_image, mode='RGB')\n",
    "#    #this_source = f\"{source}\\\\{df.loc[i, 'orig_image_name']}\"\n",
    "#    img = image_preload[df.loc[i, 'orig_image_name']]\n",
    "#    black_image.paste(img, (df.loc[i, 'x_offset'], df.loc[i, 'y_offset']))\n",
    "#    this_dest = f\"{dest}\\\\{df.loc[i, 'bin_x_bin_y']}\\\\{df.loc[i, 'image_names']}\"\n",
    "#    black_image.save(this_dest)\n",
    "    #print(df.loc[i, 'bin_x_bin_y'])\n",
    "    #break\n",
    "    #copy(this_source, this_dest)"
   ]
  },
  {
   "cell_type": "code",
   "execution_count": null,
   "id": "9383d501-6402-4902-8d20-10c7cfd86ea8",
   "metadata": {
    "tags": []
   },
   "outputs": [],
   "source": [
    "source = r'O:\\eve_models\\training_data\\route_y'\n",
    "dest = r'O:\\eve_models\\training_data\\route_y_large_vert_class_v4'\n",
    "\n",
    "ex_orig_image_name = df['orig_image_name']\n",
    "ex_image_names = df['image_names']\n",
    "ex_x_offset = df['x_offset']\n",
    "ex_y_offset = df['y_offset']\n",
    "ex_bin_x_bin_y = df['bin_x_bin_y']\n",
    "\n",
    "black_image = np.array([[[0]*3]*500]*600)\n",
    "black_image = Image.fromarray(black_image, mode='RGB')\n",
    "\n",
    "for i, name in tqdm(enumerate(ex_orig_image_name)):\n",
    "    img = image_preload[ex_orig_image_name[i]]\n",
    "    black_image_copy = black_image.copy()\n",
    "    black_image_copy.paste(img, (ex_x_offset[i], ex_y_offset[i]))\n",
    "    this_dest = f\"{dest}\\\\{ex_bin_x_bin_y[i]}\\\\{ex_image_names[i]}\".replace(\".png\",\".bmp\")\n",
    "    black_image_copy.save(this_dest)\n"
   ]
  },
  {
   "cell_type": "code",
   "execution_count": null,
   "id": "feb46cfd-cc3b-4316-a1fb-d5f7f657fed4",
   "metadata": {},
   "outputs": [],
   "source": []
  },
  {
   "cell_type": "code",
   "execution_count": null,
   "id": "9c06bd37-ca9b-482b-9c76-d736f0793989",
   "metadata": {},
   "outputs": [],
   "source": []
  }
 ],
 "metadata": {
  "kernelspec": {
   "display_name": "Python 3 (ipykernel)",
   "language": "python",
   "name": "python3"
  },
  "language_info": {
   "codemirror_mode": {
    "name": "ipython",
    "version": 3
   },
   "file_extension": ".py",
   "mimetype": "text/x-python",
   "name": "python",
   "nbconvert_exporter": "python",
   "pygments_lexer": "ipython3",
   "version": "3.10.10"
  }
 },
 "nbformat": 4,
 "nbformat_minor": 5
}
