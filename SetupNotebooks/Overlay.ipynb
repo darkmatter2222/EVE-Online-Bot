{
 "cells": [
  {
   "cell_type": "code",
   "execution_count": 3,
   "id": "17f2635f-475f-429a-95d8-96266bf7628b",
   "metadata": {},
   "outputs": [],
   "source": [
    "from tkinter import *\n",
    "import sys, os, decimal, json\n",
    "sys.path.append(os.path.realpath('..'))\n",
    "\n",
    "import socket\n",
    "\n",
    "from AI_Pilot.Control_Functions.Monitors import get_monitor_spec, get_screen"
   ]
  },
  {
   "cell_type": "code",
   "execution_count": 4,
   "id": "b89664e7-9c6e-4828-a5da-85b7086846ba",
   "metadata": {},
   "outputs": [
    {
     "ename": "FileNotFoundError",
     "evalue": "[Errno 2] No such file or directory: 'O:\\\\source\\\\repos\\\\EVE-Online-Bot\\\\AI_Pilot\\\\ai_pilot_config.json'",
     "output_type": "error",
     "traceback": [
      "\u001b[1;31m---------------------------------------------------------------------------\u001b[0m",
      "\u001b[1;31mFileNotFoundError\u001b[0m                         Traceback (most recent call last)",
      "Cell \u001b[1;32mIn[4], line 2\u001b[0m\n\u001b[0;32m      1\u001b[0m config_dir \u001b[38;5;241m=\u001b[39m \u001b[38;5;124mr\u001b[39m\u001b[38;5;124m\"\u001b[39m\u001b[38;5;124mO:\u001b[39m\u001b[38;5;124m\\\u001b[39m\u001b[38;5;124msource\u001b[39m\u001b[38;5;124m\\\u001b[39m\u001b[38;5;124mrepos\u001b[39m\u001b[38;5;124m\\\u001b[39m\u001b[38;5;124mEVE-Online-Bot\u001b[39m\u001b[38;5;124m\\\u001b[39m\u001b[38;5;124mAI_Pilot\u001b[39m\u001b[38;5;124m\\\u001b[39m\u001b[38;5;124mai_pilot_config.json\u001b[39m\u001b[38;5;124m\"\u001b[39m\n\u001b[1;32m----> 2\u001b[0m config \u001b[38;5;241m=\u001b[39m json\u001b[38;5;241m.\u001b[39mload(\u001b[38;5;28;43mopen\u001b[39;49m\u001b[43m(\u001b[49m\u001b[43mconfig_dir\u001b[49m\u001b[43m)\u001b[49m)[socket\u001b[38;5;241m.\u001b[39mgethostname()]\n",
      "File \u001b[1;32mO:\\source\\repos\\venv\\Python310GPU\\lib\\site-packages\\IPython\\core\\interactiveshell.py:282\u001b[0m, in \u001b[0;36m_modified_open\u001b[1;34m(file, *args, **kwargs)\u001b[0m\n\u001b[0;32m    275\u001b[0m \u001b[38;5;28;01mif\u001b[39;00m file \u001b[38;5;129;01min\u001b[39;00m {\u001b[38;5;241m0\u001b[39m, \u001b[38;5;241m1\u001b[39m, \u001b[38;5;241m2\u001b[39m}:\n\u001b[0;32m    276\u001b[0m     \u001b[38;5;28;01mraise\u001b[39;00m \u001b[38;5;167;01mValueError\u001b[39;00m(\n\u001b[0;32m    277\u001b[0m         \u001b[38;5;124mf\u001b[39m\u001b[38;5;124m\"\u001b[39m\u001b[38;5;124mIPython won\u001b[39m\u001b[38;5;124m'\u001b[39m\u001b[38;5;124mt let you open fd=\u001b[39m\u001b[38;5;132;01m{\u001b[39;00mfile\u001b[38;5;132;01m}\u001b[39;00m\u001b[38;5;124m by default \u001b[39m\u001b[38;5;124m\"\u001b[39m\n\u001b[0;32m    278\u001b[0m         \u001b[38;5;124m\"\u001b[39m\u001b[38;5;124mas it is likely to crash IPython. If you know what you are doing, \u001b[39m\u001b[38;5;124m\"\u001b[39m\n\u001b[0;32m    279\u001b[0m         \u001b[38;5;124m\"\u001b[39m\u001b[38;5;124myou can use builtins\u001b[39m\u001b[38;5;124m'\u001b[39m\u001b[38;5;124m open.\u001b[39m\u001b[38;5;124m\"\u001b[39m\n\u001b[0;32m    280\u001b[0m     )\n\u001b[1;32m--> 282\u001b[0m \u001b[38;5;28;01mreturn\u001b[39;00m io_open(file, \u001b[38;5;241m*\u001b[39margs, \u001b[38;5;241m*\u001b[39m\u001b[38;5;241m*\u001b[39mkwargs)\n",
      "\u001b[1;31mFileNotFoundError\u001b[0m: [Errno 2] No such file or directory: 'O:\\\\source\\\\repos\\\\EVE-Online-Bot\\\\AI_Pilot\\\\ai_pilot_config.json'"
     ]
    }
   ],
   "source": [
    "config_dir = r\"O:\\source\\repos\\EVE-Online-Bot\\AI_Pilot\\ai_pilot_config.json\"\n",
    "config = json.load(open(config_dir))[socket.gethostname()]"
   ]
  },
  {
   "cell_type": "code",
   "execution_count": 3,
   "id": "1ff38d41-3452-4922-a3e1-d0176bd195f3",
   "metadata": {},
   "outputs": [],
   "source": [
    "def get_processed_cords(x, y):\n",
    "    return x + config['monitor_offset_x'], y + config['monitor_offset_y']\n",
    "\n",
    "def cell_dims(x1, y1, x2, y2):\n",
    "    return x1, y1, x2 - x1, y2 - y1\n",
    "\n",
    "def cell_dims_from_list(list_onbj):\n",
    "    return cell_dims(list_onbj[0], list_onbj[1], list_onbj[2], list_onbj[3])\n",
    "\n",
    "def drawbox(top, left, bottom, right, color = '#ff6600'):\n",
    "    global canvas\n",
    "    canvas.create_line(top, left, top, right,\n",
    "                   top, right, bottom, right,\n",
    "                   bottom, right, bottom, left,\n",
    "                   bottom, left, top, left,\n",
    "                   fill=color, width=1)\n",
    "    \n",
    "def draw_movement(top, left, bottom, right, color = '#ff6600'):\n",
    "    global canvas\n",
    "    canvas.create_line(top, left, bottom, right,\n",
    "                   fill=color, width=1)\n",
    "    \n",
    "def draw_target(x, y, color = '#ff6600'):\n",
    "    global canvas\n",
    "    canvas.create_oval(x-10,y-10,x+10,y+10, fill=color, width=2)\n"
   ]
  },
  {
   "cell_type": "code",
   "execution_count": 4,
   "id": "05430915-8416-4712-915b-c75441424ecd",
   "metadata": {},
   "outputs": [],
   "source": [
    "root = Tk()"
   ]
  },
  {
   "cell_type": "code",
   "execution_count": 5,
   "id": "a674e90b-7857-44d7-b650-5c015b55f172",
   "metadata": {},
   "outputs": [],
   "source": [
    "canvas = Canvas(root, background=\"#ffffff\")\n",
    "#drawbox(*config['survey_scan_box'])\n",
    "\n",
    "#y_range = get_row_points(config['survey_scan_box'], 6)\n",
    "#x_range = get_col_points(config['survey_scan_box'], config['survey_scan_box_columns'])\n",
    "#cells = get_cells(x_range, y_range)\n",
    "\n",
    "#for i in cells.keys():\n",
    "#    drawbox(*list(cell_dims_from_list(cells[i]))), \n",
    "     \n",
    "#y_range = get_row_points(config['locations_box'], 13)\n",
    "#x_range = get_col_points(config['locations_box'], config['locations_box_columns'])\n",
    "#cells = get_cells(x_range, y_range)\n",
    "\n",
    "#for i in cells.keys():\n",
    "#    drawbox(*list(cell_dims_from_list(cells[i]))), \n",
    "    \n",
    "#y_range = get_row_points(config['search_location_grid'], 13)\n",
    "#x_range = get_col_points(config['search_location_grid'], [1])\n",
    "#cells = get_cells(x_range, y_range)\n",
    "\n",
    "#for i in cells.keys():\n",
    "#    drawbox(*list(cell_dims_from_list(cells[i])), color='purple'), \n",
    "    \n",
    "drawbox(*config['click_and_drag_inv_box'], color='limegreen')\n",
    "draw_movement(*config['click_and_drag_inv_line'], color='limegreen')\n",
    "draw_target(*config['exit_hanger_target'], color='red')\n",
    "#draw_target(*config['scanner_button_target'], color='red')\n",
    "#draw_target(*config['mining_hold_target'], color='limegreen')\n",
    "draw_target(*config['hanger_target'], color='pink')\n",
    "draw_target(*config['set_quant_target'], color='pink')\n",
    "\n",
    "draw_movement(*config['Unload_nav_bot_click_and_drag_inv_line'], color='red')\n",
    "\n",
    "draw_movement(*config['Load_to_mininghold_click_and_drag_inv_line'], color='pink')\n",
    "\n",
    "#drawbox(*config['miners'], color='lightblue')\n",
    "\n",
    "draw_target(*config['ship_root_target'], color='lightblue')\n",
    "\n",
    "drawbox(*config['cargo_box'])\n",
    "#drawbox(*config['locations_box'])\n",
    "canvas.pack(fill=BOTH, expand=1)"
   ]
  },
  {
   "cell_type": "code",
   "execution_count": 6,
   "id": "9a055a7f-e407-4d44-8651-b830ad739616",
   "metadata": {
    "tags": []
   },
   "outputs": [
    {
     "data": {
      "text/plain": [
       "{'top': 7, 'left': -1920, 'width': 1920, 'height': 1080, 'monitor_number': 2}"
      ]
     },
     "execution_count": 6,
     "metadata": {},
     "output_type": "execute_result"
    }
   ],
   "source": [
    "monitor = get_monitor_spec(2)\n",
    "monitor"
   ]
  },
  {
   "cell_type": "code",
   "execution_count": null,
   "id": "9a67ea05-6488-4f75-89c3-b2d4ed66a9cf",
   "metadata": {},
   "outputs": [],
   "source": [
    "root.overrideredirect(True)\n",
    "root.attributes('-topmost', True)\n",
    "root.wm_attributes(\"-transparentcolor\", \"#ffffff\")\n",
    "root.configure(background='#ffffff')\n",
    "root.geometry(f\"{monitor['width']}x{monitor['height']}+{monitor['left']}+{monitor['top']}\")\n",
    "root.title(\"Overlay\")\n",
    "\n",
    "\n",
    "root.mainloop()"
   ]
  },
  {
   "cell_type": "code",
   "execution_count": null,
   "id": "baaeaac4-6e1d-4630-a197-490533083006",
   "metadata": {},
   "outputs": [],
   "source": []
  }
 ],
 "metadata": {
  "kernelspec": {
   "display_name": "Python 3 (ipykernel)",
   "language": "python",
   "name": "python3"
  },
  "language_info": {
   "codemirror_mode": {
    "name": "ipython",
    "version": 3
   },
   "file_extension": ".py",
   "mimetype": "text/x-python",
   "name": "python",
   "nbconvert_exporter": "python",
   "pygments_lexer": "ipython3",
   "version": "3.10.10"
  }
 },
 "nbformat": 4,
 "nbformat_minor": 5
}
