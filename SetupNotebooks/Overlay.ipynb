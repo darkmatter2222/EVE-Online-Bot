{
 "cells": [
  {
   "cell_type": "code",
   "execution_count": 1,
   "id": "17f2635f-475f-429a-95d8-96266bf7628b",
   "metadata": {},
   "outputs": [],
   "source": [
    "from tkinter import *\n",
    "import sys, os, decimal, json\n",
    "sys.path.append(os.path.realpath('..'))\n",
    "\n",
    "import socket\n",
    "\n",
    "from AI_Pilot.Monitor_Interface.Monitors import get_monitor_spec, get_screen"
   ]
  },
  {
   "cell_type": "code",
   "execution_count": 2,
   "id": "b89664e7-9c6e-4828-a5da-85b7086846ba",
   "metadata": {},
   "outputs": [],
   "source": [
    "config_dir = r\"O:\\source\\repos\\EVE-Online-Bot\\AI_Pilot\\ai_pilot_config.json\"\n",
    "config = json.load(open(config_dir))[socket.gethostname()]"
   ]
  },
  {
   "cell_type": "code",
   "execution_count": 3,
   "id": "1ff38d41-3452-4922-a3e1-d0176bd195f3",
   "metadata": {},
   "outputs": [],
   "source": [
    "def get_processed_cords(x, y):\n",
    "    return x + config['monitor_offset_x'], y + config['monitor_offset_y']\n",
    "\n",
    "def cell_dims(x1, y1, x2, y2):\n",
    "    return x1, y1, x2 - x1, y2 - y1\n",
    "\n",
    "def cell_dims_from_list(list_onbj):\n",
    "    return cell_dims(list_onbj[0], list_onbj[1], list_onbj[2], list_onbj[3])\n",
    "\n",
    "def drawbox(top, left, bottom, right, color = '#ff6600'):\n",
    "    global canvas\n",
    "    canvas.create_line(top, left, top, right,\n",
    "                   top, right, bottom, right,\n",
    "                   bottom, right, bottom, left,\n",
    "                   bottom, left, top, left,\n",
    "                   fill=color, width=1)\n",
    "    \n",
    "def draw_movement(top, left, bottom, right, color = '#ff6600'):\n",
    "    global canvas\n",
    "    canvas.create_line(top, left, bottom, right,\n",
    "                   fill=color, width=1)\n",
    "    \n",
    "def draw_target(x, y, color = '#ff6600'):\n",
    "    global canvas\n",
    "    canvas.create_oval(x-10,y-10,x+10,y+10, fill=color, width=2)\n"
   ]
  },
  {
   "cell_type": "code",
   "execution_count": 4,
   "id": "05430915-8416-4712-915b-c75441424ecd",
   "metadata": {},
   "outputs": [],
   "source": [
    "root = Tk()"
   ]
  },
  {
   "cell_type": "code",
   "execution_count": 5,
   "id": "a674e90b-7857-44d7-b650-5c015b55f172",
   "metadata": {},
   "outputs": [],
   "source": [
    "canvas = Canvas(root, background=\"#ffffff\")\n",
    "#drawbox(*config['survey_scan_box'])\n",
    "\n",
    "#y_range = get_row_points(config['survey_scan_box'], 6)\n",
    "#x_range = get_col_points(config['survey_scan_box'], config['survey_scan_box_columns'])\n",
    "#cells = get_cells(x_range, y_range)\n",
    "\n",
    "#for i in cells.keys():\n",
    "#    drawbox(*list(cell_dims_from_list(cells[i]))), \n",
    "     \n",
    "#y_range = get_row_points(config['locations_box'], 13)\n",
    "#x_range = get_col_points(config['locations_box'], config['locations_box_columns'])\n",
    "#cells = get_cells(x_range, y_range)\n",
    "\n",
    "#for i in cells.keys():\n",
    "#    drawbox(*list(cell_dims_from_list(cells[i]))), \n",
    "    \n",
    "#y_range = get_row_points(config['search_location_grid'], 13)\n",
    "#x_range = get_col_points(config['search_location_grid'], [1])\n",
    "#cells = get_cells(x_range, y_range)\n",
    "\n",
    "#for i in cells.keys():\n",
    "#    drawbox(*list(cell_dims_from_list(cells[i])), color='purple'), \n",
    "    \n",
    "drawbox(*config['click_and_drag_inv_box'], color='limegreen')\n",
    "draw_movement(*config['click_and_drag_inv_line'], color='limegreen')\n",
    "draw_target(*config['exit_hanger_target'], color='red')\n",
    "#draw_target(*config['scanner_button_target'], color='red')\n",
    "#draw_target(*config['mining_hold_target'], color='limegreen')\n",
    "draw_target(*config['hanger_target'], color='pink')\n",
    "draw_target(*config['set_quant_target'], color='pink')\n",
    "\n",
    "draw_movement(*config['Unload_nav_bot_click_and_drag_inv_line'], color='red')\n",
    "\n",
    "draw_movement(*config['Load_to_mininghold_click_and_drag_inv_line'], color='pink')\n",
    "\n",
    "#drawbox(*config['miners'], color='lightblue')\n",
    "\n",
    "draw_target(*config['ship_root_target'], color='lightblue')\n",
    "\n",
    "drawbox(*config['cargo_box'])\n",
    "#drawbox(*config['locations_box'])\n",
    "canvas.pack(fill=BOTH, expand=1)"
   ]
  },
  {
   "cell_type": "code",
   "execution_count": 6,
   "id": "9a055a7f-e407-4d44-8651-b830ad739616",
   "metadata": {
    "tags": []
   },
   "outputs": [
    {
     "data": {
      "text/plain": [
       "{'top': 7, 'left': -1920, 'width': 1920, 'height': 1080, 'monitor_number': 2}"
      ]
     },
     "execution_count": 6,
     "metadata": {},
     "output_type": "execute_result"
    }
   ],
   "source": [
    "monitor = get_monitor_spec(2)\n",
    "monitor"
   ]
  },
  {
   "cell_type": "code",
   "execution_count": null,
   "id": "9a67ea05-6488-4f75-89c3-b2d4ed66a9cf",
   "metadata": {},
   "outputs": [],
   "source": [
    "root.overrideredirect(True)\n",
    "root.attributes('-topmost', True)\n",
    "root.wm_attributes(\"-transparentcolor\", \"#ffffff\")\n",
    "root.configure(background='#ffffff')\n",
    "root.geometry(f\"{monitor['width']}x{monitor['height']}+{monitor['left']}+{monitor['top']}\")\n",
    "root.title(\"Overlay\")\n",
    "\n",
    "\n",
    "root.mainloop()"
   ]
  },
  {
   "cell_type": "code",
   "execution_count": null,
   "id": "baaeaac4-6e1d-4630-a197-490533083006",
   "metadata": {},
   "outputs": [],
   "source": []
  }
 ],
 "metadata": {
  "kernelspec": {
   "display_name": "Python 3 (ipykernel)",
   "language": "python",
   "name": "python3"
  },
  "language_info": {
   "codemirror_mode": {
    "name": "ipython",
    "version": 3
   },
   "file_extension": ".py",
   "mimetype": "text/x-python",
   "name": "python",
   "nbconvert_exporter": "python",
   "pygments_lexer": "ipython3",
   "version": "3.10.10"
  }
 },
 "nbformat": 4,
 "nbformat_minor": 5
}
