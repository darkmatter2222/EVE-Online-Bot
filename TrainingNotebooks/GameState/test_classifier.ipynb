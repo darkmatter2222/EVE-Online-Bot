{
 "cells": [
  {
   "cell_type": "code",
   "execution_count": null,
   "id": "c7a88c03-e4c7-4f32-9251-85df17c644fd",
   "metadata": {},
   "outputs": [],
   "source": []
  },
  {
   "cell_type": "code",
   "execution_count": 1,
   "id": "4022935a-2eb9-439c-a2ad-055095a92283",
   "metadata": {},
   "outputs": [],
   "source": [
    "import sys, os, decimal, json\n",
    "sys.path.append(os.path.realpath('..'))\n",
    "import json, time\n",
    "import pyautogui\n",
    "import socket\n",
    "from MiningBot.EveInterface.Interface import Interface"
   ]
  },
  {
   "cell_type": "code",
   "execution_count": 2,
   "id": "82c667c6-1d86-412d-bf02-f40cb4cfd200",
   "metadata": {},
   "outputs": [
    {
     "name": "stdout",
     "output_type": "stream",
     "text": [
      "ScreenClassifier loaded...\n"
     ]
    }
   ],
   "source": [
    "config_dir = r'../MiningBot/Configs/configs.json'\n",
    "config = json.load(open(config_dir))[socket.gethostname()]\n",
    "game = Interface(config_dir=config_dir)"
   ]
  },
  {
   "cell_type": "code",
   "execution_count": 3,
   "id": "b8d42cfc-8ea0-4f15-8046-3ef092a6a01b",
   "metadata": {},
   "outputs": [
    {
     "name": "stdout",
     "output_type": "stream",
     "text": [
      "1/1 [==============================] - 2s 2s/step\n"
     ]
    },
    {
     "data": {
      "text/plain": [
       "{'argmax_index': 0,\n",
       " 'value_at_argmax': 0.99934083,\n",
       " 'pass_general_tollerance': True,\n",
       " 'class': 'connection_lost',\n",
       " 'classes': ['connection_lost', 'in_flight', 'in_hanger'],\n",
       " 'scores': [0.999340832233429, 0.0005204026820138097, 0.00013878877507522702]}"
      ]
     },
     "execution_count": 3,
     "metadata": {},
     "output_type": "execute_result"
    }
   ],
   "source": [
    "game.get_screen_class(refresh_screen=True)"
   ]
  },
  {
   "cell_type": "code",
   "execution_count": null,
   "id": "339ec3d4-6121-46ec-9617-dfe06d579528",
   "metadata": {},
   "outputs": [],
   "source": []
  },
  {
   "cell_type": "code",
   "execution_count": null,
   "id": "1b8e688a-9459-4987-9639-b2a6554e7f40",
   "metadata": {},
   "outputs": [],
   "source": []
  }
 ],
 "metadata": {
  "kernelspec": {
   "display_name": "Python 3 (ipykernel)",
   "language": "python",
   "name": "python3"
  },
  "language_info": {
   "codemirror_mode": {
    "name": "ipython",
    "version": 3
   },
   "file_extension": ".py",
   "mimetype": "text/x-python",
   "name": "python",
   "nbconvert_exporter": "python",
   "pygments_lexer": "ipython3",
   "version": "3.10.9"
  }
 },
 "nbformat": 4,
 "nbformat_minor": 5
}
