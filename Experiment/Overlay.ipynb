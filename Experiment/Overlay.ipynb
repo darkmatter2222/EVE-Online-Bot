{
 "cells": [
  {
   "cell_type": "code",
   "execution_count": 1,
   "id": "35ae33d2-e5ae-46df-a4b2-16f043835bbd",
   "metadata": {},
   "outputs": [],
   "source": [
    "from tkinter import *\n",
    "import decimal\n",
    "import numpy as np\n",
    "import ctypes"
   ]
  },
  {
   "cell_type": "code",
   "execution_count": 2,
   "id": "8247eec0-8c26-42ab-8d5a-89bc4e619009",
   "metadata": {},
   "outputs": [],
   "source": [
    "user32 = ctypes.windll.user32\n",
    "screenSize = user32.GetSystemMetrics(0), user32.GetSystemMetrics(1)\n",
    "centerPoint = tuple(i/2 for i in screenSize)\n",
    "monitor_width = screenSize[0]\n",
    "monitor_height = screenSize[1]"
   ]
  },
  {
   "cell_type": "code",
   "execution_count": 3,
   "id": "d4f2d550-9a9b-4000-b461-d7da2b473cd2",
   "metadata": {
    "tags": []
   },
   "outputs": [],
   "source": [
    "root = Tk()"
   ]
  },
  {
   "cell_type": "code",
   "execution_count": 4,
   "id": "5200d4a4-c1f0-4773-981f-b154a5eeaaf9",
   "metadata": {},
   "outputs": [
    {
     "name": "stdout",
     "output_type": "stream",
     "text": [
      "463\n",
      "[1820.35 1889.8  1982.4 ]\n",
      "[1820, 1890, 1982]\n"
     ]
    }
   ],
   "source": [
    "def drange(x, y, jump):\n",
    "    while x < y:\n",
    "        yield float(x)\n",
    "        x += decimal.Decimal(jump)\n",
    "\n",
    "canvas = Canvas(root, background=\"#ffffff\")\n",
    "\n",
    "scan_results_box = [1612, 1076, 2075, 1332] #x,y TopLeft ,x,y Bottom Right\n",
    "\n",
    "# box\n",
    "canvas.create_line(scan_results_box[0], scan_results_box[1],\n",
    "                   scan_results_box[0], scan_results_box[3],\n",
    "                   \n",
    "                   scan_results_box[0], scan_results_box[3],\n",
    "                   scan_results_box[2], scan_results_box[3],\n",
    "                   \n",
    "                   scan_results_box[2], scan_results_box[3],\n",
    "                   scan_results_box[2], scan_results_box[1],\n",
    "                   \n",
    "                   scan_results_box[2], scan_results_box[1],\n",
    "                   scan_results_box[0], scan_results_box[1],\n",
    "\n",
    "                   fill=\"#ff6600\", width=1)\n",
    "\n",
    "# rows\n",
    "space = (scan_results_box[3] - scan_results_box[1]) / 12\n",
    "row_points= list(drange(scan_results_box[1], scan_results_box[3], f'{space}'))\n",
    "row_points = list(np.rint(np.asarray(row_points)).astype(int))\n",
    "for i in row_points:\n",
    "    canvas.create_line(scan_results_box[0], i,\n",
    "                       scan_results_box[2], i, \n",
    "                   fill=\"#ff6600\", width=1)\n",
    "\n",
    "col_delta = scan_results_box[2] - scan_results_box[0]\n",
    "print(col_delta)\n",
    "cols_points =  [col_delta * .45, col_delta * .15, col_delta * .2]\n",
    "\n",
    "final_col_points = np.array([scan_results_box[0] + cols_points[0],\n",
    "                             scan_results_box[0] + cols_points[0] + cols_points[1],\n",
    "                             scan_results_box[0] + cols_points[0] + cols_points[1] + cols_points[2],])\n",
    "print(final_col_points)\n",
    "final_col_points = list(np.rint(final_col_points).astype(int))\n",
    "print(final_col_points)\n",
    "# cols\n",
    "for i in final_col_points:\n",
    "    canvas.create_line(i, scan_results_box[1],\n",
    "                       i, scan_results_box[3],\n",
    "                   fill=\"#ff6600\", width=1)\n",
    "\n",
    "\n",
    "\n",
    "\n",
    "\n",
    "canvas.pack(fill=BOTH, expand=1)"
   ]
  },
  {
   "cell_type": "code",
   "execution_count": null,
   "id": "1b549047-4328-483d-8766-43645ef93e20",
   "metadata": {},
   "outputs": [],
   "source": [
    "root.overrideredirect(True)\n",
    "root.attributes('-topmost', True)\n",
    "root.wm_attributes(\"-transparentcolor\", \"#ffffff\")\n",
    "root.configure(background='#ffffff')\n",
    "root.geometry('%dx%d+%d+%d' % (monitor_width, monitor_height, 0, 0))\n",
    "root.title(\"Overlay\")\n",
    "\n",
    "\n",
    "root.mainloop()"
   ]
  },
  {
   "cell_type": "code",
   "execution_count": null,
   "id": "9cfc6aa6-d59d-4676-abed-9d692a316492",
   "metadata": {},
   "outputs": [],
   "source": []
  }
 ],
 "metadata": {
  "kernelspec": {
   "display_name": "Python 3 (ipykernel)",
   "language": "python",
   "name": "python3"
  },
  "language_info": {
   "codemirror_mode": {
    "name": "ipython",
    "version": 3
   },
   "file_extension": ".py",
   "mimetype": "text/x-python",
   "name": "python",
   "nbconvert_exporter": "python",
   "pygments_lexer": "ipython3",
   "version": "3.10.9"
  }
 },
 "nbformat": 4,
 "nbformat_minor": 5
}
