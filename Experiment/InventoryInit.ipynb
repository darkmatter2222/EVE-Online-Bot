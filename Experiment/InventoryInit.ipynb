{
 "cells": [
  {
   "cell_type": "code",
   "execution_count": 1,
   "id": "3d896b79-fa99-487f-8c98-aa80945fc7e4",
   "metadata": {},
   "outputs": [],
   "source": [
    "import numpy as np\n",
    "import ctypes\n",
    "import pyautogui\n",
    "\n",
    "from PIL import Image, ImageDraw\n",
    "import decimal\n",
    "\n",
    "from pytesseract import pytesseract\n",
    "import pandas as pd\n",
    "from tqdm import tqdm\n",
    "import time"
   ]
  },
  {
   "cell_type": "code",
   "execution_count": 2,
   "id": "5f367a63-d52d-4458-bdbc-15d789a57656",
   "metadata": {},
   "outputs": [],
   "source": [
    "user32 = ctypes.windll.user32\n",
    "screenSize = user32.GetSystemMetrics(0), user32.GetSystemMetrics(1)\n",
    "centerPoint = tuple(i/2 for i in screenSize)\n",
    "monitor_width = screenSize[0]\n",
    "monitor_height = screenSize[1]"
   ]
  },
  {
   "cell_type": "code",
   "execution_count": 37,
   "id": "de890bd6-308e-414b-b2da-17748bff5336",
   "metadata": {},
   "outputs": [],
   "source": [
    "def drange(x, y, jump):\n",
    "    while x < y:\n",
    "        yield float(x)\n",
    "        x += decimal.Decimal(jump)\n",
    "        \n",
    "def cell_dims(x1, y1, x2, y2):\n",
    "    return x1, y1, x2 - x1, y2 - y1\n",
    "\n",
    "def cell_dims_from_list(list_onbj):\n",
    "    return cell_dims(list_onbj[0], list_onbj[1], list_onbj[2], list_onbj[3])"
   ]
  },
  {
   "cell_type": "code",
   "execution_count": 38,
   "id": "5bdde815-165c-4b2b-b7b0-e916a1a1efa0",
   "metadata": {},
   "outputs": [
    {
     "data": {
      "image/png": "[encoded data removed]",
      "text/plain": [
       "<PIL.Image.Image image mode=RGB size=193x24>"
      ]
     },
     "execution_count": 38,
     "metadata": {},
     "output_type": "execute_result"
    }
   ],
   "source": [
    "full_screen_image = pyautogui.screenshot(region=(0, 0, monitor_width, monitor_height))\n",
    "survey_scan_results_box = [774, 1076, 967, 1100] #x,y Top Left ,x,y Bottom Right\n",
    "crop = full_screen_image.crop(survey_scan_results_box) \n",
    "crop"
   ]
  },
  {
   "cell_type": "code",
   "execution_count": 39,
   "id": "843f6721-44f7-4bcf-b870-b38fe35bf2b0",
   "metadata": {},
   "outputs": [
    {
     "data": {
      "image/png": "[encoded data removed]",
      "text/plain": [
       "<PIL.Image.Image image mode=RGBA size=193x24>"
      ]
     },
     "execution_count": 39,
     "metadata": {},
     "output_type": "execute_result"
    }
   ],
   "source": [
    "im = crop.convert('RGBA')\n",
    "data = np.array(im)\n",
    "red, green, blue, alpha = data.T\n",
    "\n",
    "# find and replace (cleaning up image)\n",
    "white_areas = (red == 58) & (blue == 102) & (green == 92)\n",
    "data[..., :-1][white_areas.T] = (14, 14, 14)\n",
    "white_areas = (red == 35) & (blue == 62) & (green == 56)\n",
    "data[..., :-1][white_areas.T] = (14, 14, 14)\n",
    "white_areas = (red == 45) & (blue == 78) & (green == 71)\n",
    "data[..., :-1][white_areas.T] = (14, 14, 14)\n",
    "\n",
    "im2 = Image.fromarray(data)\n",
    "im2"
   ]
  },
  {
   "cell_type": "code",
   "execution_count": 40,
   "id": "9e3bbb7c-856a-4be8-a553-d3477ec90f68",
   "metadata": {},
   "outputs": [
    {
     "data": {
      "text/plain": [
       "['83398.8', '1811882.8']"
      ]
     },
     "execution_count": 40,
     "metadata": {},
     "output_type": "execute_result"
    }
   ],
   "source": [
    "Processed_string = pytesseract.image_to_string(im2, lang='eng').replace('\\n', '').replace(' m*', '').replace(',', '')\n",
    "Processed_string.split('/')"
   ]
  },
  {
   "cell_type": "code",
   "execution_count": null,
   "id": "e48c86c0-fbe7-4c20-80b4-d1783c86de9b",
   "metadata": {},
   "outputs": [],
   "source": []
  },
  {
   "cell_type": "code",
   "execution_count": null,
   "id": "70258e12-2b4d-4873-9d8c-fe8ea7bff71e",
   "metadata": {},
   "outputs": [],
   "source": []
  },
  {
   "cell_type": "code",
   "execution_count": null,
   "id": "a6f14789-cb86-4a7f-9ded-0cc853610384",
   "metadata": {},
   "outputs": [],
   "source": []
  },
  {
   "cell_type": "code",
   "execution_count": null,
   "id": "b6c488d2-7525-473d-98d1-0da29984c724",
   "metadata": {},
   "outputs": [],
   "source": []
  },
  {
   "cell_type": "code",
   "execution_count": null,
   "id": "720affc6-b7c3-4017-95ad-13185d932a8b",
   "metadata": {},
   "outputs": [],
   "source": []
  },
  {
   "cell_type": "code",
   "execution_count": null,
   "id": "1b411f03-4540-4b4c-9f65-b8f98642a1b1",
   "metadata": {},
   "outputs": [],
   "source": []
  },
  {
   "cell_type": "code",
   "execution_count": 4,
   "id": "ebce416b-4f7c-486d-bf1c-b67e70c51507",
   "metadata": {},
   "outputs": [],
   "source": [
    "def process():\n",
    "    full_screen_image = pyautogui.screenshot(region=(0, 0, monitor_width, monitor_height))\n",
    "    survey_scan_results_box = [1610, 1076, 2050, 1332] #x,y Top Left ,x,y Bottom Right\n",
    "    \n",
    "    space = (survey_scan_results_box[3] - survey_scan_results_box[1]) / 12\n",
    "    row_points= list(drange(survey_scan_results_box[1], survey_scan_results_box[3], f'{space}'))\n",
    "    final_row_points = list(np.rint(np.asarray(row_points)).astype(int))\n",
    "    \n",
    "    col_delta = survey_scan_results_box[2] - survey_scan_results_box[0]\n",
    "    cols_points =  [col_delta * .05, col_delta * .45, col_delta * .15, col_delta * .18]\n",
    "\n",
    "    temp_list = []\n",
    "\n",
    "    for i in range(len(cols_points)):\n",
    "        this_int = survey_scan_results_box[0]\n",
    "        for j in range(i + 1):\n",
    "            this_int += cols_points[j]\n",
    "        temp_list.append(this_int)\n",
    "\n",
    "    final_col_points = np.array(temp_list)\n",
    "\n",
    "    final_col_points = list(np.rint(final_col_points).astype(int))\n",
    "    final_col_points = [survey_scan_results_box[0]] + final_col_points + [survey_scan_results_box[2]]\n",
    "    \n",
    "    x_range = final_col_points\n",
    "    y_range = final_row_points\n",
    "\n",
    "    cells = {}\n",
    "\n",
    "    for i, x in enumerate(x_range):\n",
    "        for j, y in enumerate(y_range):\n",
    "            try:\n",
    "                cells[i, j] = tuple([x, y, x + x_range[i+1], y + y_range[j+1]])\n",
    "            except:\n",
    "                pass\n",
    "            \n",
    "    frames = []\n",
    "    columns = ['Locked', 'Ore', 'Quantity', 'Volume', 'Distance', 'click_target']\n",
    "    for i in tqdm(range(12)):\n",
    "        frame = {}\n",
    "        for j in range(0, 5):\n",
    "            cell = cell_dims_from_list(list(cells[j, i]))\n",
    "            cell_image = full_screen_image.crop(cell)\n",
    "            transcript = pytesseract.image_to_string(cell_image, lang='eng')\n",
    "\n",
    "\n",
    "            frame[columns[j]] = transcript.replace('\\n','').replace('+','').replace('>','').replace('k m', ' km')\n",
    "        frame['click_target'] = (cells[1, i][0] + 10, cells[1, i][1] + 10) # offset by 10x10 pixels\n",
    "        frames.append(frame)\n",
    "    df = pd.DataFrame(frames, columns=columns)\n",
    "    df.loc[df['Locked'] != '', 'Locked'] = '><'\n",
    "    return df"
   ]
  }
 ],
 "metadata": {
  "kernelspec": {
   "display_name": "Python 3 (ipykernel)",
   "language": "python",
   "name": "python3"
  },
  "language_info": {
   "codemirror_mode": {
    "name": "ipython",
    "version": 3
   },
   "file_extension": ".py",
   "mimetype": "text/x-python",
   "name": "python",
   "nbconvert_exporter": "python",
   "pygments_lexer": "ipython3",
   "version": "3.10.9"
  }
 },
 "nbformat": 4,
 "nbformat_minor": 5
}
