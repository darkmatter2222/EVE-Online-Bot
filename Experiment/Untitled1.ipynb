{
 "cells": [
  {
   "cell_type": "code",
   "execution_count": 86,
   "id": "3c42959d-4fbc-4a0f-bd52-b40cba3affd6",
   "metadata": {
    "tags": []
   },
   "outputs": [],
   "source": [
    "import win32gui\n",
    "import win32api\n",
    "import win32con\n",
    "import win32process\n",
    "import wmi\n",
    "\n",
    "\n",
    "def control_click(x, y, handle, button='left'):\n",
    "\n",
    "    l_param = win32api.MAKELONG(x, y)\n",
    "\n",
    "    if button == 'left':\n",
    "        win32gui.PostMessage(handle, win32con.WM_LBUTTONDOWN)\n",
    "        win32gui.PostMessage(handle, win32con.WM_LBUTTONUP)\n",
    "\n",
    "    elif button == 'right':\n",
    "        win32gui.PostMessage(handle, win32con.WM_RBUTTONDOWN, 0, l_param)\n",
    "        win32gui.PostMessage(handle, win32con.WM_RBUTTONUP, 0, l_param)"
   ]
  },
  {
   "cell_type": "code",
   "execution_count": 87,
   "id": "3c754c37-0d2a-408c-ae5f-1bc1a9c96a2f",
   "metadata": {
    "tags": []
   },
   "outputs": [
    {
     "data": {
      "text/plain": [
       "11100"
      ]
     },
     "execution_count": 87,
     "metadata": {},
     "output_type": "execute_result"
    }
   ],
   "source": [
    "f = wmi.WMI()\n",
    "pid = None\n",
    "for p in f.Win32_Process():\n",
    "    if p.Name == 'exefile.exe':\n",
    "        pid = p.ProcessId\n",
    "        break\n",
    "pid"
   ]
  },
  {
   "cell_type": "code",
   "execution_count": 88,
   "id": "ad3aa098-17a9-43c9-8222-03f60554ebb7",
   "metadata": {
    "tags": []
   },
   "outputs": [
    {
     "ename": "error",
     "evalue": "(87, 'OpenProcess', 'The parameter is incorrect.')",
     "output_type": "error",
     "traceback": [
      "\u001b[1;31m---------------------------------------------------------------------------\u001b[0m",
      "\u001b[1;31merror\u001b[0m                                     Traceback (most recent call last)",
      "Cell \u001b[1;32mIn[88], line 1\u001b[0m\n\u001b[1;32m----> 1\u001b[0m handle \u001b[38;5;241m=\u001b[39m \u001b[43mwin32api\u001b[49m\u001b[38;5;241;43m.\u001b[39;49m\u001b[43mOpenProcess\u001b[49m\u001b[43m(\u001b[49m\u001b[38;5;241;43m1\u001b[39;49m\u001b[43m,\u001b[49m\u001b[38;5;241;43m1\u001b[39;49m\u001b[43m,\u001b[49m\u001b[43m \u001b[49m\u001b[38;5;241;43m424\u001b[39;49m\u001b[43m)\u001b[49m\n\u001b[0;32m      2\u001b[0m handle\u001b[38;5;241m.\u001b[39mhandle\n",
      "\u001b[1;31merror\u001b[0m: (87, 'OpenProcess', 'The parameter is incorrect.')"
     ]
    }
   ],
   "source": [
    "handle = win32api.OpenProcess(1,1, 424)\n",
    "handle.handle"
   ]
  },
  {
   "cell_type": "code",
   "execution_count": null,
   "id": "d1bdb6c4-b770-46bc-a207-2d25eb3077a0",
   "metadata": {
    "tags": []
   },
   "outputs": [],
   "source": [
    "control_click(0,0, 424)"
   ]
  },
  {
   "cell_type": "code",
   "execution_count": 97,
   "id": "f49ba581-b3ee-42ff-88fa-8c4f1fdfa238",
   "metadata": {
    "tags": []
   },
   "outputs": [
    {
     "name": "stdout",
     "output_type": "stream",
     "text": [
      "9113736\n",
      "5443762\n",
      "7670998\n"
     ]
    }
   ],
   "source": [
    "def lol(obj, obj2):\n",
    "    try:\n",
    "        control_click(400,400, obj)\n",
    "    except:\n",
    "        pass\n",
    "    thispid = win32process.GetWindowThreadProcessId(obj)\n",
    "    if int(thispid[1]) == pid:\n",
    "        print(obj)\n",
    "obj = None\n",
    "win32gui.EnumWindows(lol, obj)"
   ]
  },
  {
   "cell_type": "code",
   "execution_count": 94,
   "id": "007d48ee-4501-4573-a196-49af8378c3a1",
   "metadata": {
    "tags": []
   },
   "outputs": [],
   "source": [
    "control_click(400,400, 9113736)\n",
    "control_click(400,400, 7670998)\n",
    "control_click(400,400, 5443762)"
   ]
  },
  {
   "cell_type": "code",
   "execution_count": null,
   "id": "1768ca68-0864-444b-a624-c8cbe0c4bb9a",
   "metadata": {},
   "outputs": [],
   "source": [
    "win32gui.EnumWindows(lol, obj)"
   ]
  }
 ],
 "metadata": {
  "kernelspec": {
   "display_name": "Python 3 (ipykernel)",
   "language": "python",
   "name": "python3"
  },
  "language_info": {
   "codemirror_mode": {
    "name": "ipython",
    "version": 3
   },
   "file_extension": ".py",
   "mimetype": "text/x-python",
   "name": "python",
   "nbconvert_exporter": "python",
   "pygments_lexer": "ipython3",
   "version": "3.10.10"
  }
 },
 "nbformat": 4,
 "nbformat_minor": 5
}
