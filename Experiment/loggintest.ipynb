{
 "cells": [
  {
   "cell_type": "code",
   "execution_count": 9,
   "id": "491ca885-6db1-4c2a-958f-65ea7a0256f8",
   "metadata": {},
   "outputs": [],
   "source": [
    "import sys, os\n",
    "import pandas as pd\n",
    "sys.path.append(os.path.realpath('..'))\n",
    "from MiningBot.AuditHistory.History import History\n",
    "import json\n",
    "import socket\n",
    "from datetime import datetime, timedelta"
   ]
  },
  {
   "cell_type": "code",
   "execution_count": 2,
   "id": "cf92d7b5-5985-4938-b62d-6c772601951a",
   "metadata": {},
   "outputs": [],
   "source": [
    "config_dir = r'../MiningBot/Configs/configs.json'\n",
    "config = json.load(open(config_dir))[socket.gethostname()]"
   ]
  },
  {
   "cell_type": "code",
   "execution_count": 3,
   "id": "44722b25-e5fb-44f6-aa51-f92fe9323f8a",
   "metadata": {},
   "outputs": [],
   "source": [
    "log = History(config_dir=config_dir)"
   ]
  },
  {
   "cell_type": "code",
   "execution_count": 4,
   "id": "d28c5786-2c89-4d62-92b6-9b2e0aaac1a9",
   "metadata": {},
   "outputs": [],
   "source": [
    "records = log.get_all()"
   ]
  },
  {
   "cell_type": "code",
   "execution_count": 5,
   "id": "588f5115-7ad2-4cae-9285-1159ff4c0021",
   "metadata": {},
   "outputs": [
    {
     "data": {
      "text/html": [
       "<div>\n",
       "<style scoped>\n",
       "    .dataframe tbody tr th:only-of-type {\n",
       "        vertical-align: middle;\n",
       "    }\n",
       "\n",
       "    .dataframe tbody tr th {\n",
       "        vertical-align: top;\n",
       "    }\n",
       "\n",
       "    .dataframe thead th {\n",
       "        text-align: right;\n",
       "    }\n",
       "</style>\n",
       "<table border=\"1\" class=\"dataframe\">\n",
       "  <thead>\n",
       "    <tr style=\"text-align: right;\">\n",
       "      <th></th>\n",
       "      <th>_id</th>\n",
       "      <th>datetime</th>\n",
       "      <th>action</th>\n",
       "      <th>context</th>\n",
       "      <th>timedelta</th>\n",
       "    </tr>\n",
       "  </thead>\n",
       "  <tbody>\n",
       "    <tr>\n",
       "      <th>94</th>\n",
       "      <td>63f4a7bf726cf8c3937033ee</td>\n",
       "      <td>2023-02-21 11:15:11.129</td>\n",
       "      <td>Extraction</td>\n",
       "      <td></td>\n",
       "      <td>0.000000</td>\n",
       "    </tr>\n",
       "    <tr>\n",
       "      <th>93</th>\n",
       "      <td>63f4a7b7726cf8c3937033ed</td>\n",
       "      <td>2023-02-21 11:15:03.649</td>\n",
       "      <td>Navigating</td>\n",
       "      <td>Site One Alpha</td>\n",
       "      <td>1439.866667</td>\n",
       "    </tr>\n",
       "    <tr>\n",
       "      <th>92</th>\n",
       "      <td>63f4a773726cf8c3937033ec</td>\n",
       "      <td>2023-02-21 11:13:55.159</td>\n",
       "      <td>Navigating</td>\n",
       "      <td>Site Two Alpha</td>\n",
       "      <td>1438.850000</td>\n",
       "    </tr>\n",
       "    <tr>\n",
       "      <th>91</th>\n",
       "      <td>63f4a67b726cf8c3937033eb</td>\n",
       "      <td>2023-02-21 11:09:47.589</td>\n",
       "      <td>Navigating</td>\n",
       "      <td>Home</td>\n",
       "      <td>1435.866667</td>\n",
       "    </tr>\n",
       "    <tr>\n",
       "      <th>90</th>\n",
       "      <td>63f4a59f726cf8c3937033ea</td>\n",
       "      <td>2023-02-21 11:06:07.749</td>\n",
       "      <td>Extraction</td>\n",
       "      <td></td>\n",
       "      <td>1436.333333</td>\n",
       "    </tr>\n",
       "    <tr>\n",
       "      <th>...</th>\n",
       "      <td>...</td>\n",
       "      <td>...</td>\n",
       "      <td>...</td>\n",
       "      <td>...</td>\n",
       "      <td>...</td>\n",
       "    </tr>\n",
       "    <tr>\n",
       "      <th>4</th>\n",
       "      <td>63f42151d2bfb6cfc297a6f4</td>\n",
       "      <td>2023-02-21 01:41:37.885</td>\n",
       "      <td>Extraction</td>\n",
       "      <td></td>\n",
       "      <td>1431.383333</td>\n",
       "    </tr>\n",
       "    <tr>\n",
       "      <th>3</th>\n",
       "      <td>63f41f4dd2bfb6cfc297a6f3</td>\n",
       "      <td>2023-02-21 01:33:01.297</td>\n",
       "      <td>Extraction</td>\n",
       "      <td></td>\n",
       "      <td>1431.383333</td>\n",
       "    </tr>\n",
       "    <tr>\n",
       "      <th>2</th>\n",
       "      <td>63f41dfcd2bfb6cfc297a6f2</td>\n",
       "      <td>2023-02-21 01:27:24.965</td>\n",
       "      <td>Extraction</td>\n",
       "      <td></td>\n",
       "      <td>1434.383333</td>\n",
       "    </tr>\n",
       "    <tr>\n",
       "      <th>1</th>\n",
       "      <td>63f41cacd2bfb6cfc297a6f1</td>\n",
       "      <td>2023-02-21 01:21:48.775</td>\n",
       "      <td>Extraction</td>\n",
       "      <td></td>\n",
       "      <td>1434.383333</td>\n",
       "    </tr>\n",
       "    <tr>\n",
       "      <th>0</th>\n",
       "      <td>63f41ca5d2bfb6cfc297a6f0</td>\n",
       "      <td>2023-02-21 01:21:41.055</td>\n",
       "      <td>Navigating</td>\n",
       "      <td>Site Two Alpha</td>\n",
       "      <td>1439.866667</td>\n",
       "    </tr>\n",
       "  </tbody>\n",
       "</table>\n",
       "<p>95 rows × 5 columns</p>\n",
       "</div>"
      ],
      "text/plain": [
       "                         _id                datetime      action  \\\n",
       "94  63f4a7bf726cf8c3937033ee 2023-02-21 11:15:11.129  Extraction   \n",
       "93  63f4a7b7726cf8c3937033ed 2023-02-21 11:15:03.649  Navigating   \n",
       "92  63f4a773726cf8c3937033ec 2023-02-21 11:13:55.159  Navigating   \n",
       "91  63f4a67b726cf8c3937033eb 2023-02-21 11:09:47.589  Navigating   \n",
       "90  63f4a59f726cf8c3937033ea 2023-02-21 11:06:07.749  Extraction   \n",
       "..                       ...                     ...         ...   \n",
       "4   63f42151d2bfb6cfc297a6f4 2023-02-21 01:41:37.885  Extraction   \n",
       "3   63f41f4dd2bfb6cfc297a6f3 2023-02-21 01:33:01.297  Extraction   \n",
       "2   63f41dfcd2bfb6cfc297a6f2 2023-02-21 01:27:24.965  Extraction   \n",
       "1   63f41cacd2bfb6cfc297a6f1 2023-02-21 01:21:48.775  Extraction   \n",
       "0   63f41ca5d2bfb6cfc297a6f0 2023-02-21 01:21:41.055  Navigating   \n",
       "\n",
       "           context    timedelta  \n",
       "94                     0.000000  \n",
       "93  Site One Alpha  1439.866667  \n",
       "92  Site Two Alpha  1438.850000  \n",
       "91            Home  1435.866667  \n",
       "90                  1436.333333  \n",
       "..             ...          ...  \n",
       "4                   1431.383333  \n",
       "3                   1431.383333  \n",
       "2                   1434.383333  \n",
       "1                   1434.383333  \n",
       "0   Site Two Alpha  1439.866667  \n",
       "\n",
       "[95 rows x 5 columns]"
      ]
     },
     "execution_count": 5,
     "metadata": {},
     "output_type": "execute_result"
    }
   ],
   "source": [
    "df = pd.DataFrame(records)\n",
    "df = df.sort_values(by='datetime', ascending=False)\n",
    "df['datetime'] = pd.to_datetime(df['datetime'])\n",
    "df['timedelta'] = df['datetime'].diff().dt.seconds.div(60, fill_value=0)\n",
    "df"
   ]
  },
  {
   "cell_type": "code",
   "execution_count": 14,
   "id": "dcf98be2-5520-4fc5-a628-690d695748c4",
   "metadata": {},
   "outputs": [
    {
     "data": {
      "text/plain": [
       "datetime.datetime(2023, 2, 22, 1, 5, 46, 420176)"
      ]
     },
     "execution_count": 14,
     "metadata": {},
     "output_type": "execute_result"
    }
   ],
   "source": [
    "datetime.utcnow() + timedelta(minutes=30)"
   ]
  },
  {
   "cell_type": "code",
   "execution_count": 15,
   "id": "a48e5344-3fc9-4b04-9704-b9846fd650f6",
   "metadata": {},
   "outputs": [
    {
     "data": {
      "text/plain": [
       "datetime.datetime(2023, 2, 22, 0, 35, 52, 101489)"
      ]
     },
     "execution_count": 15,
     "metadata": {},
     "output_type": "execute_result"
    }
   ],
   "source": [
    "datetime.utcnow() "
   ]
  },
  {
   "cell_type": "code",
   "execution_count": null,
   "id": "8e2efdfc-8dd4-42aa-940f-6b7238932f8d",
   "metadata": {},
   "outputs": [],
   "source": []
  }
 ],
 "metadata": {
  "kernelspec": {
   "display_name": "Python 3 (ipykernel)",
   "language": "python",
   "name": "python3"
  },
  "language_info": {
   "codemirror_mode": {
    "name": "ipython",
    "version": 3
   },
   "file_extension": ".py",
   "mimetype": "text/x-python",
   "name": "python",
   "nbconvert_exporter": "python",
   "pygments_lexer": "ipython3",
   "version": "3.10.9"
  }
 },
 "nbformat": 4,
 "nbformat_minor": 5
}
