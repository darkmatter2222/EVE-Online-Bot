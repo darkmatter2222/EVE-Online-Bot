{
 "cells": [
  {
   "cell_type": "code",
   "execution_count": 17,
   "id": "491ca885-6db1-4c2a-958f-65ea7a0256f8",
   "metadata": {},
   "outputs": [],
   "source": [
    "import sys, os\n",
    "import pandas as pd\n",
    "sys.path.append(os.path.realpath('..'))\n",
    "from MiningBot.AuditHistory.History import History\n",
    "import json\n",
    "import socket"
   ]
  },
  {
   "cell_type": "code",
   "execution_count": 18,
   "id": "cf92d7b5-5985-4938-b62d-6c772601951a",
   "metadata": {},
   "outputs": [],
   "source": [
    "config_dir = r'../MiningBot/Configs/configs.json'\n",
    "config = json.load(open(config_dir))[socket.gethostname()]"
   ]
  },
  {
   "cell_type": "code",
   "execution_count": 19,
   "id": "44722b25-e5fb-44f6-aa51-f92fe9323f8a",
   "metadata": {},
   "outputs": [],
   "source": [
    "log = History(config_dir=config_dir)"
   ]
  },
  {
   "cell_type": "code",
   "execution_count": 20,
   "id": "d28c5786-2c89-4d62-92b6-9b2e0aaac1a9",
   "metadata": {},
   "outputs": [],
   "source": [
    "records = log.get_all()"
   ]
  },
  {
   "cell_type": "code",
   "execution_count": 21,
   "id": "588f5115-7ad2-4cae-9285-1159ff4c0021",
   "metadata": {},
   "outputs": [
    {
     "data": {
      "text/html": [
       "<div>\n",
       "<style scoped>\n",
       "    .dataframe tbody tr th:only-of-type {\n",
       "        vertical-align: middle;\n",
       "    }\n",
       "\n",
       "    .dataframe tbody tr th {\n",
       "        vertical-align: top;\n",
       "    }\n",
       "\n",
       "    .dataframe thead th {\n",
       "        text-align: right;\n",
       "    }\n",
       "</style>\n",
       "<table border=\"1\" class=\"dataframe\">\n",
       "  <thead>\n",
       "    <tr style=\"text-align: right;\">\n",
       "      <th></th>\n",
       "      <th>_id</th>\n",
       "      <th>datetime</th>\n",
       "      <th>action</th>\n",
       "      <th>context</th>\n",
       "    </tr>\n",
       "  </thead>\n",
       "  <tbody>\n",
       "    <tr>\n",
       "      <th>0</th>\n",
       "      <td>63f41ca5d2bfb6cfc297a6f0</td>\n",
       "      <td>2023-02-21 01:21:41.055</td>\n",
       "      <td>Navigating</td>\n",
       "      <td>Site Two Alpha</td>\n",
       "    </tr>\n",
       "    <tr>\n",
       "      <th>1</th>\n",
       "      <td>63f41cacd2bfb6cfc297a6f1</td>\n",
       "      <td>2023-02-21 01:21:48.775</td>\n",
       "      <td>Extraction</td>\n",
       "      <td></td>\n",
       "    </tr>\n",
       "    <tr>\n",
       "      <th>2</th>\n",
       "      <td>63f41dfcd2bfb6cfc297a6f2</td>\n",
       "      <td>2023-02-21 01:27:24.965</td>\n",
       "      <td>Extraction</td>\n",
       "      <td></td>\n",
       "    </tr>\n",
       "  </tbody>\n",
       "</table>\n",
       "</div>"
      ],
      "text/plain": [
       "                        _id                datetime      action  \\\n",
       "0  63f41ca5d2bfb6cfc297a6f0 2023-02-21 01:21:41.055  Navigating   \n",
       "1  63f41cacd2bfb6cfc297a6f1 2023-02-21 01:21:48.775  Extraction   \n",
       "2  63f41dfcd2bfb6cfc297a6f2 2023-02-21 01:27:24.965  Extraction   \n",
       "\n",
       "          context  \n",
       "0  Site Two Alpha  \n",
       "1                  \n",
       "2                  "
      ]
     },
     "execution_count": 21,
     "metadata": {},
     "output_type": "execute_result"
    }
   ],
   "source": [
    "pd.DataFrame(records)"
   ]
  },
  {
   "cell_type": "code",
   "execution_count": null,
   "id": "14ccdcbc-47e3-47de-8858-1faa597658cd",
   "metadata": {},
   "outputs": [],
   "source": []
  }
 ],
 "metadata": {
  "kernelspec": {
   "display_name": "Python 3 (ipykernel)",
   "language": "python",
   "name": "python3"
  },
  "language_info": {
   "codemirror_mode": {
    "name": "ipython",
    "version": 3
   },
   "file_extension": ".py",
   "mimetype": "text/x-python",
   "name": "python",
   "nbconvert_exporter": "python",
   "pygments_lexer": "ipython3",
   "version": "3.10.9"
  }
 },
 "nbformat": 4,
 "nbformat_minor": 5
}
