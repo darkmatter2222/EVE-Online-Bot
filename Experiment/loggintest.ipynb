{
 "cells": [
  {
   "cell_type": "code",
   "execution_count": 1,
   "id": "491ca885-6db1-4c2a-958f-65ea7a0256f8",
   "metadata": {},
   "outputs": [],
   "source": [
    "import sys, os\n",
    "\n",
    "sys.path.append(os.path.realpath('..'))\n",
    "from MiningBot.AuditHistory.History import History\n",
    "import json\n",
    "import socket"
   ]
  },
  {
   "cell_type": "code",
   "execution_count": 2,
   "id": "cf92d7b5-5985-4938-b62d-6c772601951a",
   "metadata": {},
   "outputs": [],
   "source": [
    "config_dir = r'../MiningBot/Configs/configs.json'\n",
    "config = json.load(open(config_dir))[socket.gethostname()]"
   ]
  },
  {
   "cell_type": "code",
   "execution_count": 3,
   "id": "44722b25-e5fb-44f6-aa51-f92fe9323f8a",
   "metadata": {},
   "outputs": [],
   "source": [
    "log = History(config_dir=config_dir)"
   ]
  },
  {
   "cell_type": "code",
   "execution_count": 4,
   "id": "d28c5786-2c89-4d62-92b6-9b2e0aaac1a9",
   "metadata": {},
   "outputs": [],
   "source": [
    "log.log_navigate('test')"
   ]
  },
  {
   "cell_type": "code",
   "execution_count": null,
   "id": "588f5115-7ad2-4cae-9285-1159ff4c0021",
   "metadata": {},
   "outputs": [],
   "source": []
  }
 ],
 "metadata": {
  "kernelspec": {
   "display_name": "Python 3 (ipykernel)",
   "language": "python",
   "name": "python3"
  },
  "language_info": {
   "codemirror_mode": {
    "name": "ipython",
    "version": 3
   },
   "file_extension": ".py",
   "mimetype": "text/x-python",
   "name": "python",
   "nbconvert_exporter": "python",
   "pygments_lexer": "ipython3",
   "version": "3.10.9"
  }
 },
 "nbformat": 4,
 "nbformat_minor": 5
}
