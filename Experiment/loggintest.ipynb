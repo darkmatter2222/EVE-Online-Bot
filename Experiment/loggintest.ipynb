{
 "cells": [
  {
   "cell_type": "code",
   "execution_count": 1,
   "id": "491ca885-6db1-4c2a-958f-65ea7a0256f8",
   "metadata": {},
   "outputs": [],
   "source": [
    "import sys, os\n",
    "import pandas as pd\n",
    "sys.path.append(os.path.realpath('..'))\n",
    "from MiningBot.AuditHistory.History import History\n",
    "import json\n",
    "import socket\n",
    "from datetime import datetime, timedelta"
   ]
  },
  {
   "cell_type": "code",
   "execution_count": 2,
   "id": "b2ac2526-7b50-4f68-80ef-a99029b61093",
   "metadata": {},
   "outputs": [],
   "source": [
    "import seaborn as sns\n",
    "import matplotlib.pyplot as plt\n",
    "from matplotlib.colors import hex2color\n",
    "import matplotlib.colors as mc\n",
    "import mplcyberpunk\n",
    "plt.style.use(\"cyberpunk\")\n",
    "plt.rcParams['figure.facecolor'] = '#0d1117'\n",
    "plt.rcParams['axes.facecolor'] = '#0d1117'\n",
    "plt.rcParams['savefig.facecolor'] = '#0d1117'"
   ]
  },
  {
   "cell_type": "code",
   "execution_count": 3,
   "id": "cf92d7b5-5985-4938-b62d-6c772601951a",
   "metadata": {},
   "outputs": [],
   "source": [
    "config_dir = r'../MiningBot/Configs/configs.json'\n",
    "config = json.load(open(config_dir))[socket.gethostname()]"
   ]
  },
  {
   "cell_type": "code",
   "execution_count": 4,
   "id": "44722b25-e5fb-44f6-aa51-f92fe9323f8a",
   "metadata": {},
   "outputs": [],
   "source": [
    "log = History(config_dir=config_dir)"
   ]
  },
  {
   "cell_type": "code",
   "execution_count": 5,
   "id": "d28c5786-2c89-4d62-92b6-9b2e0aaac1a9",
   "metadata": {},
   "outputs": [],
   "source": [
    "records = log.get_all()"
   ]
  },
  {
   "cell_type": "code",
   "execution_count": 6,
   "id": "588f5115-7ad2-4cae-9285-1159ff4c0021",
   "metadata": {},
   "outputs": [
    {
     "data": {
      "text/html": [
       "<div>\n",
       "<style scoped>\n",
       "    .dataframe tbody tr th:only-of-type {\n",
       "        vertical-align: middle;\n",
       "    }\n",
       "\n",
       "    .dataframe tbody tr th {\n",
       "        vertical-align: top;\n",
       "    }\n",
       "\n",
       "    .dataframe thead th {\n",
       "        text-align: right;\n",
       "    }\n",
       "</style>\n",
       "<table border=\"1\" class=\"dataframe\">\n",
       "  <thead>\n",
       "    <tr style=\"text-align: right;\">\n",
       "      <th></th>\n",
       "      <th>_id</th>\n",
       "      <th>datetime</th>\n",
       "      <th>action</th>\n",
       "      <th>context</th>\n",
       "      <th>timedelta</th>\n",
       "    </tr>\n",
       "  </thead>\n",
       "  <tbody>\n",
       "    <tr>\n",
       "      <th>685</th>\n",
       "      <td>63f6ab42dee95f36d2d98366</td>\n",
       "      <td>2023-02-22 23:54:42.255</td>\n",
       "      <td>Extraction</td>\n",
       "      <td></td>\n",
       "      <td>0.000000</td>\n",
       "    </tr>\n",
       "    <tr>\n",
       "      <th>684</th>\n",
       "      <td>63f6ab3adee95f36d2d98365</td>\n",
       "      <td>2023-02-22 23:54:34.779</td>\n",
       "      <td>Navigating</td>\n",
       "      <td>Site Three Alpha</td>\n",
       "      <td>1439.866667</td>\n",
       "    </tr>\n",
       "    <tr>\n",
       "      <th>683</th>\n",
       "      <td>63f6aaf6dee95f36d2d98364</td>\n",
       "      <td>2023-02-22 23:53:26.309</td>\n",
       "      <td>Navigating</td>\n",
       "      <td>Site One Alpha</td>\n",
       "      <td>1438.850000</td>\n",
       "    </tr>\n",
       "    <tr>\n",
       "      <th>682</th>\n",
       "      <td>63f6aab1dee95f36d2d98363</td>\n",
       "      <td>2023-02-22 23:52:17.849</td>\n",
       "      <td>Navigating</td>\n",
       "      <td>Site Two Alpha</td>\n",
       "      <td>1438.850000</td>\n",
       "    </tr>\n",
       "    <tr>\n",
       "      <th>681</th>\n",
       "      <td>63f6aa35dee95f36d2d98362</td>\n",
       "      <td>2023-02-22 23:50:13.819</td>\n",
       "      <td>Unload</td>\n",
       "      <td></td>\n",
       "      <td>1437.916667</td>\n",
       "    </tr>\n",
       "    <tr>\n",
       "      <th>...</th>\n",
       "      <td>...</td>\n",
       "      <td>...</td>\n",
       "      <td>...</td>\n",
       "      <td>...</td>\n",
       "      <td>...</td>\n",
       "    </tr>\n",
       "    <tr>\n",
       "      <th>4</th>\n",
       "      <td>63f42151d2bfb6cfc297a6f4</td>\n",
       "      <td>2023-02-21 01:41:37.885</td>\n",
       "      <td>Extraction</td>\n",
       "      <td></td>\n",
       "      <td>1431.383333</td>\n",
       "    </tr>\n",
       "    <tr>\n",
       "      <th>3</th>\n",
       "      <td>63f41f4dd2bfb6cfc297a6f3</td>\n",
       "      <td>2023-02-21 01:33:01.297</td>\n",
       "      <td>Extraction</td>\n",
       "      <td></td>\n",
       "      <td>1431.383333</td>\n",
       "    </tr>\n",
       "    <tr>\n",
       "      <th>2</th>\n",
       "      <td>63f41dfcd2bfb6cfc297a6f2</td>\n",
       "      <td>2023-02-21 01:27:24.965</td>\n",
       "      <td>Extraction</td>\n",
       "      <td></td>\n",
       "      <td>1434.383333</td>\n",
       "    </tr>\n",
       "    <tr>\n",
       "      <th>1</th>\n",
       "      <td>63f41cacd2bfb6cfc297a6f1</td>\n",
       "      <td>2023-02-21 01:21:48.775</td>\n",
       "      <td>Extraction</td>\n",
       "      <td></td>\n",
       "      <td>1434.383333</td>\n",
       "    </tr>\n",
       "    <tr>\n",
       "      <th>0</th>\n",
       "      <td>63f41ca5d2bfb6cfc297a6f0</td>\n",
       "      <td>2023-02-21 01:21:41.055</td>\n",
       "      <td>Navigating</td>\n",
       "      <td>Site Two Alpha</td>\n",
       "      <td>1439.866667</td>\n",
       "    </tr>\n",
       "  </tbody>\n",
       "</table>\n",
       "<p>686 rows × 5 columns</p>\n",
       "</div>"
      ],
      "text/plain": [
       "                          _id                datetime      action  \\\n",
       "685  63f6ab42dee95f36d2d98366 2023-02-22 23:54:42.255  Extraction   \n",
       "684  63f6ab3adee95f36d2d98365 2023-02-22 23:54:34.779  Navigating   \n",
       "683  63f6aaf6dee95f36d2d98364 2023-02-22 23:53:26.309  Navigating   \n",
       "682  63f6aab1dee95f36d2d98363 2023-02-22 23:52:17.849  Navigating   \n",
       "681  63f6aa35dee95f36d2d98362 2023-02-22 23:50:13.819      Unload   \n",
       "..                        ...                     ...         ...   \n",
       "4    63f42151d2bfb6cfc297a6f4 2023-02-21 01:41:37.885  Extraction   \n",
       "3    63f41f4dd2bfb6cfc297a6f3 2023-02-21 01:33:01.297  Extraction   \n",
       "2    63f41dfcd2bfb6cfc297a6f2 2023-02-21 01:27:24.965  Extraction   \n",
       "1    63f41cacd2bfb6cfc297a6f1 2023-02-21 01:21:48.775  Extraction   \n",
       "0    63f41ca5d2bfb6cfc297a6f0 2023-02-21 01:21:41.055  Navigating   \n",
       "\n",
       "              context    timedelta  \n",
       "685                       0.000000  \n",
       "684  Site Three Alpha  1439.866667  \n",
       "683    Site One Alpha  1438.850000  \n",
       "682    Site Two Alpha  1438.850000  \n",
       "681                    1437.916667  \n",
       "..                ...          ...  \n",
       "4                      1431.383333  \n",
       "3                      1431.383333  \n",
       "2                      1434.383333  \n",
       "1                      1434.383333  \n",
       "0      Site Two Alpha  1439.866667  \n",
       "\n",
       "[686 rows x 5 columns]"
      ]
     },
     "execution_count": 6,
     "metadata": {},
     "output_type": "execute_result"
    }
   ],
   "source": [
    "df = pd.DataFrame(records)\n",
    "df = df.sort_values(by='datetime', ascending=False)\n",
    "df['datetime'] = pd.to_datetime(df['datetime'])\n",
    "df['timedelta'] = df['datetime'].diff().dt.seconds.div(60, fill_value=0)\n",
    "df"
   ]
  },
  {
   "cell_type": "code",
   "execution_count": 7,
   "id": "8e2efdfc-8dd4-42aa-940f-6b7238932f8d",
   "metadata": {},
   "outputs": [
    {
     "data": {
      "image/png": "[encoded data removed]",
      "text/plain": [
       "<Figure size 800x400 with 1 Axes>"
      ]
     },
     "metadata": {},
     "output_type": "display_data"
    }
   ],
   "source": [
    "histplot_hyperparams = {\n",
    "    'kde':True,\n",
    "    'alpha':0.5,\n",
    "    #'stat':'percent',\n",
    "    'bins':50\n",
    "}\n",
    "\n",
    "\n",
    "n_cols = 1\n",
    "n_rows = 1\n",
    "cell_with_dim = 8\n",
    "cell_height_dim = 4\n",
    "\n",
    "fig, ax = plt.subplots(n_rows, n_cols, figsize=(n_cols * cell_with_dim, n_rows * cell_height_dim))\n",
    "plt.title('Distribution of Ore Extraction Frequiency')\n",
    "sns.histplot(df[df['action']=='Extraction']['datetime'], label='Train X', color='#08F7FE', ax=ax, **histplot_hyperparams)\n",
    "plt.xticks(rotation=45, ha='right')\n",
    "mplcyberpunk.make_lines_glow(ax)"
   ]
  },
  {
   "cell_type": "code",
   "execution_count": null,
   "id": "319bc5af-9692-4b68-8924-c7c4cee87221",
   "metadata": {},
   "outputs": [],
   "source": []
  }
 ],
 "metadata": {
  "kernelspec": {
   "display_name": "Python 3 (ipykernel)",
   "language": "python",
   "name": "python3"
  },
  "language_info": {
   "codemirror_mode": {
    "name": "ipython",
    "version": 3
   },
   "file_extension": ".py",
   "mimetype": "text/x-python",
   "name": "python",
   "nbconvert_exporter": "python",
   "pygments_lexer": "ipython3",
   "version": "3.10.9"
  }
 },
 "nbformat": 4,
 "nbformat_minor": 5
}
