{
 "cells": [
  {
   "cell_type": "markdown",
   "id": "3abe77b4-fce0-4845-a032-0bb5b78bf4d9",
   "metadata": {},
   "source": [
    "D:\\EVE\\Launcher\\evelauncher.exe\n",
    "\n"
   ]
  },
  {
   "cell_type": "code",
   "execution_count": 1,
   "id": "3ef3cb70-9c02-4468-bb00-28362fc69ca6",
   "metadata": {},
   "outputs": [],
   "source": [
    "import subprocess, os, signal\n",
    "import pyautogui"
   ]
  },
  {
   "cell_type": "code",
   "execution_count": 2,
   "id": "bf497763-d37d-4753-98dc-c07945b710b4",
   "metadata": {},
   "outputs": [],
   "source": [
    "import sys, os, decimal, json\n",
    "sys.path.append(os.path.realpath('..'))\n",
    "import json, time\n",
    "import pyautogui\n",
    "import socket\n",
    "\n",
    "import wmi"
   ]
  },
  {
   "cell_type": "code",
   "execution_count": 3,
   "id": "01db1d77-fa4c-43ac-94d7-7d325fb607a4",
   "metadata": {},
   "outputs": [],
   "source": [
    "config_dir = r'../MiningBot/Configs/configs.json'\n",
    "config = json.load(open(config_dir))[socket.gethostname()]"
   ]
  },
  {
   "cell_type": "code",
   "execution_count": 4,
   "id": "6b654312-4236-491b-ae8e-1a18d673528e",
   "metadata": {},
   "outputs": [],
   "source": [
    "def get_processed_cords(x, y):\n",
    "    return x + config['monitor_offset_x'], y + config['monitor_offset_y']"
   ]
  },
  {
   "cell_type": "code",
   "execution_count": 5,
   "id": "1d82ff4c-44bf-4da5-89a3-96aef7e9400a",
   "metadata": {},
   "outputs": [
    {
     "ename": "KeyboardInterrupt",
     "evalue": "",
     "output_type": "error",
     "traceback": [
      "\u001b[1;31m---------------------------------------------------------------------------\u001b[0m",
      "\u001b[1;31mKeyboardInterrupt\u001b[0m                         Traceback (most recent call last)",
      "Cell \u001b[1;32mIn[5], line 1\u001b[0m\n\u001b[1;32m----> 1\u001b[0m \u001b[43mos\u001b[49m\u001b[38;5;241;43m.\u001b[39;49m\u001b[43msystem\u001b[49m\u001b[43m(\u001b[49m\u001b[38;5;124;43mr\u001b[39;49m\u001b[38;5;124;43m'\u001b[39;49m\u001b[38;5;124;43mD:\u001b[39;49m\u001b[38;5;124;43m\\\u001b[39;49m\u001b[38;5;124;43mEVE\u001b[39;49m\u001b[38;5;124;43m\\\u001b[39;49m\u001b[38;5;124;43mLauncher\u001b[39;49m\u001b[38;5;124;43m\\\u001b[39;49m\u001b[38;5;124;43mevelauncher.exe\u001b[39;49m\u001b[38;5;124;43m'\u001b[39;49m\u001b[43m)\u001b[49m\n",
      "\u001b[1;31mKeyboardInterrupt\u001b[0m: "
     ]
    }
   ],
   "source": [
    "os.system(r'D:\\EVE\\Launcher\\evelauncher.exe')"
   ]
  },
  {
   "cell_type": "code",
   "execution_count": 5,
   "id": "c1db0d7f-00dd-4e58-aeca-c43f0a1060c9",
   "metadata": {},
   "outputs": [],
   "source": [
    "os.startfile(r'D:\\EVE\\Launcher\\evelauncher.exe')"
   ]
  },
  {
   "cell_type": "code",
   "execution_count": null,
   "id": "4dc44660-9ec7-4c3d-9e23-1c7df5f8876b",
   "metadata": {},
   "outputs": [],
   "source": [
    "#process = subprocess.Popen(r'D:\\EVE\\Launcher\\evelauncher.exe', start_new_session=True)\n",
    "#process = subprocess.Popen(r'D:\\EVE\\Launcher\\evelauncher.exe', shell=False)\n",
    "time.sleep(30)\n",
    "pyautogui.moveTo(get_processed_cords(467,694))\n",
    "time.sleep(0.1)\n",
    "pyautogui.click(button='left')\n",
    "time.sleep(30)\n",
    "pyautogui.moveTo(get_processed_cords(611,364))\n",
    "time.sleep(0.1)\n",
    "pyautogui.click(button='left')\n",
    "time.sleep(60)"
   ]
  },
  {
   "cell_type": "code",
   "execution_count": null,
   "id": "19feb7bc-127d-444f-aa2a-7fb23eaf35b3",
   "metadata": {},
   "outputs": [],
   "source": []
  },
  {
   "cell_type": "code",
   "execution_count": 6,
   "id": "66845780-712c-4b32-a5f8-3d16928d8e10",
   "metadata": {},
   "outputs": [],
   "source": [
    "os.kill(process.pid, signal.SIGTERM)"
   ]
  },
  {
   "cell_type": "code",
   "execution_count": 7,
   "id": "afa9be01-445b-4fda-88ca-0e4fe6ba5e53",
   "metadata": {},
   "outputs": [],
   "source": [
    "f = wmi.WMI()"
   ]
  },
  {
   "cell_type": "code",
   "execution_count": 8,
   "id": "49fd14ac-6194-43ad-9690-89e2c1b32271",
   "metadata": {},
   "outputs": [],
   "source": [
    "eve_game_proc_id = None\n",
    "for p in f.Win32_Process():\n",
    "    if p.Name == 'exefile.exe':\n",
    "        eve_game_proc_id = p.ProcessId\n",
    "        break\n"
   ]
  },
  {
   "cell_type": "code",
   "execution_count": 9,
   "id": "76e7adc5-afa1-4bfb-8fed-2aee3582f534",
   "metadata": {},
   "outputs": [],
   "source": [
    "os.kill(eve_game_proc_id, signal.SIGTERM)"
   ]
  },
  {
   "cell_type": "code",
   "execution_count": null,
   "id": "4a4c264c-91f5-485c-93de-982313efe389",
   "metadata": {},
   "outputs": [],
   "source": []
  },
  {
   "cell_type": "code",
   "execution_count": null,
   "id": "631ec6f8-fe22-480d-b67b-159dfdcb9036",
   "metadata": {},
   "outputs": [],
   "source": []
  },
  {
   "cell_type": "code",
   "execution_count": null,
   "id": "078f7817-5bc8-4d9a-b8fd-1436dcefc191",
   "metadata": {},
   "outputs": [],
   "source": []
  },
  {
   "cell_type": "code",
   "execution_count": null,
   "id": "d519885d-03ba-4f9a-9f3d-086c9d79de89",
   "metadata": {},
   "outputs": [],
   "source": []
  }
 ],
 "metadata": {
  "kernelspec": {
   "display_name": "Python 3 (ipykernel)",
   "language": "python",
   "name": "python3"
  },
  "language_info": {
   "codemirror_mode": {
    "name": "ipython",
    "version": 3
   },
   "file_extension": ".py",
   "mimetype": "text/x-python",
   "name": "python",
   "nbconvert_exporter": "python",
   "pygments_lexer": "ipython3",
   "version": "3.10.9"
  }
 },
 "nbformat": 4,
 "nbformat_minor": 5
}
