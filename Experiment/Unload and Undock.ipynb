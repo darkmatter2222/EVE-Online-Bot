{
 "cells": [
  {
   "cell_type": "code",
   "execution_count": 1,
   "id": "1e8ec21c-5639-49ff-bc57-c4b4c961b7c3",
   "metadata": {},
   "outputs": [],
   "source": [
    "import numpy as np\n",
    "import ctypes\n",
    "import pyautogui\n",
    "\n",
    "from PIL import Image, ImageDraw\n",
    "import decimal\n",
    "\n",
    "from pytesseract import pytesseract\n",
    "import pandas as pd\n",
    "from tqdm import tqdm\n",
    "import time\n",
    "import mss\n",
    "import mss.tools\n",
    "from screeninfo import get_monitors"
   ]
  },
  {
   "cell_type": "code",
   "execution_count": 2,
   "id": "79434a73-df06-4f71-9bba-12c1b98d16ad",
   "metadata": {},
   "outputs": [],
   "source": [
    "monitor_x_offset = 1920\n",
    "monitor_y_offset = -7"
   ]
  },
  {
   "cell_type": "code",
   "execution_count": 3,
   "id": "5a231c98-087f-4002-98d9-bdb785470d7b",
   "metadata": {},
   "outputs": [],
   "source": [
    "pyautogui.moveTo(300 - monitor_x_offset, 626 - monitor_y_offset)\n",
    "time.sleep(0.1)\n",
    "pyautogui.dragTo(790 - monitor_x_offset, 913 - monitor_y_offset, 1,  button='left')\n",
    "time.sleep(0.1)\n",
    "pyautogui.moveTo(336 - monitor_x_offset, 672 - monitor_y_offset)\n",
    "time.sleep(0.1)\n",
    "pyautogui.dragTo(182 - monitor_x_offset, 811 - monitor_y_offset, 1,  button='left')\n",
    "time.sleep(0.1)\n",
    "pyautogui.moveTo(1757 - monitor_x_offset, 378 - monitor_y_offset)\n",
    "time.sleep(0.1)\n",
    "pyautogui.click(button='left')"
   ]
  }
 ],
 "metadata": {
  "kernelspec": {
   "display_name": "Python 3 (ipykernel)",
   "language": "python",
   "name": "python3"
  },
  "language_info": {
   "codemirror_mode": {
    "name": "ipython",
    "version": 3
   },
   "file_extension": ".py",
   "mimetype": "text/x-python",
   "name": "python",
   "nbconvert_exporter": "python",
   "pygments_lexer": "ipython3",
   "version": "3.10.9"
  }
 },
 "nbformat": 4,
 "nbformat_minor": 5
}
