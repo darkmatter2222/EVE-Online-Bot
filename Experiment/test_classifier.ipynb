{
 "cells": [
  {
   "cell_type": "code",
   "execution_count": 1,
   "id": "4022935a-2eb9-439c-a2ad-055095a92283",
   "metadata": {},
   "outputs": [],
   "source": [
    "import sys, os, decimal, json\n",
    "sys.path.append(os.path.realpath('..'))\n",
    "import json, time\n",
    "import pyautogui\n",
    "import socket\n",
    "from MiningBot.ScreenStateClassifier.ScreenState import ScreenClassifier"
   ]
  },
  {
   "cell_type": "code",
   "execution_count": 2,
   "id": "82c667c6-1d86-412d-bf02-f40cb4cfd200",
   "metadata": {},
   "outputs": [],
   "source": [
    "config_dir = r'../MiningBot/Configs/configs.json'\n",
    "config = json.load(open(config_dir))[socket.gethostname()]\n",
    "clsf = ScreenClassifier(config_dir=config_dir)"
   ]
  },
  {
   "cell_type": "code",
   "execution_count": 5,
   "id": "b8d42cfc-8ea0-4f15-8046-3ef092a6a01b",
   "metadata": {},
   "outputs": [
    {
     "name": "stdout",
     "output_type": "stream",
     "text": [
      "1/1 [==============================] - 0s 14ms/step\n"
     ]
    },
    {
     "data": {
      "text/plain": [
       "'in_hanger'"
      ]
     },
     "execution_count": 5,
     "metadata": {},
     "output_type": "execute_result"
    }
   ],
   "source": [
    "clsf.get_screen_class()"
   ]
  },
  {
   "cell_type": "code",
   "execution_count": null,
   "id": "339ec3d4-6121-46ec-9617-dfe06d579528",
   "metadata": {},
   "outputs": [],
   "source": []
  }
 ],
 "metadata": {
  "kernelspec": {
   "display_name": "Python 3 (ipykernel)",
   "language": "python",
   "name": "python3"
  },
  "language_info": {
   "codemirror_mode": {
    "name": "ipython",
    "version": 3
   },
   "file_extension": ".py",
   "mimetype": "text/x-python",
   "name": "python",
   "nbconvert_exporter": "python",
   "pygments_lexer": "ipython3",
   "version": "3.10.9"
  }
 },
 "nbformat": 4,
 "nbformat_minor": 5
}
