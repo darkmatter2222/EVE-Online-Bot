{
 "cells": [
  {
   "cell_type": "code",
   "execution_count": 186,
   "id": "1042f5be-f2ea-4c7d-8496-38736c032be7",
   "metadata": {},
   "outputs": [],
   "source": [
    "import numpy as np\n",
    "import ctypes\n",
    "import pyautogui\n",
    "\n",
    "from PIL import Image, ImageDraw\n",
    "import decimal\n",
    "\n",
    "from pytesseract import pytesseract\n",
    "import pandas as pd\n",
    "from tqdm import tqdm\n",
    "import time\n",
    "import mss\n",
    "import mss.tools\n",
    "from screeninfo import get_monitors"
   ]
  },
  {
   "cell_type": "code",
   "execution_count": 187,
   "id": "bc5bbb57-965c-4143-9050-044c338d3a68",
   "metadata": {},
   "outputs": [],
   "source": [
    "def get_screen():\n",
    "    img = None\n",
    "    with mss.mss() as sct:\n",
    "        # Get information of monitor 2\n",
    "        monitor_number = 2\n",
    "        mon = sct.monitors[monitor_number]\n",
    "\n",
    "        # The screen part to capture\n",
    "        monitor = {\n",
    "            \"top\": mon[\"top\"],\n",
    "            \"left\": mon[\"left\"],\n",
    "            \"width\": mon[\"width\"],\n",
    "            \"height\": mon[\"height\"],\n",
    "            \"mon\": monitor_number,\n",
    "        }\n",
    "        output = \"sct-mon{mon}_{top}x{left}_{width}x{height}.png\".format(**monitor)\n",
    "\n",
    "        # Grab the data\n",
    "        img = np.array(sct.grab(monitor))\n",
    "        img = Image.fromarray(img)\n",
    "        return img\n",
    "\n",
    "def drange(x, y, jump):\n",
    "    while x < y:\n",
    "        yield float(x)\n",
    "        x += decimal.Decimal(jump)\n",
    "        \n",
    "def cell_dims(x1, y1, x2, y2):\n",
    "    return x1, y1, x2 - x1, y2 - y1\n",
    "\n",
    "def cell_dims_from_list(list_onbj):\n",
    "    return cell_dims(list_onbj[0], list_onbj[1], list_onbj[2], list_onbj[3])\n",
    "\n",
    "def get_survey_scan_results_box():\n",
    "    return [863, 135, 1326, 460] #x,y Top Left ,x,y Bottom Right\n",
    "\n",
    "def get_row_points():\n",
    "    num_of_scanned_rows = 13\n",
    "    space = (get_survey_scan_results_box()[3] - get_survey_scan_results_box()[1]) / num_of_scanned_rows\n",
    "    row_points= list(drange(get_survey_scan_results_box()[1], get_survey_scan_results_box()[3], f'{space}'))\n",
    "    final_row_points = list(np.rint(np.asarray(row_points)).astype(int))\n",
    "    return final_row_points\n",
    "\n",
    "def get_col_points():\n",
    "    col_delta = get_survey_scan_results_box()[2] - get_survey_scan_results_box()[0]\n",
    "    cols_points =  [1]\n",
    "    temp_list = []\n",
    "    for i in range(len(cols_points)):\n",
    "        this_int = get_survey_scan_results_box()[0]\n",
    "        for j in range(i + 1):\n",
    "            this_int += cols_points[j]\n",
    "        temp_list.append(this_int)\n",
    "\n",
    "    final_col_points = np.array(temp_list)\n",
    "    final_col_points = list(np.rint(final_col_points).astype(int))\n",
    "    final_col_points = [get_survey_scan_results_box()[0]] + final_col_points + [get_survey_scan_results_box()[2]]\n",
    "    return final_col_points\n",
    "\n",
    "def get_cells(x_range, y_range):\n",
    "    cells = {}\n",
    "    for i, x in enumerate(x_range):\n",
    "        for j, y in enumerate(y_range):\n",
    "            try:\n",
    "                cells[i, j] = tuple([x, y, x + x_range[i+1], y + y_range[j+1]])\n",
    "            except:\n",
    "                pass\n",
    "    return cells\n",
    "\n",
    "def render_outline(img, x_range, y_range):\n",
    "    img_copy = img.copy()\n",
    "    img = ImageDraw.Draw(img_copy)  \n",
    "\n",
    "    # box\n",
    "    img.line([get_survey_scan_results_box()[0], get_survey_scan_results_box()[1], get_survey_scan_results_box()[0], get_survey_scan_results_box()[3]], fill =\"red\", width = 5)\n",
    "    img.line([get_survey_scan_results_box()[0], get_survey_scan_results_box()[3], get_survey_scan_results_box()[2], get_survey_scan_results_box()[3]], fill =\"red\", width = 5)\n",
    "    img.line([get_survey_scan_results_box()[2], get_survey_scan_results_box()[3], get_survey_scan_results_box()[2], get_survey_scan_results_box()[1]], fill =\"red\", width = 5)\n",
    "    img.line([get_survey_scan_results_box()[2], get_survey_scan_results_box()[1], get_survey_scan_results_box()[0], get_survey_scan_results_box()[1]], fill =\"red\", width = 5)\n",
    "    # rows\n",
    "    for i in y_range:\n",
    "        img.line([get_survey_scan_results_box()[0], i, get_survey_scan_results_box()[2], i], fill=\"#ff6600\", width=1)\n",
    "    # cols\n",
    "    for i in x_range:\n",
    "        img.line([i, get_survey_scan_results_box()[1], i, get_survey_scan_results_box()[3]], fill=\"#ff6600\", width=1)  \n",
    "    return img_copy\n",
    "\n",
    "def extract_values(img, cells, x_range, y_range):\n",
    "    monitor_x_offset = 1920\n",
    "    monitor_y_offset = -7\n",
    "    frames = []\n",
    "    columns = ['Name', 'click_target']\n",
    "    for i in tqdm(range(len(y_range)-1)):\n",
    "        frame = {}\n",
    "        for j in range(0, len(x_range) - 1):\n",
    "            cell = cell_dims_from_list(list(cells[j, i]))\n",
    "            cell_image = img.crop(cell)\n",
    "\n",
    "            transcript = pytesseract.image_to_string(cell_image, lang='eng')\n",
    "\n",
    "            frame[columns[j]] = transcript.replace('\\n','').replace('+','').replace('>','').replace('k m', ' km').replace(',','')\n",
    "        frame['click_target'] = (cells[0, i][0] + 10 - monitor_x_offset, cells[0, i][1] + 10 - monitor_y_offset) # offset by 10x10 pixels\n",
    "        frames.append(frame)\n",
    "    df = pd.DataFrame(frames, columns=columns)\n",
    "    return df\n",
    "\n",
    "def convert_to_baw(img):\n",
    "    thresh = 140\n",
    "    fn = lambda x : 255 if x > thresh else 0\n",
    "    img = img.convert('L').point(fn, mode='1')\n",
    "    return img"
   ]
  },
  {
   "cell_type": "code",
   "execution_count": 188,
   "id": "71051eca-1536-4fde-9ced-90b4bd574fa1",
   "metadata": {},
   "outputs": [
    {
     "data": {
      "image/png": "[encoded data removed]",
      "text/plain": [
       "<PIL.Image.Image image mode=1 size=463x325>"
      ]
     },
     "execution_count": 188,
     "metadata": {},
     "output_type": "execute_result"
    }
   ],
   "source": [
    "full_screen_image = get_screen()\n",
    "convert_to_baw(full_screen_image.crop(get_survey_scan_results_box()))"
   ]
  },
  {
   "cell_type": "code",
   "execution_count": 189,
   "id": "7221f18b-dd72-42d3-a4a9-6f196d64107c",
   "metadata": {},
   "outputs": [
    {
     "data": {
      "image/png": "[encoded data removed]",
      "text/plain": [
       "<PIL.Image.Image image mode=RGBA size=463x325>"
      ]
     },
     "execution_count": 189,
     "metadata": {},
     "output_type": "execute_result"
    }
   ],
   "source": [
    "x_range = get_col_points()\n",
    "y_range = get_row_points()\n",
    "\n",
    "cells = get_cells(x_range[1:3], y_range)\n",
    "\n",
    "img = render_outline(full_screen_image, x_range[1:3], y_range)\n",
    "img.crop(get_survey_scan_results_box())"
   ]
  },
  {
   "cell_type": "code",
   "execution_count": 190,
   "id": "2308cd58-68fb-415a-bd83-947f40728912",
   "metadata": {},
   "outputs": [
    {
     "data": {
      "text/plain": [
       "[864, 1326]"
      ]
     },
     "execution_count": 190,
     "metadata": {},
     "output_type": "execute_result"
    }
   ],
   "source": [
    "x_range[1:3]"
   ]
  },
  {
   "cell_type": "code",
   "execution_count": 191,
   "id": "0fae7c18-de7b-4d8b-bb50-9b3abedaa42e",
   "metadata": {},
   "outputs": [
    {
     "data": {
      "text/plain": [
       "{(0, 0): (864, 135, 2190, 295),\n",
       " (0, 1): (864, 160, 2190, 345),\n",
       " (0, 2): (864, 185, 2190, 395),\n",
       " (0, 3): (864, 210, 2190, 445),\n",
       " (0, 4): (864, 235, 2190, 495),\n",
       " (0, 5): (864, 260, 2190, 545),\n",
       " (0, 6): (864, 285, 2190, 595),\n",
       " (0, 7): (864, 310, 2190, 645),\n",
       " (0, 8): (864, 335, 2190, 695),\n",
       " (0, 9): (864, 360, 2190, 745),\n",
       " (0, 10): (864, 385, 2190, 795),\n",
       " (0, 11): (864, 410, 2190, 845)}"
      ]
     },
     "execution_count": 191,
     "metadata": {},
     "output_type": "execute_result"
    }
   ],
   "source": [
    "cells"
   ]
  },
  {
   "cell_type": "code",
   "execution_count": 192,
   "id": "45460ade-0309-4423-b8af-1cbccf228e2f",
   "metadata": {},
   "outputs": [
    {
     "name": "stderr",
     "output_type": "stream",
     "text": [
      "100%|██████████████████████████████████████████████████████████████████████████████████| 12/12 [00:01<00:00,  7.91it/s]\n"
     ]
    },
    {
     "data": {
      "text/html": [
       "<div>\n",
       "<style scoped>\n",
       "    .dataframe tbody tr th:only-of-type {\n",
       "        vertical-align: middle;\n",
       "    }\n",
       "\n",
       "    .dataframe tbody tr th {\n",
       "        vertical-align: top;\n",
       "    }\n",
       "\n",
       "    .dataframe thead th {\n",
       "        text-align: right;\n",
       "    }\n",
       "</style>\n",
       "<table border=\"1\" class=\"dataframe\">\n",
       "  <thead>\n",
       "    <tr style=\"text-align: right;\">\n",
       "      <th></th>\n",
       "      <th>Name</th>\n",
       "      <th>click_target</th>\n",
       "    </tr>\n",
       "  </thead>\n",
       "  <tbody>\n",
       "    <tr>\n",
       "      <th>0</th>\n",
       "      <td>Home</td>\n",
       "      <td>(-1046, 152)</td>\n",
       "    </tr>\n",
       "    <tr>\n",
       "      <th>1</th>\n",
       "      <td>POS 1</td>\n",
       "      <td>(-1046, 177)</td>\n",
       "    </tr>\n",
       "    <tr>\n",
       "      <th>2</th>\n",
       "      <td>POS 1</td>\n",
       "      <td>(-1046, 202)</td>\n",
       "    </tr>\n",
       "    <tr>\n",
       "      <th>3</th>\n",
       "      <td>POS 2</td>\n",
       "      <td>(-1046, 227)</td>\n",
       "    </tr>\n",
       "    <tr>\n",
       "      <th>4</th>\n",
       "      <td>POS 2</td>\n",
       "      <td>(-1046, 252)</td>\n",
       "    </tr>\n",
       "    <tr>\n",
       "      <th>5</th>\n",
       "      <td>POS 3</td>\n",
       "      <td>(-1046, 277)</td>\n",
       "    </tr>\n",
       "    <tr>\n",
       "      <th>6</th>\n",
       "      <td>POS 3</td>\n",
       "      <td>(-1046, 302)</td>\n",
       "    </tr>\n",
       "    <tr>\n",
       "      <th>7</th>\n",
       "      <td>POS 4</td>\n",
       "      <td>(-1046, 327)</td>\n",
       "    </tr>\n",
       "    <tr>\n",
       "      <th>8</th>\n",
       "      <td>Site1 P1</td>\n",
       "      <td>(-1046, 352)</td>\n",
       "    </tr>\n",
       "    <tr>\n",
       "      <th>9</th>\n",
       "      <td>Site1 P2</td>\n",
       "      <td>(-1046, 377)</td>\n",
       "    </tr>\n",
       "    <tr>\n",
       "      <th>10</th>\n",
       "      <td>Site1 P3</td>\n",
       "      <td>(-1046, 402)</td>\n",
       "    </tr>\n",
       "    <tr>\n",
       "      <th>11</th>\n",
       "      <td>Site1 P4</td>\n",
       "      <td>(-1046, 427)</td>\n",
       "    </tr>\n",
       "  </tbody>\n",
       "</table>\n",
       "</div>"
      ],
      "text/plain": [
       "        Name  click_target\n",
       "0       Home  (-1046, 152)\n",
       "1      POS 1  (-1046, 177)\n",
       "2      POS 1  (-1046, 202)\n",
       "3      POS 2  (-1046, 227)\n",
       "4      POS 2  (-1046, 252)\n",
       "5      POS 3  (-1046, 277)\n",
       "6      POS 3  (-1046, 302)\n",
       "7      POS 4  (-1046, 327)\n",
       "8   Site1 P1  (-1046, 352)\n",
       "9   Site1 P2  (-1046, 377)\n",
       "10  Site1 P3  (-1046, 402)\n",
       "11  Site1 P4  (-1046, 427)"
      ]
     },
     "execution_count": 192,
     "metadata": {},
     "output_type": "execute_result"
    }
   ],
   "source": [
    "df = extract_values(img, cells, x_range[1:3], y_range)\n",
    "df"
   ]
  },
  {
   "cell_type": "code",
   "execution_count": 169,
   "id": "40d2d8b1-d3c1-41f5-89fd-d8f05ce49493",
   "metadata": {},
   "outputs": [],
   "source": [
    "target = 'Home'\n",
    "\n",
    "xy = df.loc[df['Name']==target, 'click_target'].values[0]\n",
    "\n",
    "pyautogui.moveTo(xy)\n",
    "time.sleep(0.1)\n",
    "pyautogui.click(button='right')\n",
    "time.sleep(0.1)\n",
    "pyautogui.moveTo(xy[0] + 50, xy[1] + 25)\n",
    "time.sleep(0.1)\n",
    "pyautogui.click(button='left')\n",
    "time.sleep(0.1)\n",
    "pyautogui.moveTo(0, 0)"
   ]
  },
  {
   "cell_type": "code",
   "execution_count": 185,
   "id": "2272e367-6982-4d07-9f3e-3fc55d2c16bf",
   "metadata": {},
   "outputs": [],
   "source": [
    "target = 'Site1 P1'\n",
    "\n",
    "xy = df.loc[df['Name']==target, 'click_target'].values[0]\n",
    "\n",
    "pyautogui.moveTo(xy)\n",
    "time.sleep(0.1)\n",
    "pyautogui.click(button='right')\n",
    "time.sleep(0.1)\n",
    "pyautogui.moveTo(xy[0] + 50, xy[1] + 25)\n",
    "time.sleep(0.1)\n",
    "pyautogui.click(button='left')\n",
    "time.sleep(0.1)\n",
    "pyautogui.moveTo(0, 0)"
   ]
  },
  {
   "cell_type": "code",
   "execution_count": null,
   "id": "5f725c6a-e284-4bfc-b885-4d31fa6c9390",
   "metadata": {},
   "outputs": [],
   "source": []
  }
 ],
 "metadata": {
  "kernelspec": {
   "display_name": "Python 3 (ipykernel)",
   "language": "python",
   "name": "python3"
  },
  "language_info": {
   "codemirror_mode": {
    "name": "ipython",
    "version": 3
   },
   "file_extension": ".py",
   "mimetype": "text/x-python",
   "name": "python",
   "nbconvert_exporter": "python",
   "pygments_lexer": "ipython3",
   "version": "3.10.9"
  }
 },
 "nbformat": 4,
 "nbformat_minor": 5
}
