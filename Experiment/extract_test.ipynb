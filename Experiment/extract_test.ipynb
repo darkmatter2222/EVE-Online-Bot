{
 "cells": [
  {
   "cell_type": "code",
   "execution_count": 1,
   "id": "a3839a91-97c4-4e47-b7c3-9da79c1d94ae",
   "metadata": {},
   "outputs": [],
   "source": [
    "import sys, os, decimal, json\n",
    "sys.path.append(os.path.realpath('..'))\n",
    "\n",
    "from MiningBot.EveInterface.Interface import Interface\n",
    "import json, time\n",
    "import pyautogui"
   ]
  },
  {
   "cell_type": "code",
   "execution_count": 2,
   "id": "48eaea2b-e81e-42d9-b7b1-0c26d516400e",
   "metadata": {},
   "outputs": [],
   "source": [
    "config_dir = r'../MiningBot/Configs/configs.json'\n",
    "config = json.load(open(config_dir))\n",
    "game = Interface(config_dir=config_dir)"
   ]
  },
  {
   "cell_type": "code",
   "execution_count": 3,
   "id": "1439ed7f-b9db-4de2-b150-3c47af21246f",
   "metadata": {},
   "outputs": [],
   "source": [
    "def get_processed_cords(x, y):\n",
    "    return x + config['monitor_offset_x'], y + config['monitor_offset_y']"
   ]
  },
  {
   "cell_type": "code",
   "execution_count": 4,
   "id": "4e01f7dd-3f58-4628-af84-d84abdb6cb51",
   "metadata": {},
   "outputs": [],
   "source": [
    "# existing station...\n",
    "\n",
    "resource_map = {}\n",
    "\n",
    "def perform_mapping():\n",
    "    global resource_map\n",
    "    targets = ['Site One Alpha', 'Site Two Alpha', 'Site Three Alpha']\n",
    "    df = game.get_location_data(refresh_screen=True)\n",
    "    print(df)\n",
    "    for target in targets:\n",
    "        try:\n",
    "            print(f'Navigating to {target}')\n",
    "            xy = df.loc[df['Name'] == target, 'click_target'].values[0]\n",
    "            pyautogui.moveTo(xy)\n",
    "            time.sleep(0.1)\n",
    "            pyautogui.click(button='right')\n",
    "            time.sleep(0.1)\n",
    "            pyautogui.moveTo(xy[0] + 50, xy[1] + 25)\n",
    "            time.sleep(0.1)\n",
    "            pyautogui.click(button='left')\n",
    "            time.sleep(0.1)\n",
    "            pyautogui.moveTo(1, 1)\n",
    "            time.sleep(60)\n",
    "\n",
    "            print('scanning...')\n",
    "            pyautogui.moveTo(get_processed_cords(config['scanner_button_x'], config['scanner_button_y']))\n",
    "            time.sleep(0.1)\n",
    "            pyautogui.click(button='left')\n",
    "            time.sleep(7)\n",
    "            resource_map[target] = game.get_survey_scan_data(refresh_screen=True, extract_type='bool')\n",
    "            print(f'Data Collected!')\n",
    "        except Exception as e:\n",
    "            print(e)"
   ]
  },
  {
   "cell_type": "code",
   "execution_count": 5,
   "id": "a836150b-a128-4ac7-bc31-5ff1913a5570",
   "metadata": {},
   "outputs": [],
   "source": [
    "mining_sites = ['Site One Alpha', 'Site Two Alpha', 'Site Three Alpha']\n",
    "def find_Mining_spot(keep_finding = True):\n",
    "    location_df = game.get_location_data(refresh_screen=True)\n",
    "    while True:\n",
    "        for target in mining_sites:\n",
    "            print(f'Navigating to {target}')\n",
    "            xy = location_df.loc[location_df['Name'] == target, 'click_target'].values[0]\n",
    "            pyautogui.moveTo(xy)\n",
    "            time.sleep(0.1)\n",
    "            pyautogui.click(button='right')\n",
    "            time.sleep(0.1)\n",
    "            pyautogui.moveTo(xy[0] + 50, xy[1] + 25)\n",
    "            time.sleep(0.1)\n",
    "            pyautogui.click(button='left')\n",
    "            time.sleep(0.1)\n",
    "            pyautogui.moveTo(1, 1)\n",
    "            time.sleep(60)\n",
    "\n",
    "            print('scanning...')\n",
    "            pyautogui.moveTo(get_processed_cords(config['scanner_button_x'], config['scanner_button_y']))\n",
    "            time.sleep(0.1)\n",
    "            pyautogui.click(button='left')\n",
    "            time.sleep(7)\n",
    "            scan_df = game.get_survey_scan_data(refresh_screen=True, extract_type='bool')\n",
    "            if len(scan_df[scan_df['Quantity']==True]) >= 2:\n",
    "                return target\n",
    "        if ~keep_finding:\n",
    "            print('keep_finding = False, sending Home.')\n",
    "            target = 'Home'\n",
    "            print(f'Navigating to {target}')\n",
    "            xy = location_df.loc[location_df['Name'] == target, 'click_target'].values[0]\n",
    "            pyautogui.moveTo(xy)\n",
    "            time.sleep(0.1)\n",
    "            pyautogui.click(button='right')\n",
    "            time.sleep(0.1)\n",
    "            pyautogui.moveTo(xy[0] + 50, xy[1] + 25)\n",
    "            time.sleep(0.1)\n",
    "            pyautogui.click(button='left')\n",
    "            time.sleep(0.1)\n",
    "            pyautogui.moveTo(1, 1)\n",
    "            time.sleep(60)\n",
    "            print('Unable to locate Ore, Done...')\n",
    "            return    "
   ]
  },
  {
   "cell_type": "code",
   "execution_count": 6,
   "id": "855e0ea1-3bb3-4fa2-ab0a-37ee0907c1fe",
   "metadata": {},
   "outputs": [],
   "source": [
    "#game.get_survey_scan_data(refresh_screen=True, extract_type='bool')"
   ]
  },
  {
   "cell_type": "code",
   "execution_count": 14,
   "id": "96b3e742-41b1-441f-acce-db8cd3261b67",
   "metadata": {},
   "outputs": [
    {
     "name": "stdout",
     "output_type": "stream",
     "text": [
      "Navigating to Site One Alpha\n",
      "scanning...\n"
     ]
    },
    {
     "data": {
      "text/plain": [
       "'Site One Alpha'"
      ]
     },
     "execution_count": 14,
     "metadata": {},
     "output_type": "execute_result"
    }
   ],
   "source": [
    "find_Mining_spot()"
   ]
  },
  {
   "cell_type": "code",
   "execution_count": 9,
   "id": "867c81e7-6653-4d3d-92f3-9801b6c7b58a",
   "metadata": {},
   "outputs": [],
   "source": [
    "def mine_till_full():\n",
    "    while True:\n",
    "        cargo_percent = game.get_cargo_data(refresh_screen=True)\n",
    "        print(f'Cargo {cargo_percent:.2f}')\n",
    "        if cargo_percent > 0.9:\n",
    "            target = 'Home'\n",
    "            location_df = game.get_location_data(refresh_screen=True)\n",
    "            print(f'Navigating to {target}')\n",
    "            xy = location_df.loc[location_df['Name'] == target, 'click_target'].values[0]\n",
    "            pyautogui.moveTo(xy)\n",
    "            time.sleep(0.1)\n",
    "            pyautogui.click(button='right')\n",
    "            time.sleep(0.1)\n",
    "            pyautogui.moveTo(xy[0] + 50, xy[1] + 25)\n",
    "            time.sleep(0.1)\n",
    "            pyautogui.click(button='left')\n",
    "            time.sleep(0.1)\n",
    "            pyautogui.moveTo(1, 1)\n",
    "            time.sleep(60)\n",
    "            break\n",
    "        scan_df = game.get_survey_scan_data(refresh_screen=True, extract_type='bool')\n",
    "        snap_df = scan_df[scan_df['Quantity'] == True][0:2]\n",
    "        snap_df = snap_df[~snap_df['Locked'] == True]\n",
    "        indicies = snap_df.index\n",
    "        if len(indicies) == 2:\n",
    "            print('starting 2x...')\n",
    "            for i in indicies:\n",
    "                pyautogui.moveTo(scan_df.loc[i, 'click_target'])\n",
    "                time.sleep(0.1)\n",
    "                pyautogui.keyDown('ctrl')\n",
    "                time.sleep(0.1)\n",
    "                pyautogui.click()\n",
    "                time.sleep(0.1)\n",
    "                pyautogui.keyUp('ctrl')\n",
    "                time.sleep(1)\n",
    "            time.sleep(4)\n",
    "            xy=None\n",
    "            for i, index in enumerate(indicies):\n",
    "                xy = scan_df.loc[index, 'click_target']\n",
    "                pyautogui.moveTo(xy)\n",
    "                time.sleep(0.1)\n",
    "                pyautogui.click()\n",
    "                time.sleep(0.1)\n",
    "                pyautogui.press(f'f{i + 1}')\n",
    "                time.sleep(1)\n",
    "            xy = (1, 1)\n",
    "            pyautogui.moveTo(xy)\n",
    "            print('started...')\n",
    "            time.sleep(175)    \n",
    "        else:\n",
    "            print('skipping...')\n",
    "            time.sleep(175)           "
   ]
  },
  {
   "cell_type": "code",
   "execution_count": 10,
   "id": "7598de42-cbde-4ad9-aa2d-2e085844eef8",
   "metadata": {},
   "outputs": [
    {
     "name": "stdout",
     "output_type": "stream",
     "text": [
      "Navigating to Site One Alpha\n",
      "scanning...\n",
      "Cargo 0.93\n",
      "Navigating to Home\n"
     ]
    },
    {
     "ename": "NameError",
     "evalue": "name 'monitor_x_offset' is not defined",
     "output_type": "error",
     "traceback": [
      "\u001b[1;31m---------------------------------------------------------------------------\u001b[0m",
      "\u001b[1;31mNameError\u001b[0m                                 Traceback (most recent call last)",
      "Cell \u001b[1;32mIn[10], line 5\u001b[0m\n\u001b[0;32m      2\u001b[0m find_Mining_spot()\n\u001b[0;32m      3\u001b[0m mine_till_full()\n\u001b[1;32m----> 5\u001b[0m pyautogui\u001b[38;5;241m.\u001b[39mmoveTo(\u001b[38;5;241m300\u001b[39m \u001b[38;5;241m-\u001b[39m \u001b[43mmonitor_x_offset\u001b[49m, \u001b[38;5;241m626\u001b[39m \u001b[38;5;241m-\u001b[39m monitor_y_offset)\n\u001b[0;32m      6\u001b[0m time\u001b[38;5;241m.\u001b[39msleep(\u001b[38;5;241m0.1\u001b[39m)\n\u001b[0;32m      7\u001b[0m pyautogui\u001b[38;5;241m.\u001b[39mdragTo(\u001b[38;5;241m790\u001b[39m \u001b[38;5;241m-\u001b[39m monitor_x_offset, \u001b[38;5;241m913\u001b[39m \u001b[38;5;241m-\u001b[39m monitor_y_offset, \u001b[38;5;241m1\u001b[39m,  button\u001b[38;5;241m=\u001b[39m\u001b[38;5;124m'\u001b[39m\u001b[38;5;124mleft\u001b[39m\u001b[38;5;124m'\u001b[39m)\n",
      "\u001b[1;31mNameError\u001b[0m: name 'monitor_x_offset' is not defined"
     ]
    }
   ],
   "source": [
    "while True:\n",
    "    find_Mining_spot()\n",
    "    mine_till_full()\n",
    "    \n",
    "    pyautogui.moveTo(get_processed_cords(300,626))\n",
    "    time.sleep(0.1)\n",
    "    pyautogui.dragTo(get_processed_cords(790,913), 1,  button='left')\n",
    "    time.sleep(0.1)\n",
    "    pyautogui.moveTo(get_processed_cords(336,672))\n",
    "    time.sleep(0.1)\n",
    "    pyautogui.dragTo(get_processed_cords(182,811), 1,  button='left')\n",
    "    time.sleep(0.1)\n",
    "    pyautogui.moveTo(get_processed_cords(1757,378))\n",
    "    time.sleep(0.1)\n",
    "    pyautogui.click(button='left')\n",
    "\n",
    "    time.sleep(60)"
   ]
  },
  {
   "cell_type": "code",
   "execution_count": null,
   "id": "fb6ebe13-fa5b-45af-8c67-70cf93848a90",
   "metadata": {},
   "outputs": [],
   "source": []
  }
 ],
 "metadata": {
  "kernelspec": {
   "display_name": "Python 3 (ipykernel)",
   "language": "python",
   "name": "python3"
  },
  "language_info": {
   "codemirror_mode": {
    "name": "ipython",
    "version": 3
   },
   "file_extension": ".py",
   "mimetype": "text/x-python",
   "name": "python",
   "nbconvert_exporter": "python",
   "pygments_lexer": "ipython3",
   "version": "3.10.9"
  }
 },
 "nbformat": 4,
 "nbformat_minor": 5
}
