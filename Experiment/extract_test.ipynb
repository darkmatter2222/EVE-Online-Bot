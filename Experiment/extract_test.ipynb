{
 "cells": [
  {
   "cell_type": "code",
   "execution_count": 1,
   "id": "a3839a91-97c4-4e47-b7c3-9da79c1d94ae",
   "metadata": {},
   "outputs": [],
   "source": [
    "import sys, os, decimal, json\n",
    "sys.path.append(os.path.realpath('..'))\n",
    "\n",
    "from MiningBot.EveInterface.Interface import Interface\n",
    "import json, time\n",
    "import pyautogui"
   ]
  },
  {
   "cell_type": "code",
   "execution_count": 2,
   "id": "48eaea2b-e81e-42d9-b7b1-0c26d516400e",
   "metadata": {},
   "outputs": [],
   "source": [
    "config_dir = r'../MiningBot/Configs/configs.json'\n",
    "config = json.load(open(config_dir))\n",
    "game = Interface(config_dir=config_dir)"
   ]
  },
  {
   "cell_type": "code",
   "execution_count": 3,
   "id": "1439ed7f-b9db-4de2-b150-3c47af21246f",
   "metadata": {},
   "outputs": [],
   "source": [
    "def get_processed_cords(x, y):\n",
    "    return x + config['monitor_offset_x'], y + config['monitor_offset_y']"
   ]
  },
  {
   "cell_type": "code",
   "execution_count": 4,
   "id": "4e01f7dd-3f58-4628-af84-d84abdb6cb51",
   "metadata": {},
   "outputs": [],
   "source": [
    "# existing station...\n",
    "\n",
    "resource_map = {}\n",
    "\n",
    "def perform_mapping():\n",
    "    global resource_map\n",
    "    targets = ['Site One Alpha', 'Site Two Alpha', 'Site Three Alpha']\n",
    "    df = game.get_location_data(refresh_screen=True)\n",
    "    print(df)\n",
    "    for target in targets:\n",
    "        try:\n",
    "            print(f'Navigating to {target}')\n",
    "            xy = df.loc[df['Name'] == target, 'click_target'].values[0]\n",
    "            pyautogui.moveTo(xy)\n",
    "            time.sleep(0.1)\n",
    "            pyautogui.click(button='right')\n",
    "            time.sleep(0.1)\n",
    "            pyautogui.moveTo(xy[0] + 50, xy[1] + 25)\n",
    "            time.sleep(0.1)\n",
    "            pyautogui.click(button='left')\n",
    "            time.sleep(0.1)\n",
    "            pyautogui.moveTo(1, 1)\n",
    "            time.sleep(60)\n",
    "\n",
    "            print('scanning...')\n",
    "            pyautogui.moveTo(get_processed_cords(config['scanner_button_x'], config['scanner_button_y']))\n",
    "            time.sleep(0.1)\n",
    "            pyautogui.click(button='left')\n",
    "            time.sleep(7)\n",
    "            resource_map[target] = game.get_survey_scan_data(refresh_screen=True, extract_type='bool')\n",
    "            print(f'Data Collected!')\n",
    "        except Exception as e:\n",
    "            print(e)"
   ]
  },
  {
   "cell_type": "code",
   "execution_count": 11,
   "id": "a836150b-a128-4ac7-bc31-5ff1913a5570",
   "metadata": {},
   "outputs": [],
   "source": [
    "mining_sites = ['Site One Alpha', 'Site Two Alpha', 'Site Three Alpha']\n",
    "def find_Mining_spot(keep_finding = True):\n",
    "    location_df = game.get_location_data(refresh_screen=True)\n",
    "    while True:\n",
    "        for target in mining_sites:\n",
    "            print(f'Navigating to {target}')\n",
    "            xy = location_df.loc[location_df['Name'] == target, 'click_target'].values[0]\n",
    "            pyautogui.moveTo(xy)\n",
    "            time.sleep(0.1)\n",
    "            pyautogui.click(button='right')\n",
    "            time.sleep(0.1)\n",
    "            pyautogui.moveTo(xy[0] + 50, xy[1] + 25)\n",
    "            time.sleep(0.1)\n",
    "            pyautogui.click(button='left')\n",
    "            time.sleep(0.1)\n",
    "            pyautogui.moveTo(1, 1)\n",
    "            time.sleep(60)\n",
    "\n",
    "            print('scanning...')\n",
    "            pyautogui.moveTo(get_processed_cords(config['scanner_button_x'], config['scanner_button_y']))\n",
    "            time.sleep(0.1)\n",
    "            pyautogui.click(button='left')\n",
    "            time.sleep(7)\n",
    "            scan_df = game.get_survey_scan_data(refresh_screen=True, extract_type='bool')\n",
    "            if len(scan_df[scan_df['Quantity']==True]) >= 2:\n",
    "                return target\n",
    "        if ~keep_finding:\n",
    "            print('keep_finding = False, sending Home.')\n",
    "            target = 'Home'\n",
    "            print(f'Navigating to {target}')\n",
    "            xy = location_df.loc[location_df['Name'] == target, 'click_target'].values[0]\n",
    "            pyautogui.moveTo(xy)\n",
    "            time.sleep(0.1)\n",
    "            pyautogui.click(button='right')\n",
    "            time.sleep(0.1)\n",
    "            pyautogui.moveTo(xy[0] + 50, xy[1] + 25)\n",
    "            time.sleep(0.1)\n",
    "            pyautogui.click(button='left')\n",
    "            time.sleep(0.1)\n",
    "            pyautogui.moveTo(1, 1)\n",
    "            time.sleep(60)\n",
    "            print('Unable to locate Ore, Done...')\n",
    "            return    "
   ]
  },
  {
   "cell_type": "code",
   "execution_count": 12,
   "id": "855e0ea1-3bb3-4fa2-ab0a-37ee0907c1fe",
   "metadata": {},
   "outputs": [],
   "source": [
    "#game.get_survey_scan_data(refresh_screen=True, extract_type='bool')"
   ]
  },
  {
   "cell_type": "code",
   "execution_count": 13,
   "id": "96b3e742-41b1-441f-acce-db8cd3261b67",
   "metadata": {},
   "outputs": [
    {
     "name": "stdout",
     "output_type": "stream",
     "text": [
      "Navigating to Site One Alpha\n",
      "scanning...\n"
     ]
    },
    {
     "data": {
      "text/plain": [
       "'Site One Alpha'"
      ]
     },
     "execution_count": 13,
     "metadata": {},
     "output_type": "execute_result"
    }
   ],
   "source": [
    "find_Mining_spot()"
   ]
  },
  {
   "cell_type": "code",
   "execution_count": 9,
   "id": "867c81e7-6653-4d3d-92f3-9801b6c7b58a",
   "metadata": {},
   "outputs": [
    {
     "data": {
      "text/html": [
       "<div>\n",
       "<style scoped>\n",
       "    .dataframe tbody tr th:only-of-type {\n",
       "        vertical-align: middle;\n",
       "    }\n",
       "\n",
       "    .dataframe tbody tr th {\n",
       "        vertical-align: top;\n",
       "    }\n",
       "\n",
       "    .dataframe thead th {\n",
       "        text-align: right;\n",
       "    }\n",
       "</style>\n",
       "<table border=\"1\" class=\"dataframe\">\n",
       "  <thead>\n",
       "    <tr style=\"text-align: right;\">\n",
       "      <th></th>\n",
       "      <th>Locked</th>\n",
       "      <th>Ore</th>\n",
       "      <th>Quantity</th>\n",
       "      <th>Volume</th>\n",
       "      <th>Distance</th>\n",
       "      <th>click_target</th>\n",
       "    </tr>\n",
       "  </thead>\n",
       "  <tbody>\n",
       "    <tr>\n",
       "      <th>1</th>\n",
       "      <td>False</td>\n",
       "      <td>True</td>\n",
       "      <td>True</td>\n",
       "      <td>True</td>\n",
       "      <td>True</td>\n",
       "      <td>(-578, 660)</td>\n",
       "    </tr>\n",
       "    <tr>\n",
       "      <th>2</th>\n",
       "      <td>False</td>\n",
       "      <td>True</td>\n",
       "      <td>True</td>\n",
       "      <td>True</td>\n",
       "      <td>True</td>\n",
       "      <td>(-578, 687)</td>\n",
       "    </tr>\n",
       "    <tr>\n",
       "      <th>3</th>\n",
       "      <td>False</td>\n",
       "      <td>True</td>\n",
       "      <td>True</td>\n",
       "      <td>True</td>\n",
       "      <td>True</td>\n",
       "      <td>(-578, 713)</td>\n",
       "    </tr>\n",
       "    <tr>\n",
       "      <th>4</th>\n",
       "      <td>False</td>\n",
       "      <td>True</td>\n",
       "      <td>True</td>\n",
       "      <td>True</td>\n",
       "      <td>True</td>\n",
       "      <td>(-578, 739)</td>\n",
       "    </tr>\n",
       "    <tr>\n",
       "      <th>5</th>\n",
       "      <td>False</td>\n",
       "      <td>True</td>\n",
       "      <td>True</td>\n",
       "      <td>True</td>\n",
       "      <td>True</td>\n",
       "      <td>(-578, 766)</td>\n",
       "    </tr>\n",
       "  </tbody>\n",
       "</table>\n",
       "</div>"
      ],
      "text/plain": [
       "   Locked   Ore  Quantity  Volume  Distance click_target\n",
       "1   False  True      True    True      True  (-578, 660)\n",
       "2   False  True      True    True      True  (-578, 687)\n",
       "3   False  True      True    True      True  (-578, 713)\n",
       "4   False  True      True    True      True  (-578, 739)\n",
       "5   False  True      True    True      True  (-578, 766)"
      ]
     },
     "execution_count": 9,
     "metadata": {},
     "output_type": "execute_result"
    }
   ],
   "source": [
    "len(df[df['Quantity']==True])>1"
   ]
  },
  {
   "cell_type": "code",
   "execution_count": null,
   "id": "7598de42-cbde-4ad9-aa2d-2e085844eef8",
   "metadata": {},
   "outputs": [],
   "source": []
  }
 ],
 "metadata": {
  "kernelspec": {
   "display_name": "Python 3 (ipykernel)",
   "language": "python",
   "name": "python3"
  },
  "language_info": {
   "codemirror_mode": {
    "name": "ipython",
    "version": 3
   },
   "file_extension": ".py",
   "mimetype": "text/x-python",
   "name": "python",
   "nbconvert_exporter": "python",
   "pygments_lexer": "ipython3",
   "version": "3.10.9"
  }
 },
 "nbformat": 4,
 "nbformat_minor": 5
}
