{
 "cells": [
  {
   "cell_type": "code",
   "execution_count": 1,
   "id": "988a2986-3d63-43e0-ad79-9cccc61400bd",
   "metadata": {},
   "outputs": [],
   "source": [
    "import numpy as np\n",
    "import ctypes\n",
    "import pyautogui\n",
    "\n",
    "from PIL import Image, ImageDraw\n",
    "import decimal\n",
    "\n",
    "from pytesseract import pytesseract\n",
    "import pandas as pd\n",
    "from tqdm import tqdm\n",
    "import time"
   ]
  },
  {
   "cell_type": "code",
   "execution_count": 2,
   "id": "7627e52d-bf52-4d4f-9053-37d0c9c3a67a",
   "metadata": {},
   "outputs": [],
   "source": [
    "user32 = ctypes.windll.user32\n",
    "screenSize = user32.GetSystemMetrics(0), user32.GetSystemMetrics(1)\n",
    "centerPoint = tuple(i/2 for i in screenSize)\n",
    "monitor_width = screenSize[0]\n",
    "monitor_height = screenSize[1]"
   ]
  },
  {
   "cell_type": "code",
   "execution_count": 3,
   "id": "150cf050-e8de-4bca-a5f2-aeb46938827e",
   "metadata": {},
   "outputs": [],
   "source": [
    "def drange(x, y, jump):\n",
    "    while x < y:\n",
    "        yield float(x)\n",
    "        x += decimal.Decimal(jump)\n",
    "        \n",
    "def cell_dims(x1, y1, x2, y2):\n",
    "    return x1, y1, x2 - x1, y2 - y1\n",
    "\n",
    "def cell_dims_from_list(list_onbj):\n",
    "    return cell_dims(list_onbj[0], list_onbj[1], list_onbj[2], list_onbj[3])"
   ]
  },
  {
   "cell_type": "code",
   "execution_count": 4,
   "id": "abcb92b7-a8fa-4583-b999-3b1b20be15d2",
   "metadata": {},
   "outputs": [],
   "source": [
    "def process():\n",
    "    full_screen_image = pyautogui.screenshot(region=(0, 0, monitor_width, monitor_height))\n",
    "    survey_scan_results_box = [1610, 1076, 2050, 1332] #x,y Top Left ,x,y Bottom Right\n",
    "    \n",
    "    space = (survey_scan_results_box[3] - survey_scan_results_box[1]) / 12\n",
    "    row_points= list(drange(survey_scan_results_box[1], survey_scan_results_box[3], f'{space}'))\n",
    "    final_row_points = list(np.rint(np.asarray(row_points)).astype(int))\n",
    "    \n",
    "    col_delta = survey_scan_results_box[2] - survey_scan_results_box[0]\n",
    "    cols_points =  [col_delta * .05, col_delta * .45, col_delta * .15, col_delta * .18]\n",
    "\n",
    "    temp_list = []\n",
    "\n",
    "    for i in range(len(cols_points)):\n",
    "        this_int = survey_scan_results_box[0]\n",
    "        for j in range(i + 1):\n",
    "            this_int += cols_points[j]\n",
    "        temp_list.append(this_int)\n",
    "\n",
    "    final_col_points = np.array(temp_list)\n",
    "\n",
    "    final_col_points = list(np.rint(final_col_points).astype(int))\n",
    "    final_col_points = [survey_scan_results_box[0]] + final_col_points + [survey_scan_results_box[2]]\n",
    "    \n",
    "    x_range = final_col_points\n",
    "    y_range = final_row_points\n",
    "\n",
    "    cells = {}\n",
    "\n",
    "    for i, x in enumerate(x_range):\n",
    "        for j, y in enumerate(y_range):\n",
    "            try:\n",
    "                cells[i, j] = tuple([x, y, x + x_range[i+1], y + y_range[j+1]])\n",
    "            except:\n",
    "                pass\n",
    "            \n",
    "    frames = []\n",
    "    columns = ['Locked', 'Ore', 'Quantity', 'Volume', 'Distance', 'click_target']\n",
    "    for i in tqdm(range(12)):\n",
    "        frame = {}\n",
    "        for j in range(0, 5):\n",
    "            cell = cell_dims_from_list(list(cells[j, i]))\n",
    "            cell_image = full_screen_image.crop(cell)\n",
    "\n",
    "            transcript = pytesseract.image_to_string(cell_image, lang='eng')\n",
    "\n",
    "            frame[columns[j]] = transcript.replace('\\n','').replace('+','').replace('>','').replace('k m', ' km')\n",
    "        frame['click_target'] = (cells[1, i][0] + 10, cells[1, i][1] + 10) # offset by 10x10 pixels\n",
    "        frames.append(frame)\n",
    "    df = pd.DataFrame(frames, columns=columns)\n",
    "    df.loc[df['Locked'] != '', 'Locked'] = '><'\n",
    "    return df"
   ]
  },
  {
   "cell_type": "raw",
   "id": "53a9c181-ec7a-4cb5-be20-a9cd4f6ed43a",
   "metadata": {
    "jupyter": {
     "source_hidden": true
    },
    "tags": []
   },
   "source": [
    "full_screen_image_copy = full_screen_image.copy()\n",
    "img1 = ImageDraw.Draw(full_screen_image_copy)  \n",
    "\n",
    "# box\n",
    "img1.line([survey_scan_results_box[0], survey_scan_results_box[1], survey_scan_results_box[0], survey_scan_results_box[3]], fill =\"red\", width = 5)\n",
    "img1.line([survey_scan_results_box[0], survey_scan_results_box[3], survey_scan_results_box[2], survey_scan_results_box[3]], fill =\"red\", width = 5)\n",
    "img1.line([survey_scan_results_box[2], survey_scan_results_box[3],survey_scan_results_box[2], survey_scan_results_box[1]], fill =\"red\", width = 5)\n",
    "img1.line([survey_scan_results_box[2], survey_scan_results_box[1],survey_scan_results_box[0], survey_scan_results_box[1]], fill =\"red\", width = 5)\n",
    "# rows\n",
    "for i in final_row_points:\n",
    "    img1.line([survey_scan_results_box[0], i, survey_scan_results_box[2], i], fill=\"#ff6600\", width=1)\n",
    "# cols\n",
    "for i in final_col_points:\n",
    "    img1.line([i, survey_scan_results_box[1], i, survey_scan_results_box[3]], fill=\"#ff6600\", width=1)\n",
    "\n",
    "\n",
    "full_screen_image_copy.crop(survey_scan_results_box)"
   ]
  },
  {
   "cell_type": "markdown",
   "id": "0f1a90be-2f45-41a5-a068-f1f291cd8ee6",
   "metadata": {},
   "source": [
    "# Models\n",
    "https://github.com/tesseract-ocr/tessdata_best/blob/main/eng.traineddata  \n",
    "C:\\Program Files\\Tesseract-OCR\\tessdata"
   ]
  },
  {
   "cell_type": "code",
   "execution_count": null,
   "id": "c07ea4d0-1e8d-4458-b2c8-00dd3ba615d6",
   "metadata": {},
   "outputs": [
    {
     "name": "stdout",
     "output_type": "stream",
     "text": [
      "checking...\n"
     ]
    },
    {
     "name": "stderr",
     "output_type": "stream",
     "text": [
      " 42%|██████████████████████████████████▌                                                | 5/12 [00:03<00:04,  1.53it/s]"
     ]
    }
   ],
   "source": [
    "time.sleep(0.5)\n",
    "\n",
    "for l in range(100):\n",
    "    print('checking...')\n",
    "    df = process()\n",
    "    snap_df = df[df['Quantity'].str.len()>0][0:2]\n",
    "    snap_df = snap_df[~snap_df['Locked'].str.contains('><')]\n",
    "    indicies = snap_df.index\n",
    "    if len(indicies) == 2:\n",
    "        print('starting 2x...')\n",
    "        for i in indicies:\n",
    "            pyautogui.moveTo(df.loc[i, 'click_target'])\n",
    "            time.sleep(0.1)\n",
    "            pyautogui.keyDown('ctrl')\n",
    "            time.sleep(0.1)\n",
    "            pyautogui.click()\n",
    "            time.sleep(0.1)\n",
    "            pyautogui.keyUp('ctrl')\n",
    "            time.sleep(0.5)\n",
    "        time.sleep(3)\n",
    "        xy=None\n",
    "        for i, index in enumerate(indicies):\n",
    "            xy = df.loc[index, 'click_target']\n",
    "            pyautogui.moveTo(xy)\n",
    "            time.sleep(0.1)\n",
    "            pyautogui.click()\n",
    "            time.sleep(0.1)\n",
    "            pyautogui.press(f'f{i + 1}')\n",
    "            time.sleep(0.5)\n",
    "        xy = (xy[0], xy[1]-200)\n",
    "        pyautogui.moveTo(xy)\n",
    "        print('started...')\n",
    "        time.sleep(175)\n",
    "    else:\n",
    "        print('skipping...')\n",
    "        time.sleep(10)"
   ]
  },
  {
   "cell_type": "code",
   "execution_count": null,
   "id": "09604ae9-4311-4004-8d58-589ecfe56e05",
   "metadata": {},
   "outputs": [],
   "source": []
  }
 ],
 "metadata": {
  "kernelspec": {
   "display_name": "Python 3 (ipykernel)",
   "language": "python",
   "name": "python3"
  },
  "language_info": {
   "codemirror_mode": {
    "name": "ipython",
    "version": 3
   },
   "file_extension": ".py",
   "mimetype": "text/x-python",
   "name": "python",
   "nbconvert_exporter": "python",
   "pygments_lexer": "ipython3",
   "version": "3.10.9"
  }
 },
 "nbformat": 4,
 "nbformat_minor": 5
}
