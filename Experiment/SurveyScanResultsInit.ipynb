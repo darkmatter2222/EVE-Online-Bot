{
 "cells": [
  {
   "cell_type": "code",
   "execution_count": 1,
   "id": "988a2986-3d63-43e0-ad79-9cccc61400bd",
   "metadata": {},
   "outputs": [],
   "source": [
    "import numpy as np\n",
    "import ctypes\n",
    "import pyautogui\n",
    "\n",
    "from PIL import Image, ImageDraw\n",
    "import decimal\n",
    "\n",
    "from pytesseract import pytesseract\n",
    "import pandas as pd\n",
    "from tqdm import tqdm\n",
    "import time\n",
    "import mss\n",
    "import mss.tools\n",
    "from screeninfo import get_monitors"
   ]
  },
  {
   "cell_type": "code",
   "execution_count": 2,
   "id": "86875755-1e63-470a-ba3b-db9a42831b7b",
   "metadata": {},
   "outputs": [],
   "source": [
    "monitor_x_offset = 1920\n",
    "monitor_y_offset = -7"
   ]
  },
  {
   "cell_type": "code",
   "execution_count": 34,
   "id": "150cf050-e8de-4bca-a5f2-aeb46938827e",
   "metadata": {},
   "outputs": [],
   "source": [
    "def get_screen():\n",
    "    img = None\n",
    "    with mss.mss() as sct:\n",
    "        # Get information of monitor 2\n",
    "        monitor_number = 2\n",
    "        mon = sct.monitors[monitor_number]\n",
    "\n",
    "        # The screen part to capture\n",
    "        monitor = {\n",
    "            \"top\": mon[\"top\"],\n",
    "            \"left\": mon[\"left\"],\n",
    "            \"width\": mon[\"width\"],\n",
    "            \"height\": mon[\"height\"],\n",
    "            \"mon\": monitor_number,\n",
    "        }\n",
    "        output = \"sct-mon{mon}_{top}x{left}_{width}x{height}.png\".format(**monitor)\n",
    "\n",
    "        # Grab the data\n",
    "        img = np.array(sct.grab(monitor))\n",
    "        img = Image.fromarray(img)\n",
    "        return img\n",
    "\n",
    "def drange(x, y, jump):\n",
    "    while x < y:\n",
    "        yield float(x)\n",
    "        x += decimal.Decimal(jump)\n",
    "        \n",
    "def cell_dims(x1, y1, x2, y2):\n",
    "    return x1, y1, x2 - x1, y2 - y1\n",
    "\n",
    "def cell_dims_from_list(list_onbj):\n",
    "    return cell_dims(list_onbj[0], list_onbj[1], list_onbj[2], list_onbj[3])\n",
    "\n",
    "def get_survey_scan_results_box():\n",
    "    return [1282, 612, 1842, 770] #x,y Top Left ,x,y Bottom Right\n",
    "\n",
    "def get_cargo_box():\n",
    "    return [372, 638, 630, 643] #x,y Top Left ,x,y Bottom Right\n",
    "\n",
    "def get_locations_box():\n",
    "    return [863, 135, 1326, 460] #x,y Top Left ,x,y Bottom Right\n",
    "\n",
    "def get_row_points(box = get_survey_scan_results_box(), num_of_scanned_rows = 6):\n",
    "    space = (box[3] - box[1]) / num_of_scanned_rows\n",
    "    row_points= list(drange(box[1], box[3], f'{space}'))\n",
    "    final_row_points = list(np.rint(np.asarray(row_points)).astype(int))\n",
    "    return final_row_points\n",
    "\n",
    "def get_col_points(box = get_survey_scan_results_box(), cols_points = None):\n",
    "    if cols_points == None:\n",
    "        col_delta = box[2] - box[0]\n",
    "        cols_points =  [col_delta * .05, col_delta * .45, col_delta * .15, col_delta * .18]\n",
    "\n",
    "    temp_list = []\n",
    "    for i in range(len(cols_points)):\n",
    "        this_int = box[0]\n",
    "        for j in range(i + 1):\n",
    "            this_int += cols_points[j]\n",
    "        temp_list.append(this_int)\n",
    "\n",
    "    final_col_points = np.array(temp_list)\n",
    "    final_col_points = list(np.rint(final_col_points).astype(int))\n",
    "    final_col_points = [box[0]] + final_col_points + [box[2]]\n",
    "    return final_col_points\n",
    "\n",
    "def get_cells(x_range, y_range):\n",
    "    cells = {}\n",
    "    for i, x in enumerate(x_range):\n",
    "        for j, y in enumerate(y_range):\n",
    "            try:\n",
    "                cells[i, j] = tuple([x, y, x + x_range[i+1], y + y_range[j+1]])\n",
    "            except:\n",
    "                pass\n",
    "    return cells\n",
    "\n",
    "def render_outline(img, x_range, y_range):\n",
    "    img_copy = img.copy()\n",
    "    img = ImageDraw.Draw(img_copy)  \n",
    "\n",
    "    # box\n",
    "    img.line([get_survey_scan_results_box()[0], get_survey_scan_results_box()[1], get_survey_scan_results_box()[0], get_survey_scan_results_box()[3]], fill =\"red\", width = 5)\n",
    "    img.line([get_survey_scan_results_box()[0], get_survey_scan_results_box()[3], get_survey_scan_results_box()[2], get_survey_scan_results_box()[3]], fill =\"red\", width = 5)\n",
    "    img.line([get_survey_scan_results_box()[2], get_survey_scan_results_box()[3], get_survey_scan_results_box()[2], get_survey_scan_results_box()[1]], fill =\"red\", width = 5)\n",
    "    img.line([get_survey_scan_results_box()[2], get_survey_scan_results_box()[1], get_survey_scan_results_box()[0], get_survey_scan_results_box()[1]], fill =\"red\", width = 5)\n",
    "    # rows\n",
    "    for i in y_range:\n",
    "        img.line([get_survey_scan_results_box()[0], i, get_survey_scan_results_box()[2], i], fill=\"#ff6600\", width=1)\n",
    "    # cols\n",
    "    for i in x_range:\n",
    "        img.line([i, get_survey_scan_results_box()[1], i, get_survey_scan_results_box()[3]], fill=\"#ff6600\", width=1)  \n",
    "    return img_copy\n",
    "\n",
    "def extract_values(img, cells, x_range, y_range, columns = ['Locked', 'Ore', 'Quantity', 'Volume', 'Distance', 'click_target']):\n",
    "    global monitor_x_offset\n",
    "    global monitor_y_offset\n",
    "    frames = []\n",
    "    for i in tqdm(range(len(y_range)-1)):\n",
    "        frame = {}\n",
    "        for j in range(0, len(x_range) - 1):\n",
    "            cell = cell_dims_from_list(list(cells[j, i]))\n",
    "            cell_image = img.crop(cell)\n",
    "\n",
    "            transcript = pytesseract.image_to_string(cell_image, lang='eng')\n",
    "\n",
    "            frame[columns[j]] = transcript.replace('\\n','').replace('+','').replace('>','').replace('k m', ' km').replace(',','')\n",
    "        frame['click_target'] = (cells[0, i][0] + 10 - monitor_x_offset, cells[0, i][1] + 10 - monitor_y_offset) # offset by 10x10 pixels\n",
    "        frames.append(frame)\n",
    "    df = pd.DataFrame(frames, columns=columns)\n",
    "    return df\n",
    "\n",
    "def convert_to_baw(img):\n",
    "    thresh = 140\n",
    "    fn = lambda x : 255 if x > thresh else 0\n",
    "    img = img.convert('L').point(fn, mode='1')\n",
    "    return img"
   ]
  },
  {
   "cell_type": "code",
   "execution_count": 35,
   "id": "c7a42ecf-1931-4326-8595-069e744a84bd",
   "metadata": {},
   "outputs": [
    {
     "data": {
      "image/png": "[encoded data removed]",
      "text/plain": [
       "<PIL.Image.Image image mode=1 size=560x158>"
      ]
     },
     "execution_count": 35,
     "metadata": {},
     "output_type": "execute_result"
    }
   ],
   "source": [
    "full_screen_image = get_screen()\n",
    "convert_to_baw(full_screen_image.crop(get_survey_scan_results_box()))"
   ]
  },
  {
   "cell_type": "code",
   "execution_count": 36,
   "id": "dc2f2c77-d9bb-4e63-9a79-ddfe8326667e",
   "metadata": {},
   "outputs": [
    {
     "data": {
      "image/png": "[encoded data removed]",
      "text/plain": [
       "<PIL.Image.Image image mode=RGBA size=560x158>"
      ]
     },
     "execution_count": 36,
     "metadata": {},
     "output_type": "execute_result"
    }
   ],
   "source": [
    "x_range = get_col_points()\n",
    "y_range = get_row_points()\n",
    "\n",
    "cells = get_cells(x_range, y_range)\n",
    "\n",
    "img = render_outline(full_screen_image, x_range, y_range)\n",
    "img.crop(get_survey_scan_results_box())"
   ]
  },
  {
   "cell_type": "code",
   "execution_count": null,
   "id": "a23fb0be-15e2-4bf2-afe6-10452ceda0fa",
   "metadata": {},
   "outputs": [],
   "source": []
  },
  {
   "cell_type": "code",
   "execution_count": 37,
   "id": "84193d36-6d41-42b9-96bd-0884d9fc44b4",
   "metadata": {},
   "outputs": [
    {
     "name": "stderr",
     "output_type": "stream",
     "text": [
      "100%|████████████████████████████████████████████████████████████████████████████████████| 6/6 [00:03<00:00,  1.78it/s]\n"
     ]
    },
    {
     "data": {
      "text/html": [
       "<div>\n",
       "<style scoped>\n",
       "    .dataframe tbody tr th:only-of-type {\n",
       "        vertical-align: middle;\n",
       "    }\n",
       "\n",
       "    .dataframe tbody tr th {\n",
       "        vertical-align: top;\n",
       "    }\n",
       "\n",
       "    .dataframe thead th {\n",
       "        text-align: right;\n",
       "    }\n",
       "</style>\n",
       "<table border=\"1\" class=\"dataframe\">\n",
       "  <thead>\n",
       "    <tr style=\"text-align: right;\">\n",
       "      <th></th>\n",
       "      <th>Locked</th>\n",
       "      <th>Ore</th>\n",
       "      <th>Quantity</th>\n",
       "      <th>Volume</th>\n",
       "      <th>Distance</th>\n",
       "      <th>click_target</th>\n",
       "    </tr>\n",
       "  </thead>\n",
       "  <tbody>\n",
       "    <tr>\n",
       "      <th>0</th>\n",
       "      <td></td>\n",
       "      <td>cordite [2]</td>\n",
       "      <td></td>\n",
       "      <td></td>\n",
       "      <td></td>\n",
       "      <td>(-628, 629)</td>\n",
       "    </tr>\n",
       "    <tr>\n",
       "      <th>1</th>\n",
       "      <td></td>\n",
       "      <td>Scordite</td>\n",
       "      <td>18316</td>\n",
       "      <td></td>\n",
       "      <td></td>\n",
       "      <td>(-628, 655)</td>\n",
       "    </tr>\n",
       "    <tr>\n",
       "      <th>2</th>\n",
       "      <td></td>\n",
       "      <td>Scordite</td>\n",
       "      <td>14952</td>\n",
       "      <td></td>\n",
       "      <td>8323 m</td>\n",
       "      <td>(-628, 682)</td>\n",
       "    </tr>\n",
       "    <tr>\n",
       "      <th>3</th>\n",
       "      <td></td>\n",
       "      <td>Veldspar [2]</td>\n",
       "      <td></td>\n",
       "      <td></td>\n",
       "      <td></td>\n",
       "      <td>(-628, 708)</td>\n",
       "    </tr>\n",
       "    <tr>\n",
       "      <th>4</th>\n",
       "      <td></td>\n",
       "      <td>Veldspar</td>\n",
       "      <td>47586</td>\n",
       "      <td>58 m3</td>\n",
       "      <td></td>\n",
       "      <td>(-628, 734)</td>\n",
       "    </tr>\n",
       "    <tr>\n",
       "      <th>5</th>\n",
       "      <td></td>\n",
       "      <td>Veldspar</td>\n",
       "      <td>41499</td>\n",
       "      <td></td>\n",
       "      <td>7298 m</td>\n",
       "      <td>(-628, 761)</td>\n",
       "    </tr>\n",
       "  </tbody>\n",
       "</table>\n",
       "</div>"
      ],
      "text/plain": [
       "  Locked           Ore Quantity Volume Distance click_target\n",
       "0          cordite [2]                           (-628, 629)\n",
       "1             Scordite    18316                  (-628, 655)\n",
       "2             Scordite    14952          8323 m  (-628, 682)\n",
       "3         Veldspar [2]                           (-628, 708)\n",
       "4             Veldspar    47586  58 m3           (-628, 734)\n",
       "5             Veldspar    41499          7298 m  (-628, 761)"
      ]
     },
     "execution_count": 37,
     "metadata": {},
     "output_type": "execute_result"
    }
   ],
   "source": [
    "extract_values(img, cells, x_range, y_range)"
   ]
  },
  {
   "cell_type": "code",
   "execution_count": 38,
   "id": "abcb92b7-a8fa-4583-b999-3b1b20be15d2",
   "metadata": {},
   "outputs": [],
   "source": [
    "def process():   \n",
    "    img = get_screen()\n",
    "    \n",
    "    cargo_bar = convert_to_baw(img.crop(get_cargo_box()))\n",
    "    \n",
    "    img_array = np.array(img)\n",
    "    cargo_percent_full = len(img_array[img_array==True]) / (len(img_array[img_array==True]) + len(img_array[img_array==False]))\n",
    "    print(f'Percent Cargo Full {cargo_percent_full: .2f}')\n",
    "\n",
    "    scan_x_range = get_col_points()\n",
    "    scan_y_range = get_row_points()\n",
    "    scan_cells = get_cells(scan_x_range, scan_y_range)\n",
    "    scan_df = extract_values(img, scan_cells, scan_x_range, scan_y_range)\n",
    "\n",
    "    loc_x_range = get_col_points(box = get_locations_box(), cols_points = [1])\n",
    "    loc_y_range = get_row_points(box = get_locations_box(), num_of_scanned_rows=13)\n",
    "    loc_cells = get_cells(loc_x_range[1:3], loc_y_range)\n",
    "    loc_df = extract_values(img, loc_cells, loc_x_range[1:3], loc_y_range, columns=['Name', 'click_target'])\n",
    "\n",
    "    scan_df.loc[scan_df['Locked'] != '', 'Locked'] = '><'\n",
    "    return scan_df, loc_df, cargo_percent_full"
   ]
  },
  {
   "cell_type": "code",
   "execution_count": 39,
   "id": "e20f520c-a329-42b7-9a6b-b3a5fe879850",
   "metadata": {},
   "outputs": [
    {
     "name": "stdout",
     "output_type": "stream",
     "text": [
      "Percent Cargo Full  0.50\n"
     ]
    },
    {
     "name": "stderr",
     "output_type": "stream",
     "text": [
      "100%|████████████████████████████████████████████████████████████████████████████████████| 6/6 [00:03<00:00,  1.76it/s]\n",
      "100%|██████████████████████████████████████████████████████████████████████████████████| 12/12 [00:01<00:00,  8.42it/s]\n"
     ]
    },
    {
     "data": {
      "text/plain": [
       "(  Locked              Ore Quantity   Volume Distance click_target\n",
       " 0         Ma Scordite [2]                             (-628, 629)\n",
       " 1                Scordite    18316  2747 m3           (-628, 655)\n",
       " 2                Scordite    14952  2242 m3   8323 m  (-628, 682)\n",
       " 3          a veldspar [2]                             (-628, 708)\n",
       " 4                Veldspar    47586  4758 m3   2622 m  (-628, 734)\n",
       " 5                Veldspar    41499  4149 m3   7298 m  (-628, 761),\n",
       "         Name  click_target\n",
       " 0       Home  (-1046, 152)\n",
       " 1      POS 1  (-1046, 177)\n",
       " 2      POS 1  (-1046, 202)\n",
       " 3      POS 2  (-1046, 227)\n",
       " 4      POS 2  (-1046, 252)\n",
       " 5      POS 3  (-1046, 277)\n",
       " 6      POS 3  (-1046, 302)\n",
       " 7      POS 4  (-1046, 327)\n",
       " 8   Site1 PL  (-1046, 352)\n",
       " 9   Site1 P2  (-1046, 377)\n",
       " 10  Site1 P3  (-1046, 402)\n",
       " 11  Site1 P4  (-1046, 427),\n",
       " 0.49973361747469364)"
      ]
     },
     "execution_count": 39,
     "metadata": {},
     "output_type": "execute_result"
    }
   ],
   "source": [
    "process()"
   ]
  },
  {
   "cell_type": "markdown",
   "id": "0f1a90be-2f45-41a5-a068-f1f291cd8ee6",
   "metadata": {},
   "source": [
    "# Models\n",
    "https://github.com/tesseract-ocr/tessdata_best/blob/main/eng.traineddata  \n",
    "C:\\Program Files\\Tesseract-OCR\\tessdata"
   ]
  },
  {
   "cell_type": "code",
   "execution_count": null,
   "id": "c07ea4d0-1e8d-4458-b2c8-00dd3ba615d6",
   "metadata": {},
   "outputs": [
    {
     "name": "stdout",
     "output_type": "stream",
     "text": [
      "checking...\n",
      "Percent Cargo Full  0.26\n"
     ]
    },
    {
     "name": "stderr",
     "output_type": "stream",
     "text": [
      "100%|████████████████████████████████████████████████████████████████████████████████████| 6/6 [00:03<00:00,  1.64it/s]\n"
     ]
    },
    {
     "name": "stdout",
     "output_type": "stream",
     "text": [
      "starting 2x...\n",
      "started...\n",
      "checking...\n",
      "Percent Cargo Full  0.36\n"
     ]
    },
    {
     "name": "stderr",
     "output_type": "stream",
     "text": [
      "100%|████████████████████████████████████████████████████████████████████████████████████| 6/6 [00:03<00:00,  1.73it/s]\n"
     ]
    },
    {
     "name": "stdout",
     "output_type": "stream",
     "text": [
      "starting 2x...\n",
      "started...\n"
     ]
    }
   ],
   "source": [
    "time.sleep(0.5)\n",
    "\n",
    "pyautogui.moveTo(1122 - monitor_x_offset, 900 - monitor_y_offset)\n",
    "time.sleep(0.1)\n",
    "pyautogui.click(button='left')\n",
    "\n",
    "time.sleep(7)\n",
    "\n",
    "for l in range(100):\n",
    "    print('checking...')\n",
    "    scan_df, loc_df, cargo_percent_full = process()\n",
    "    snap_df = scan_df[scan_df['Quantity'].str.len()>0][0:2]\n",
    "    snap_df = snap_df[~snap_df['Locked'].str.contains('><')]\n",
    "    indicies = snap_df.index\n",
    "    if len(indicies) == 2:\n",
    "        print('starting 2x...')\n",
    "        for i in indicies:\n",
    "            pyautogui.moveTo(scan_df.loc[i, 'click_target'])\n",
    "            time.sleep(0.1)\n",
    "            pyautogui.keyDown('ctrl')\n",
    "            time.sleep(0.1)\n",
    "            pyautogui.click()\n",
    "            time.sleep(0.1)\n",
    "            pyautogui.keyUp('ctrl')\n",
    "            time.sleep(0.5)\n",
    "        time.sleep(3)\n",
    "        xy=None\n",
    "        for i, index in enumerate(indicies):\n",
    "            xy = scan_df.loc[index, 'click_target']\n",
    "            pyautogui.moveTo(xy)\n",
    "            time.sleep(0.1)\n",
    "            pyautogui.click()\n",
    "            time.sleep(0.1)\n",
    "            pyautogui.press(f'f{i + 1}')\n",
    "            time.sleep(0.5)\n",
    "        xy = (xy[0], xy[1]-200)\n",
    "        pyautogui.moveTo(xy)\n",
    "        print('started...')\n",
    "        time.sleep(175)\n",
    "    else:\n",
    "        print('skipping...')\n",
    "        time.sleep(10)"
   ]
  },
  {
   "cell_type": "code",
   "execution_count": null,
   "id": "de717f97-6bf9-4862-a884-0f980bc53dfa",
   "metadata": {},
   "outputs": [],
   "source": []
  }
 ],
 "metadata": {
  "kernelspec": {
   "display_name": "Python 3 (ipykernel)",
   "language": "python",
   "name": "python3"
  },
  "language_info": {
   "codemirror_mode": {
    "name": "ipython",
    "version": 3
   },
   "file_extension": ".py",
   "mimetype": "text/x-python",
   "name": "python",
   "nbconvert_exporter": "python",
   "pygments_lexer": "ipython3",
   "version": "3.10.9"
  }
 },
 "nbformat": 4,
 "nbformat_minor": 5
}
