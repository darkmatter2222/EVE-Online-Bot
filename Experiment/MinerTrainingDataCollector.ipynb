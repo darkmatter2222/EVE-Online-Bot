{
 "cells": [
  {
   "cell_type": "code",
   "execution_count": 111,
   "id": "9e61fabc-5c5b-4f5e-bdbd-5af56dde64ce",
   "metadata": {},
   "outputs": [],
   "source": [
    "import sys, os, decimal, json\n",
    "sys.path.append(os.path.realpath('..'))\n",
    "\n",
    "import mss\n",
    "import mss.tools\n",
    "import socket, time, uuid\n",
    "\n",
    "import numpy as np\n",
    "import cv2\n",
    "from PIL import Image, ImageDraw"
   ]
  },
  {
   "cell_type": "code",
   "execution_count": 49,
   "id": "8b7cfaa1-2d54-47f3-8623-86ab6731bf94",
   "metadata": {},
   "outputs": [],
   "source": [
    "config_dir = r'../MiningBot/Configs/configs.json'\n",
    "config = json.load(open(config_dir))[socket.gethostname()]"
   ]
  },
  {
   "cell_type": "code",
   "execution_count": 50,
   "id": "08b8e8b7-4536-453c-aae5-ef943093204d",
   "metadata": {},
   "outputs": [],
   "source": [
    "def get_screen():\n",
    "    with mss.mss() as sct:\n",
    "        mon = sct.monitors[config['monitor_number']]\n",
    "\n",
    "        # The screen part to capture\n",
    "        monitor = {\n",
    "            \"top\": mon[\"top\"],\n",
    "            \"left\": mon[\"left\"],\n",
    "            \"width\": mon[\"width\"],\n",
    "            \"height\": mon[\"height\"],\n",
    "            \"mon\": config['monitor_number'],\n",
    "        }\n",
    "\n",
    "        # Grab the data\n",
    "        img = np.array(sct.grab(monitor))\n",
    "        img = cv2.cvtColor(img, cv2.COLOR_BGR2RGB)\n",
    "        img = Image.fromarray(img)\n",
    "        return img"
   ]
  },
  {
   "cell_type": "code",
   "execution_count": 76,
   "id": "6cb6688d-7130-4d37-8d5a-5447a38dc17a",
   "metadata": {},
   "outputs": [],
   "source": [
    "img = get_screen()"
   ]
  },
  {
   "cell_type": "code",
   "execution_count": 79,
   "id": "a9f88510-309c-4e25-9ed3-e7419e922fd9",
   "metadata": {},
   "outputs": [
    {
     "data": {
      "image/png": "[encoded data removed]",
      "text/plain": [
       "<PIL.Image.Image image mode=RGB size=130x58>"
      ]
     },
     "execution_count": 79,
     "metadata": {},
     "output_type": "execute_result"
    }
   ],
   "source": [
    "this_image = img.crop(config['miners'])\n",
    "this_image"
   ]
  },
  {
   "cell_type": "code",
   "execution_count": 86,
   "id": "93bf4ca6-2abe-4ed6-b729-f6fc95fcd5a2",
   "metadata": {},
   "outputs": [
    {
     "ename": "AttributeError",
     "evalue": "'numpy.ndarray' object has no attribute 'append'",
     "output_type": "error",
     "traceback": [
      "\u001b[1;31m---------------------------------------------------------------------------\u001b[0m",
      "\u001b[1;31mAttributeError\u001b[0m                            Traceback (most recent call last)",
      "Cell \u001b[1;32mIn[86], line 1\u001b[0m\n\u001b[1;32m----> 1\u001b[0m \u001b[43mnp\u001b[49m\u001b[38;5;241;43m.\u001b[39;49m\u001b[43marray\u001b[49m\u001b[43m(\u001b[49m\u001b[43mthis_image\u001b[49m\u001b[43m)\u001b[49m\u001b[43m[\u001b[49m\u001b[38;5;241;43m0\u001b[39;49m\u001b[43m]\u001b[49m\u001b[38;5;241;43m.\u001b[39;49m\u001b[43mappend\u001b[49m(this_image[\u001b[38;5;241m0\u001b[39m])\n",
      "\u001b[1;31mAttributeError\u001b[0m: 'numpy.ndarray' object has no attribute 'append'"
     ]
    }
   ],
   "source": [
    "np.array(this_image)[0].append(this_image[0])"
   ]
  },
  {
   "cell_type": "code",
   "execution_count": 89,
   "id": "04854a2a-4a5c-4dd3-836f-a714b07973ec",
   "metadata": {},
   "outputs": [
    {
     "data": {
      "image/png": "[encoded data removed]",
      "text/plain": [
       "<PIL.Image.Image image mode=RGB size=130x174>"
      ]
     },
     "execution_count": 89,
     "metadata": {},
     "output_type": "execute_result"
    }
   ],
   "source": [
    "Image.fromarray(np.concatenate([, np.array(this_image), np.array(this_image)], axis=0))"
   ]
  },
  {
   "cell_type": "code",
   "execution_count": 123,
   "id": "fddafc93-4eaa-47f6-b9ef-fef7f4903b0d",
   "metadata": {},
   "outputs": [],
   "source": [
    "image_stack = []\n",
    "for i in range(10):\n",
    "    img = get_screen()\n",
    "    image_stack.append(np.array(img.crop(config['miners'])))\n",
    "    time.sleep(0.1)\n",
    "final_img = Image.fromarray(np.concatenate(image_stack, axis=0))\n",
    "final_img.save(fr'../training_data_miner\\Unlabeled/{uuid.uuid1()}.png')"
   ]
  },
  {
   "cell_type": "code",
   "execution_count": 118,
   "id": "2bd4d660-fbfc-489d-8ed8-a9f2fee8920d",
   "metadata": {},
   "outputs": [
    {
     "data": {
      "text/plain": [
       "UUID('01b52f2c-bab1-11ed-9911-2cf05d9fe8eb')"
      ]
     },
     "execution_count": 118,
     "metadata": {},
     "output_type": "execute_result"
    }
   ],
   "source": []
  },
  {
   "cell_type": "code",
   "execution_count": null,
   "id": "65a920e0-81c0-4d11-9a0c-42d0f42b4aa4",
   "metadata": {},
   "outputs": [],
   "source": []
  }
 ],
 "metadata": {
  "kernelspec": {
   "display_name": "Python 3 (ipykernel)",
   "language": "python",
   "name": "python3"
  },
  "language_info": {
   "codemirror_mode": {
    "name": "ipython",
    "version": 3
   },
   "file_extension": ".py",
   "mimetype": "text/x-python",
   "name": "python",
   "nbconvert_exporter": "python",
   "pygments_lexer": "ipython3",
   "version": "3.10.9"
  }
 },
 "nbformat": 4,
 "nbformat_minor": 5
}
