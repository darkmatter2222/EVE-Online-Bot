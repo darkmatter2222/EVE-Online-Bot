{
 "cells": [
  {
   "cell_type": "code",
   "execution_count": 1,
   "id": "4b66d6b6-3f50-4d52-9860-e45d5e0f4f71",
   "metadata": {},
   "outputs": [],
   "source": [
    "import sys, os, decimal, json\n",
    "sys.path.append(os.path.realpath('..'))\n",
    "import json, time\n",
    "\n",
    "from TrainingBot.ImageClassifier.ModelBuilder import build_and_train"
   ]
  },
  {
   "cell_type": "code",
   "execution_count": null,
   "id": "0e51dd3b-7554-4b7a-8bb2-702f2eaaa04a",
   "metadata": {},
   "outputs": [
    {
     "name": "stdout",
     "output_type": "stream",
     "text": [
      "395\n",
      "Found 395 files belonging to 5 classes.\n",
      "Using 316 files for training.\n",
      "Found 395 files belonging to 5 classes.\n",
      "Using 79 files for validation.\n",
      "['both_running', 'invalid', 'miner_1_running', 'miner_2_running', 'no_miners_running']\n",
      "Epoch 1/10\n",
      "316/316 [==============================] - 5s 7ms/step - loss: 1.3244 - accuracy: 0.4715 - val_loss: 0.7828 - val_accuracy: 0.6076\n",
      "Epoch 2/10\n",
      "316/316 [==============================] - 2s 7ms/step - loss: 0.1607 - accuracy: 0.9462 - val_loss: 0.0211 - val_accuracy: 1.0000\n",
      "Epoch 3/10\n",
      "316/316 [==============================] - 2s 7ms/step - loss: 0.0081 - accuracy: 1.0000 - val_loss: 0.0011 - val_accuracy: 1.0000\n",
      "Epoch 4/10\n",
      "142/316 [============>.................] - ETA: 1s - loss: 0.0154 - accuracy: 1.0000"
     ]
    }
   ],
   "source": [
    "model_name = 'mining_tool_state'\n",
    "training_root = r'O:\\source\\repos\\EVE-Online-Bot\\training_data_miner'\n",
    "\n",
    "results = build_and_train(root_image_directory=training_root, model_name=model_name)\n",
    "results"
   ]
  },
  {
   "cell_type": "code",
   "execution_count": null,
   "id": "3bce9d14-7d37-4e8b-b621-b8923c021c9d",
   "metadata": {},
   "outputs": [],
   "source": []
  }
 ],
 "metadata": {
  "kernelspec": {
   "display_name": "Python 3 (ipykernel)",
   "language": "python",
   "name": "python3"
  },
  "language_info": {
   "codemirror_mode": {
    "name": "ipython",
    "version": 3
   },
   "file_extension": ".py",
   "mimetype": "text/x-python",
   "name": "python",
   "nbconvert_exporter": "python",
   "pygments_lexer": "ipython3",
   "version": "3.10.9"
  }
 },
 "nbformat": 4,
 "nbformat_minor": 5
}
